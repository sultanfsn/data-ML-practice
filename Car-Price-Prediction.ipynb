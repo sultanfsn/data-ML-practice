{
  "nbformat": 4,
  "nbformat_minor": 0,
  "metadata": {
    "colab": {
      "provenance": []
    },
    "kernelspec": {
      "display_name": "Python 3",
      "language": "python",
      "name": "python3"
    },
    "language_info": {
      "codemirror_mode": {
        "name": "ipython",
        "version": 3
      },
      "file_extension": ".py",
      "mimetype": "text/x-python",
      "name": "python",
      "nbconvert_exporter": "python",
      "pygments_lexer": "ipython3",
      "version": "3.8.1"
    }
  },
  "cells": [
    {
      "cell_type": "markdown",
      "metadata": {
        "id": "TKTOBclz75se"
      },
      "source": [
        "<center>\n",
        "<img src=\"https://drive.google.com/uc?id=1f1gGVI-rxcHjA90WEGNvvtSXF1pAxQwg\" alt=\"Fasilkom UI\" width=\"300\"/>\n",
        "\n",
        "CSGE603130 • Kecerdasan Artifisial dan Sains Data Dasar\n",
        "\n",
        "Semester Gasal 2022/2023\n",
        "\n",
        "Fakultas Ilmu Komputer, Universitas Indonesia\n",
        "\n",
        "##**Lab 3: *Data Preprocessing & Dimensionality Reduction***\n",
        "\n",
        "###**Tenggat Waktu: 24 September  2022, 23.55 WIB**\n",
        "</center>\n",
        "\n",
        "####**Ketentuan:**\n",
        "\n",
        "1. Dokumen *template* lab dengan format .ipynb dan dataset (jika dibutuhkan) telah disediakan di SCeLe\n",
        "2. Jalankan kode pada dokumen .ipynb dan perhatikan dengan saksama apa yang potongan kode tersebut lakukan beserta dengan keluarannya. Jawablah **pertanyaan yang disisipkan** pada potongan program yang diberikan.\n",
        "3. Dokumen Jupyter Notebook yang telah dilengkapi dengan jawaban dikumpulkan dengan format penamaan **Kelas_Lab3_NPM_Nama.ipynb**. Contoh: A_Lab3_2006123456_Budi.ipynb\n",
        "4. Kumpulkan dokumen tersebut pada submisi yang telah disediakan di SCeLe sesuai dengan kelas masing-masing sebelum **24 September 2022, 23.55 WIB**. Keterlambatan pengumpulan akan dikenakan pinalti.\n",
        "5. Lab ini dirancang sebagai **tugas mandiri**. Plagiarisme tidak diperkenankan dalam bentuk apapun. Adapun kolaborasi berupa diskusi (tanpa menyalin maupun mengambil jawaban orang lain) dan literasi masih diperbolehkan dengan mencantumkan kolaborator dan sumber.\n"
      ]
    },
    {
      "cell_type": "markdown",
      "metadata": {
        "id": "HloCaoZB8Hdr"
      },
      "source": [
        "## **Pernyataan Integritas**\n",
        "\n",
        "Wajib diisi. Tanpa pernyataan integritas submisi akan dikenakan pinalti."
      ]
    },
    {
      "cell_type": "code",
      "metadata": {
        "id": "hFvDp8qSz-RU"
      },
      "source": [
        "# Isi dengan data diri Anda\n",
        "NAMA = \"Sultan Fahrezy Syahdwinata Nugraha\"\n",
        "KELAS = \"C\"\n",
        "NPM = \"2006533811\"\n",
        "\n",
        "# Isi dengan NPM teman yang berdiskusi dengan Anda\n",
        "KOLABORATOR = []\n",
        "\n",
        "# Isi dengan sumber referensi yang Anda gunakan dalam mengerjakan\n",
        "REFERENSI = [\n",
        "    'https://stackoverflow.com/questions/39068214/how-to-count-outliers-for-all-columns-in-python',\n",
        "]"
      ],
      "execution_count": null,
      "outputs": []
    },
    {
      "cell_type": "code",
      "metadata": {
        "id": "y-k0CCamOkcZ",
        "colab": {
          "base_uri": "https://localhost:8080/"
        },
        "outputId": "54f8c65e-b33e-4f35-8cdd-0aacc75e1c18"
      },
      "source": [
        "PERNYATAAN_INTEGRITAS = \"Saya, %s dari kelas %s dengan NPM %s, menyatakan bahwa seluruh jawaban pada pekerjaan ini murni saya kerjakan sendiri.\\n\\\n",
        "Saya tidak mencontek jawaban, memberikan jawaban, maupun menyalin dari sumber manapun.\\n \\\n",
        "\\n\\\n",
        "Jika saya melanggar pernyataan tersebut, saya siap menerima konsekuensi apapun yang diberikan.\\n   \\\n",
        "(%s)\" % (NAMA, KELAS, NPM, NAMA)\n",
        "\n",
        "print(PERNYATAAN_INTEGRITAS)"
      ],
      "execution_count": null,
      "outputs": [
        {
          "output_type": "stream",
          "name": "stdout",
          "text": [
            "Saya, Sultan Fahrezy Syahdwinata Nugraha dari kelas C dengan NPM 2006533811, menyatakan bahwa seluruh jawaban pada pekerjaan ini murni saya kerjakan sendiri.\n",
            "Saya tidak mencontek jawaban, memberikan jawaban, maupun menyalin dari sumber manapun.\n",
            " \n",
            "Jika saya melanggar pernyataan tersebut, saya siap menerima konsekuensi apapun yang diberikan.\n",
            "   (Sultan Fahrezy Syahdwinata Nugraha)\n"
          ]
        }
      ]
    },
    {
      "cell_type": "markdown",
      "metadata": {
        "id": "b-rPY0F5Vevh"
      },
      "source": [
        "## **Preprocessing pada Car Price Dataset**\n",
        "\n",
        "Sumber: https://www.kaggle.com/datasets/hellbuoy/car-price-prediction, dengan beberapa perubahan\n"
      ]
    },
    {
      "cell_type": "markdown",
      "metadata": {
        "id": "j9pb-VsmOVFs"
      },
      "source": [
        "### **Variable Descriptions:**\n",
        "\n",
        "- `CarName`: nama jenis mobil\n",
        "- `fueltype`: jenis bahan bakar\n",
        "- `aspiration`: tipe mesin mobil (naturally aspirated atau turbo)\n",
        "- `doornumber`: jumlah pintu mobil\n",
        "- `driverwheel`: sistem kemudi roda mobil\n",
        "- `carbody`: style mobil\n",
        "- `enginelocation`: letak mesin mobil\n",
        "- `wheelbase`: jarak antar roda depan dan roda belakang mobil dalam inch\n",
        "- `carlenght`: panjang mobil\n",
        "- `carwidth`: lebar mobil\n",
        "- `enginetype`: tipe mesin mobil\n",
        "- `cylindernumber`: jumlah cylinder\n",
        "- `enginesize`: ukuran mesin\n",
        "- `fuelsystem`: sistem bahan bakar\n",
        "- `compressionratio`: rasio kompresi mobil\n",
        "- `horsepower`: horsepower mobil\n",
        "- `peakrpm`: batas rpm\n",
        "- `citympg`: mpg di kota\n",
        "- `highwaympg`: mpg di highway\n",
        "\n",
        "\n",
        "Target variable — `price`: harga mobil"
      ]
    },
    {
      "cell_type": "markdown",
      "metadata": {
        "id": "ThEcWldxOVFe"
      },
      "source": [
        "### Import Library dan Data"
      ]
    },
    {
      "cell_type": "code",
      "metadata": {
        "id": "o0LtLOPfOVFl"
      },
      "source": [
        "import pandas as pd\n",
        "import numpy as np\n",
        "\n",
        "import matplotlib.pyplot as plt\n",
        "import seaborn as sns\n",
        "import scipy.stats as scp\n",
        "\n",
        "from sklearn.preprocessing import LabelEncoder, Normalizer, StandardScaler"
      ],
      "execution_count": null,
      "outputs": []
    },
    {
      "cell_type": "code",
      "metadata": {
        "id": "jJsIcJGWOVFo",
        "colab": {
          "base_uri": "https://localhost:8080/",
          "height": 540
        },
        "outputId": "038be9c2-23e2-418c-8461-1c9eaa0b0616"
      },
      "source": [
        "car_df = pd.read_csv('car1.csv')\n",
        "car_df\n"
      ],
      "execution_count": null,
      "outputs": [
        {
          "output_type": "execute_result",
          "data": {
            "text/plain": [
              "         CarName fueltype aspiration  doornumber      carbody drivewheel  \\\n",
              "0    alfa-romero      gas        std         2.0  convertible        rwd   \n",
              "1    alfa-romero      gas        std         2.0  convertible        rwd   \n",
              "2    alfa-romero      gas        std         2.0    hatchback        rwd   \n",
              "3           audi      gas        std         4.0        sedan        fwd   \n",
              "4           audi      gas        std         4.0        sedan        4wd   \n",
              "..           ...      ...        ...         ...          ...        ...   \n",
              "155     plymouth      gas        std         4.0    hatchback        fwd   \n",
              "156     plymouth      gas        std         4.0        sedan        fwd   \n",
              "157       subaru      gas        std         4.0        sedan        NaN   \n",
              "158       subaru      gas        std         4.0        sedan        NaN   \n",
              "159       subaru      gas        std         4.0        sedan        NaN   \n",
              "\n",
              "    enginelocation  wheelbase  carlength  carwidth  ...  enginetype  \\\n",
              "0            front       88.6      168.8      64.1  ...        dohc   \n",
              "1            front       88.6      168.8      64.1  ...        dohc   \n",
              "2            front       94.5      171.2      65.5  ...        ohcv   \n",
              "3            front       99.8      176.6      66.2  ...         ohc   \n",
              "4            front       99.4      176.6      66.4  ...         ohc   \n",
              "..             ...        ...        ...       ...  ...         ...   \n",
              "155          front       93.7      157.3      63.8  ...         ohc   \n",
              "156          front       93.7      167.3      63.8  ...         ohc   \n",
              "157            NaN       97.2      172.0      65.4  ...        ohcf   \n",
              "158            NaN       97.2      172.0      65.4  ...        ohcf   \n",
              "159            NaN       97.0      172.0      65.4  ...        ohcf   \n",
              "\n",
              "     cylindernumber enginesize  fuelsystem  compressionratio horsepower  \\\n",
              "0               4.0        130        mpfi               9.0        111   \n",
              "1               4.0        130        mpfi               9.0        111   \n",
              "2               6.0        152        mpfi               9.0        154   \n",
              "3               4.0        109        mpfi              10.0        102   \n",
              "4               5.0        136        mpfi               8.0        115   \n",
              "..              ...        ...         ...               ...        ...   \n",
              "155             4.0         90        2bbl               9.4         68   \n",
              "156             4.0         90        2bbl               9.4         68   \n",
              "157             4.0        108        2bbl               9.5         82   \n",
              "158             4.0        108        mpfi               9.0         94   \n",
              "159             4.0        108        2bbl               9.0         82   \n",
              "\n",
              "     peakrpm  citympg  highwaympg    price  \n",
              "0       5000       21          27  13495.0  \n",
              "1       5000       21          27  16500.0  \n",
              "2       5000       19          26  16500.0  \n",
              "3       5500       24          30  13950.0  \n",
              "4       5500       18          22  17450.0  \n",
              "..       ...      ...         ...      ...  \n",
              "155     5500       31          38   6229.0  \n",
              "156     5500       31          38   6692.0  \n",
              "157     4400       28          33   7775.0  \n",
              "158     5200       26          32   9960.0  \n",
              "159     4800       24          25   9233.0  \n",
              "\n",
              "[160 rows x 22 columns]"
            ],
            "text/html": [
              "\n",
              "  <div id=\"df-e40b9dc1-0c28-416e-94e5-850fff68c42a\">\n",
              "    <div class=\"colab-df-container\">\n",
              "      <div>\n",
              "<style scoped>\n",
              "    .dataframe tbody tr th:only-of-type {\n",
              "        vertical-align: middle;\n",
              "    }\n",
              "\n",
              "    .dataframe tbody tr th {\n",
              "        vertical-align: top;\n",
              "    }\n",
              "\n",
              "    .dataframe thead th {\n",
              "        text-align: right;\n",
              "    }\n",
              "</style>\n",
              "<table border=\"1\" class=\"dataframe\">\n",
              "  <thead>\n",
              "    <tr style=\"text-align: right;\">\n",
              "      <th></th>\n",
              "      <th>CarName</th>\n",
              "      <th>fueltype</th>\n",
              "      <th>aspiration</th>\n",
              "      <th>doornumber</th>\n",
              "      <th>carbody</th>\n",
              "      <th>drivewheel</th>\n",
              "      <th>enginelocation</th>\n",
              "      <th>wheelbase</th>\n",
              "      <th>carlength</th>\n",
              "      <th>carwidth</th>\n",
              "      <th>...</th>\n",
              "      <th>enginetype</th>\n",
              "      <th>cylindernumber</th>\n",
              "      <th>enginesize</th>\n",
              "      <th>fuelsystem</th>\n",
              "      <th>compressionratio</th>\n",
              "      <th>horsepower</th>\n",
              "      <th>peakrpm</th>\n",
              "      <th>citympg</th>\n",
              "      <th>highwaympg</th>\n",
              "      <th>price</th>\n",
              "    </tr>\n",
              "  </thead>\n",
              "  <tbody>\n",
              "    <tr>\n",
              "      <th>0</th>\n",
              "      <td>alfa-romero</td>\n",
              "      <td>gas</td>\n",
              "      <td>std</td>\n",
              "      <td>2.0</td>\n",
              "      <td>convertible</td>\n",
              "      <td>rwd</td>\n",
              "      <td>front</td>\n",
              "      <td>88.6</td>\n",
              "      <td>168.8</td>\n",
              "      <td>64.1</td>\n",
              "      <td>...</td>\n",
              "      <td>dohc</td>\n",
              "      <td>4.0</td>\n",
              "      <td>130</td>\n",
              "      <td>mpfi</td>\n",
              "      <td>9.0</td>\n",
              "      <td>111</td>\n",
              "      <td>5000</td>\n",
              "      <td>21</td>\n",
              "      <td>27</td>\n",
              "      <td>13495.0</td>\n",
              "    </tr>\n",
              "    <tr>\n",
              "      <th>1</th>\n",
              "      <td>alfa-romero</td>\n",
              "      <td>gas</td>\n",
              "      <td>std</td>\n",
              "      <td>2.0</td>\n",
              "      <td>convertible</td>\n",
              "      <td>rwd</td>\n",
              "      <td>front</td>\n",
              "      <td>88.6</td>\n",
              "      <td>168.8</td>\n",
              "      <td>64.1</td>\n",
              "      <td>...</td>\n",
              "      <td>dohc</td>\n",
              "      <td>4.0</td>\n",
              "      <td>130</td>\n",
              "      <td>mpfi</td>\n",
              "      <td>9.0</td>\n",
              "      <td>111</td>\n",
              "      <td>5000</td>\n",
              "      <td>21</td>\n",
              "      <td>27</td>\n",
              "      <td>16500.0</td>\n",
              "    </tr>\n",
              "    <tr>\n",
              "      <th>2</th>\n",
              "      <td>alfa-romero</td>\n",
              "      <td>gas</td>\n",
              "      <td>std</td>\n",
              "      <td>2.0</td>\n",
              "      <td>hatchback</td>\n",
              "      <td>rwd</td>\n",
              "      <td>front</td>\n",
              "      <td>94.5</td>\n",
              "      <td>171.2</td>\n",
              "      <td>65.5</td>\n",
              "      <td>...</td>\n",
              "      <td>ohcv</td>\n",
              "      <td>6.0</td>\n",
              "      <td>152</td>\n",
              "      <td>mpfi</td>\n",
              "      <td>9.0</td>\n",
              "      <td>154</td>\n",
              "      <td>5000</td>\n",
              "      <td>19</td>\n",
              "      <td>26</td>\n",
              "      <td>16500.0</td>\n",
              "    </tr>\n",
              "    <tr>\n",
              "      <th>3</th>\n",
              "      <td>audi</td>\n",
              "      <td>gas</td>\n",
              "      <td>std</td>\n",
              "      <td>4.0</td>\n",
              "      <td>sedan</td>\n",
              "      <td>fwd</td>\n",
              "      <td>front</td>\n",
              "      <td>99.8</td>\n",
              "      <td>176.6</td>\n",
              "      <td>66.2</td>\n",
              "      <td>...</td>\n",
              "      <td>ohc</td>\n",
              "      <td>4.0</td>\n",
              "      <td>109</td>\n",
              "      <td>mpfi</td>\n",
              "      <td>10.0</td>\n",
              "      <td>102</td>\n",
              "      <td>5500</td>\n",
              "      <td>24</td>\n",
              "      <td>30</td>\n",
              "      <td>13950.0</td>\n",
              "    </tr>\n",
              "    <tr>\n",
              "      <th>4</th>\n",
              "      <td>audi</td>\n",
              "      <td>gas</td>\n",
              "      <td>std</td>\n",
              "      <td>4.0</td>\n",
              "      <td>sedan</td>\n",
              "      <td>4wd</td>\n",
              "      <td>front</td>\n",
              "      <td>99.4</td>\n",
              "      <td>176.6</td>\n",
              "      <td>66.4</td>\n",
              "      <td>...</td>\n",
              "      <td>ohc</td>\n",
              "      <td>5.0</td>\n",
              "      <td>136</td>\n",
              "      <td>mpfi</td>\n",
              "      <td>8.0</td>\n",
              "      <td>115</td>\n",
              "      <td>5500</td>\n",
              "      <td>18</td>\n",
              "      <td>22</td>\n",
              "      <td>17450.0</td>\n",
              "    </tr>\n",
              "    <tr>\n",
              "      <th>...</th>\n",
              "      <td>...</td>\n",
              "      <td>...</td>\n",
              "      <td>...</td>\n",
              "      <td>...</td>\n",
              "      <td>...</td>\n",
              "      <td>...</td>\n",
              "      <td>...</td>\n",
              "      <td>...</td>\n",
              "      <td>...</td>\n",
              "      <td>...</td>\n",
              "      <td>...</td>\n",
              "      <td>...</td>\n",
              "      <td>...</td>\n",
              "      <td>...</td>\n",
              "      <td>...</td>\n",
              "      <td>...</td>\n",
              "      <td>...</td>\n",
              "      <td>...</td>\n",
              "      <td>...</td>\n",
              "      <td>...</td>\n",
              "      <td>...</td>\n",
              "    </tr>\n",
              "    <tr>\n",
              "      <th>155</th>\n",
              "      <td>plymouth</td>\n",
              "      <td>gas</td>\n",
              "      <td>std</td>\n",
              "      <td>4.0</td>\n",
              "      <td>hatchback</td>\n",
              "      <td>fwd</td>\n",
              "      <td>front</td>\n",
              "      <td>93.7</td>\n",
              "      <td>157.3</td>\n",
              "      <td>63.8</td>\n",
              "      <td>...</td>\n",
              "      <td>ohc</td>\n",
              "      <td>4.0</td>\n",
              "      <td>90</td>\n",
              "      <td>2bbl</td>\n",
              "      <td>9.4</td>\n",
              "      <td>68</td>\n",
              "      <td>5500</td>\n",
              "      <td>31</td>\n",
              "      <td>38</td>\n",
              "      <td>6229.0</td>\n",
              "    </tr>\n",
              "    <tr>\n",
              "      <th>156</th>\n",
              "      <td>plymouth</td>\n",
              "      <td>gas</td>\n",
              "      <td>std</td>\n",
              "      <td>4.0</td>\n",
              "      <td>sedan</td>\n",
              "      <td>fwd</td>\n",
              "      <td>front</td>\n",
              "      <td>93.7</td>\n",
              "      <td>167.3</td>\n",
              "      <td>63.8</td>\n",
              "      <td>...</td>\n",
              "      <td>ohc</td>\n",
              "      <td>4.0</td>\n",
              "      <td>90</td>\n",
              "      <td>2bbl</td>\n",
              "      <td>9.4</td>\n",
              "      <td>68</td>\n",
              "      <td>5500</td>\n",
              "      <td>31</td>\n",
              "      <td>38</td>\n",
              "      <td>6692.0</td>\n",
              "    </tr>\n",
              "    <tr>\n",
              "      <th>157</th>\n",
              "      <td>subaru</td>\n",
              "      <td>gas</td>\n",
              "      <td>std</td>\n",
              "      <td>4.0</td>\n",
              "      <td>sedan</td>\n",
              "      <td>NaN</td>\n",
              "      <td>NaN</td>\n",
              "      <td>97.2</td>\n",
              "      <td>172.0</td>\n",
              "      <td>65.4</td>\n",
              "      <td>...</td>\n",
              "      <td>ohcf</td>\n",
              "      <td>4.0</td>\n",
              "      <td>108</td>\n",
              "      <td>2bbl</td>\n",
              "      <td>9.5</td>\n",
              "      <td>82</td>\n",
              "      <td>4400</td>\n",
              "      <td>28</td>\n",
              "      <td>33</td>\n",
              "      <td>7775.0</td>\n",
              "    </tr>\n",
              "    <tr>\n",
              "      <th>158</th>\n",
              "      <td>subaru</td>\n",
              "      <td>gas</td>\n",
              "      <td>std</td>\n",
              "      <td>4.0</td>\n",
              "      <td>sedan</td>\n",
              "      <td>NaN</td>\n",
              "      <td>NaN</td>\n",
              "      <td>97.2</td>\n",
              "      <td>172.0</td>\n",
              "      <td>65.4</td>\n",
              "      <td>...</td>\n",
              "      <td>ohcf</td>\n",
              "      <td>4.0</td>\n",
              "      <td>108</td>\n",
              "      <td>mpfi</td>\n",
              "      <td>9.0</td>\n",
              "      <td>94</td>\n",
              "      <td>5200</td>\n",
              "      <td>26</td>\n",
              "      <td>32</td>\n",
              "      <td>9960.0</td>\n",
              "    </tr>\n",
              "    <tr>\n",
              "      <th>159</th>\n",
              "      <td>subaru</td>\n",
              "      <td>gas</td>\n",
              "      <td>std</td>\n",
              "      <td>4.0</td>\n",
              "      <td>sedan</td>\n",
              "      <td>NaN</td>\n",
              "      <td>NaN</td>\n",
              "      <td>97.0</td>\n",
              "      <td>172.0</td>\n",
              "      <td>65.4</td>\n",
              "      <td>...</td>\n",
              "      <td>ohcf</td>\n",
              "      <td>4.0</td>\n",
              "      <td>108</td>\n",
              "      <td>2bbl</td>\n",
              "      <td>9.0</td>\n",
              "      <td>82</td>\n",
              "      <td>4800</td>\n",
              "      <td>24</td>\n",
              "      <td>25</td>\n",
              "      <td>9233.0</td>\n",
              "    </tr>\n",
              "  </tbody>\n",
              "</table>\n",
              "<p>160 rows × 22 columns</p>\n",
              "</div>\n",
              "      <button class=\"colab-df-convert\" onclick=\"convertToInteractive('df-e40b9dc1-0c28-416e-94e5-850fff68c42a')\"\n",
              "              title=\"Convert this dataframe to an interactive table.\"\n",
              "              style=\"display:none;\">\n",
              "        \n",
              "  <svg xmlns=\"http://www.w3.org/2000/svg\" height=\"24px\"viewBox=\"0 0 24 24\"\n",
              "       width=\"24px\">\n",
              "    <path d=\"M0 0h24v24H0V0z\" fill=\"none\"/>\n",
              "    <path d=\"M18.56 5.44l.94 2.06.94-2.06 2.06-.94-2.06-.94-.94-2.06-.94 2.06-2.06.94zm-11 1L8.5 8.5l.94-2.06 2.06-.94-2.06-.94L8.5 2.5l-.94 2.06-2.06.94zm10 10l.94 2.06.94-2.06 2.06-.94-2.06-.94-.94-2.06-.94 2.06-2.06.94z\"/><path d=\"M17.41 7.96l-1.37-1.37c-.4-.4-.92-.59-1.43-.59-.52 0-1.04.2-1.43.59L10.3 9.45l-7.72 7.72c-.78.78-.78 2.05 0 2.83L4 21.41c.39.39.9.59 1.41.59.51 0 1.02-.2 1.41-.59l7.78-7.78 2.81-2.81c.8-.78.8-2.07 0-2.86zM5.41 20L4 18.59l7.72-7.72 1.47 1.35L5.41 20z\"/>\n",
              "  </svg>\n",
              "      </button>\n",
              "      \n",
              "  <style>\n",
              "    .colab-df-container {\n",
              "      display:flex;\n",
              "      flex-wrap:wrap;\n",
              "      gap: 12px;\n",
              "    }\n",
              "\n",
              "    .colab-df-convert {\n",
              "      background-color: #E8F0FE;\n",
              "      border: none;\n",
              "      border-radius: 50%;\n",
              "      cursor: pointer;\n",
              "      display: none;\n",
              "      fill: #1967D2;\n",
              "      height: 32px;\n",
              "      padding: 0 0 0 0;\n",
              "      width: 32px;\n",
              "    }\n",
              "\n",
              "    .colab-df-convert:hover {\n",
              "      background-color: #E2EBFA;\n",
              "      box-shadow: 0px 1px 2px rgba(60, 64, 67, 0.3), 0px 1px 3px 1px rgba(60, 64, 67, 0.15);\n",
              "      fill: #174EA6;\n",
              "    }\n",
              "\n",
              "    [theme=dark] .colab-df-convert {\n",
              "      background-color: #3B4455;\n",
              "      fill: #D2E3FC;\n",
              "    }\n",
              "\n",
              "    [theme=dark] .colab-df-convert:hover {\n",
              "      background-color: #434B5C;\n",
              "      box-shadow: 0px 1px 3px 1px rgba(0, 0, 0, 0.15);\n",
              "      filter: drop-shadow(0px 1px 2px rgba(0, 0, 0, 0.3));\n",
              "      fill: #FFFFFF;\n",
              "    }\n",
              "  </style>\n",
              "\n",
              "      <script>\n",
              "        const buttonEl =\n",
              "          document.querySelector('#df-e40b9dc1-0c28-416e-94e5-850fff68c42a button.colab-df-convert');\n",
              "        buttonEl.style.display =\n",
              "          google.colab.kernel.accessAllowed ? 'block' : 'none';\n",
              "\n",
              "        async function convertToInteractive(key) {\n",
              "          const element = document.querySelector('#df-e40b9dc1-0c28-416e-94e5-850fff68c42a');\n",
              "          const dataTable =\n",
              "            await google.colab.kernel.invokeFunction('convertToInteractive',\n",
              "                                                     [key], {});\n",
              "          if (!dataTable) return;\n",
              "\n",
              "          const docLinkHtml = 'Like what you see? Visit the ' +\n",
              "            '<a target=\"_blank\" href=https://colab.research.google.com/notebooks/data_table.ipynb>data table notebook</a>'\n",
              "            + ' to learn more about interactive tables.';\n",
              "          element.innerHTML = '';\n",
              "          dataTable['output_type'] = 'display_data';\n",
              "          await google.colab.output.renderOutput(dataTable, element);\n",
              "          const docLink = document.createElement('div');\n",
              "          docLink.innerHTML = docLinkHtml;\n",
              "          element.appendChild(docLink);\n",
              "        }\n",
              "      </script>\n",
              "    </div>\n",
              "  </div>\n",
              "  "
            ]
          },
          "metadata": {},
          "execution_count": 4
        }
      ]
    },
    {
      "cell_type": "code",
      "metadata": {
        "id": "fHeTQl_1OVFp",
        "colab": {
          "base_uri": "https://localhost:8080/"
        },
        "outputId": "bac2c5a9-9007-448c-d178-a697599f4f89"
      },
      "source": [
        "# Mencetak dimensi data\n",
        "print(\"data: \", car_df.shape)"
      ],
      "execution_count": null,
      "outputs": [
        {
          "output_type": "stream",
          "name": "stdout",
          "text": [
            "data:  (160, 22)\n"
          ]
        }
      ]
    },
    {
      "cell_type": "code",
      "metadata": {
        "id": "TLc6noNLOVFr",
        "colab": {
          "base_uri": "https://localhost:8080/"
        },
        "outputId": "7ed3441c-408f-456c-daa5-2451020ea9ad"
      },
      "source": [
        "# Membaca kolom-kolom pada DataFrame\n",
        "car_df.info()"
      ],
      "execution_count": null,
      "outputs": [
        {
          "output_type": "stream",
          "name": "stdout",
          "text": [
            "<class 'pandas.core.frame.DataFrame'>\n",
            "RangeIndex: 160 entries, 0 to 159\n",
            "Data columns (total 22 columns):\n",
            " #   Column            Non-Null Count  Dtype  \n",
            "---  ------            --------------  -----  \n",
            " 0   CarName           160 non-null    object \n",
            " 1   fueltype          160 non-null    object \n",
            " 2   aspiration        155 non-null    object \n",
            " 3   doornumber        155 non-null    float64\n",
            " 4   carbody           155 non-null    object \n",
            " 5   drivewheel        152 non-null    object \n",
            " 6   enginelocation    151 non-null    object \n",
            " 7   wheelbase         159 non-null    float64\n",
            " 8   carlength         159 non-null    float64\n",
            " 9   carwidth          159 non-null    float64\n",
            " 10  carheight         145 non-null    float64\n",
            " 11  curbweight        17 non-null     float64\n",
            " 12  enginetype        146 non-null    object \n",
            " 13  cylindernumber    146 non-null    float64\n",
            " 14  enginesize        160 non-null    int64  \n",
            " 15  fuelsystem        154 non-null    object \n",
            " 16  compressionratio  150 non-null    float64\n",
            " 17  horsepower        160 non-null    int64  \n",
            " 18  peakrpm           160 non-null    int64  \n",
            " 19  citympg           160 non-null    int64  \n",
            " 20  highwaympg        160 non-null    int64  \n",
            " 21  price             160 non-null    float64\n",
            "dtypes: float64(9), int64(5), object(8)\n",
            "memory usage: 27.6+ KB\n"
          ]
        }
      ]
    },
    {
      "cell_type": "markdown",
      "metadata": {
        "id": "svLumBnvOVFv"
      },
      "source": [
        "### Deskripsi Statistik"
      ]
    },
    {
      "cell_type": "code",
      "metadata": {
        "id": "RdUnkeRvOVFv",
        "colab": {
          "base_uri": "https://localhost:8080/",
          "height": 364
        },
        "outputId": "93a621ab-16c2-4493-b349-08d4d5c508fa"
      },
      "source": [
        "car_df.head().describe()"
      ],
      "execution_count": null,
      "outputs": [
        {
          "output_type": "execute_result",
          "data": {
            "text/plain": [
              "       doornumber  wheelbase   carlength   carwidth  carheight  curbweight  \\\n",
              "count    5.000000   5.000000    5.000000   5.000000   5.000000         1.0   \n",
              "mean     2.800000  94.180000  172.400000  65.260000  51.720000      2548.0   \n",
              "std      1.095445   5.504725    3.957272   1.110405   2.776148         NaN   \n",
              "min      2.000000  88.600000  168.800000  64.100000  48.800000      2548.0   \n",
              "25%      2.000000  88.600000  168.800000  64.100000  48.800000      2548.0   \n",
              "50%      2.000000  94.500000  171.200000  65.500000  52.400000      2548.0   \n",
              "75%      4.000000  99.400000  176.600000  66.200000  54.300000      2548.0   \n",
              "max      4.000000  99.800000  176.600000  66.400000  54.300000      2548.0   \n",
              "\n",
              "       cylindernumber  enginesize  compressionratio  horsepower      peakrpm  \\\n",
              "count        5.000000    5.000000          5.000000    5.000000     5.000000   \n",
              "mean         4.600000  131.400000          9.000000  118.600000  5200.000000   \n",
              "std          0.894427   15.420765          0.707107   20.354361   273.861279   \n",
              "min          4.000000  109.000000          8.000000  102.000000  5000.000000   \n",
              "25%          4.000000  130.000000          9.000000  111.000000  5000.000000   \n",
              "50%          4.000000  130.000000          9.000000  111.000000  5000.000000   \n",
              "75%          5.000000  136.000000          9.000000  115.000000  5500.000000   \n",
              "max          6.000000  152.000000         10.000000  154.000000  5500.000000   \n",
              "\n",
              "         citympg  highwaympg         price  \n",
              "count   5.000000    5.000000      5.000000  \n",
              "mean   20.600000   26.400000  15579.000000  \n",
              "std     2.302173    2.880972   1745.982531  \n",
              "min    18.000000   22.000000  13495.000000  \n",
              "25%    19.000000   26.000000  13950.000000  \n",
              "50%    21.000000   27.000000  16500.000000  \n",
              "75%    21.000000   27.000000  16500.000000  \n",
              "max    24.000000   30.000000  17450.000000  "
            ],
            "text/html": [
              "\n",
              "  <div id=\"df-524ba733-495a-41fc-a63c-b8b156d0e7ec\">\n",
              "    <div class=\"colab-df-container\">\n",
              "      <div>\n",
              "<style scoped>\n",
              "    .dataframe tbody tr th:only-of-type {\n",
              "        vertical-align: middle;\n",
              "    }\n",
              "\n",
              "    .dataframe tbody tr th {\n",
              "        vertical-align: top;\n",
              "    }\n",
              "\n",
              "    .dataframe thead th {\n",
              "        text-align: right;\n",
              "    }\n",
              "</style>\n",
              "<table border=\"1\" class=\"dataframe\">\n",
              "  <thead>\n",
              "    <tr style=\"text-align: right;\">\n",
              "      <th></th>\n",
              "      <th>doornumber</th>\n",
              "      <th>wheelbase</th>\n",
              "      <th>carlength</th>\n",
              "      <th>carwidth</th>\n",
              "      <th>carheight</th>\n",
              "      <th>curbweight</th>\n",
              "      <th>cylindernumber</th>\n",
              "      <th>enginesize</th>\n",
              "      <th>compressionratio</th>\n",
              "      <th>horsepower</th>\n",
              "      <th>peakrpm</th>\n",
              "      <th>citympg</th>\n",
              "      <th>highwaympg</th>\n",
              "      <th>price</th>\n",
              "    </tr>\n",
              "  </thead>\n",
              "  <tbody>\n",
              "    <tr>\n",
              "      <th>count</th>\n",
              "      <td>5.000000</td>\n",
              "      <td>5.000000</td>\n",
              "      <td>5.000000</td>\n",
              "      <td>5.000000</td>\n",
              "      <td>5.000000</td>\n",
              "      <td>1.0</td>\n",
              "      <td>5.000000</td>\n",
              "      <td>5.000000</td>\n",
              "      <td>5.000000</td>\n",
              "      <td>5.000000</td>\n",
              "      <td>5.000000</td>\n",
              "      <td>5.000000</td>\n",
              "      <td>5.000000</td>\n",
              "      <td>5.000000</td>\n",
              "    </tr>\n",
              "    <tr>\n",
              "      <th>mean</th>\n",
              "      <td>2.800000</td>\n",
              "      <td>94.180000</td>\n",
              "      <td>172.400000</td>\n",
              "      <td>65.260000</td>\n",
              "      <td>51.720000</td>\n",
              "      <td>2548.0</td>\n",
              "      <td>4.600000</td>\n",
              "      <td>131.400000</td>\n",
              "      <td>9.000000</td>\n",
              "      <td>118.600000</td>\n",
              "      <td>5200.000000</td>\n",
              "      <td>20.600000</td>\n",
              "      <td>26.400000</td>\n",
              "      <td>15579.000000</td>\n",
              "    </tr>\n",
              "    <tr>\n",
              "      <th>std</th>\n",
              "      <td>1.095445</td>\n",
              "      <td>5.504725</td>\n",
              "      <td>3.957272</td>\n",
              "      <td>1.110405</td>\n",
              "      <td>2.776148</td>\n",
              "      <td>NaN</td>\n",
              "      <td>0.894427</td>\n",
              "      <td>15.420765</td>\n",
              "      <td>0.707107</td>\n",
              "      <td>20.354361</td>\n",
              "      <td>273.861279</td>\n",
              "      <td>2.302173</td>\n",
              "      <td>2.880972</td>\n",
              "      <td>1745.982531</td>\n",
              "    </tr>\n",
              "    <tr>\n",
              "      <th>min</th>\n",
              "      <td>2.000000</td>\n",
              "      <td>88.600000</td>\n",
              "      <td>168.800000</td>\n",
              "      <td>64.100000</td>\n",
              "      <td>48.800000</td>\n",
              "      <td>2548.0</td>\n",
              "      <td>4.000000</td>\n",
              "      <td>109.000000</td>\n",
              "      <td>8.000000</td>\n",
              "      <td>102.000000</td>\n",
              "      <td>5000.000000</td>\n",
              "      <td>18.000000</td>\n",
              "      <td>22.000000</td>\n",
              "      <td>13495.000000</td>\n",
              "    </tr>\n",
              "    <tr>\n",
              "      <th>25%</th>\n",
              "      <td>2.000000</td>\n",
              "      <td>88.600000</td>\n",
              "      <td>168.800000</td>\n",
              "      <td>64.100000</td>\n",
              "      <td>48.800000</td>\n",
              "      <td>2548.0</td>\n",
              "      <td>4.000000</td>\n",
              "      <td>130.000000</td>\n",
              "      <td>9.000000</td>\n",
              "      <td>111.000000</td>\n",
              "      <td>5000.000000</td>\n",
              "      <td>19.000000</td>\n",
              "      <td>26.000000</td>\n",
              "      <td>13950.000000</td>\n",
              "    </tr>\n",
              "    <tr>\n",
              "      <th>50%</th>\n",
              "      <td>2.000000</td>\n",
              "      <td>94.500000</td>\n",
              "      <td>171.200000</td>\n",
              "      <td>65.500000</td>\n",
              "      <td>52.400000</td>\n",
              "      <td>2548.0</td>\n",
              "      <td>4.000000</td>\n",
              "      <td>130.000000</td>\n",
              "      <td>9.000000</td>\n",
              "      <td>111.000000</td>\n",
              "      <td>5000.000000</td>\n",
              "      <td>21.000000</td>\n",
              "      <td>27.000000</td>\n",
              "      <td>16500.000000</td>\n",
              "    </tr>\n",
              "    <tr>\n",
              "      <th>75%</th>\n",
              "      <td>4.000000</td>\n",
              "      <td>99.400000</td>\n",
              "      <td>176.600000</td>\n",
              "      <td>66.200000</td>\n",
              "      <td>54.300000</td>\n",
              "      <td>2548.0</td>\n",
              "      <td>5.000000</td>\n",
              "      <td>136.000000</td>\n",
              "      <td>9.000000</td>\n",
              "      <td>115.000000</td>\n",
              "      <td>5500.000000</td>\n",
              "      <td>21.000000</td>\n",
              "      <td>27.000000</td>\n",
              "      <td>16500.000000</td>\n",
              "    </tr>\n",
              "    <tr>\n",
              "      <th>max</th>\n",
              "      <td>4.000000</td>\n",
              "      <td>99.800000</td>\n",
              "      <td>176.600000</td>\n",
              "      <td>66.400000</td>\n",
              "      <td>54.300000</td>\n",
              "      <td>2548.0</td>\n",
              "      <td>6.000000</td>\n",
              "      <td>152.000000</td>\n",
              "      <td>10.000000</td>\n",
              "      <td>154.000000</td>\n",
              "      <td>5500.000000</td>\n",
              "      <td>24.000000</td>\n",
              "      <td>30.000000</td>\n",
              "      <td>17450.000000</td>\n",
              "    </tr>\n",
              "  </tbody>\n",
              "</table>\n",
              "</div>\n",
              "      <button class=\"colab-df-convert\" onclick=\"convertToInteractive('df-524ba733-495a-41fc-a63c-b8b156d0e7ec')\"\n",
              "              title=\"Convert this dataframe to an interactive table.\"\n",
              "              style=\"display:none;\">\n",
              "        \n",
              "  <svg xmlns=\"http://www.w3.org/2000/svg\" height=\"24px\"viewBox=\"0 0 24 24\"\n",
              "       width=\"24px\">\n",
              "    <path d=\"M0 0h24v24H0V0z\" fill=\"none\"/>\n",
              "    <path d=\"M18.56 5.44l.94 2.06.94-2.06 2.06-.94-2.06-.94-.94-2.06-.94 2.06-2.06.94zm-11 1L8.5 8.5l.94-2.06 2.06-.94-2.06-.94L8.5 2.5l-.94 2.06-2.06.94zm10 10l.94 2.06.94-2.06 2.06-.94-2.06-.94-.94-2.06-.94 2.06-2.06.94z\"/><path d=\"M17.41 7.96l-1.37-1.37c-.4-.4-.92-.59-1.43-.59-.52 0-1.04.2-1.43.59L10.3 9.45l-7.72 7.72c-.78.78-.78 2.05 0 2.83L4 21.41c.39.39.9.59 1.41.59.51 0 1.02-.2 1.41-.59l7.78-7.78 2.81-2.81c.8-.78.8-2.07 0-2.86zM5.41 20L4 18.59l7.72-7.72 1.47 1.35L5.41 20z\"/>\n",
              "  </svg>\n",
              "      </button>\n",
              "      \n",
              "  <style>\n",
              "    .colab-df-container {\n",
              "      display:flex;\n",
              "      flex-wrap:wrap;\n",
              "      gap: 12px;\n",
              "    }\n",
              "\n",
              "    .colab-df-convert {\n",
              "      background-color: #E8F0FE;\n",
              "      border: none;\n",
              "      border-radius: 50%;\n",
              "      cursor: pointer;\n",
              "      display: none;\n",
              "      fill: #1967D2;\n",
              "      height: 32px;\n",
              "      padding: 0 0 0 0;\n",
              "      width: 32px;\n",
              "    }\n",
              "\n",
              "    .colab-df-convert:hover {\n",
              "      background-color: #E2EBFA;\n",
              "      box-shadow: 0px 1px 2px rgba(60, 64, 67, 0.3), 0px 1px 3px 1px rgba(60, 64, 67, 0.15);\n",
              "      fill: #174EA6;\n",
              "    }\n",
              "\n",
              "    [theme=dark] .colab-df-convert {\n",
              "      background-color: #3B4455;\n",
              "      fill: #D2E3FC;\n",
              "    }\n",
              "\n",
              "    [theme=dark] .colab-df-convert:hover {\n",
              "      background-color: #434B5C;\n",
              "      box-shadow: 0px 1px 3px 1px rgba(0, 0, 0, 0.15);\n",
              "      filter: drop-shadow(0px 1px 2px rgba(0, 0, 0, 0.3));\n",
              "      fill: #FFFFFF;\n",
              "    }\n",
              "  </style>\n",
              "\n",
              "      <script>\n",
              "        const buttonEl =\n",
              "          document.querySelector('#df-524ba733-495a-41fc-a63c-b8b156d0e7ec button.colab-df-convert');\n",
              "        buttonEl.style.display =\n",
              "          google.colab.kernel.accessAllowed ? 'block' : 'none';\n",
              "\n",
              "        async function convertToInteractive(key) {\n",
              "          const element = document.querySelector('#df-524ba733-495a-41fc-a63c-b8b156d0e7ec');\n",
              "          const dataTable =\n",
              "            await google.colab.kernel.invokeFunction('convertToInteractive',\n",
              "                                                     [key], {});\n",
              "          if (!dataTable) return;\n",
              "\n",
              "          const docLinkHtml = 'Like what you see? Visit the ' +\n",
              "            '<a target=\"_blank\" href=https://colab.research.google.com/notebooks/data_table.ipynb>data table notebook</a>'\n",
              "            + ' to learn more about interactive tables.';\n",
              "          element.innerHTML = '';\n",
              "          dataTable['output_type'] = 'display_data';\n",
              "          await google.colab.output.renderOutput(dataTable, element);\n",
              "          const docLink = document.createElement('div');\n",
              "          docLink.innerHTML = docLinkHtml;\n",
              "          element.appendChild(docLink);\n",
              "        }\n",
              "      </script>\n",
              "    </div>\n",
              "  </div>\n",
              "  "
            ]
          },
          "metadata": {},
          "execution_count": 7
        }
      ]
    },
    {
      "cell_type": "markdown",
      "metadata": {
        "id": "zOVsKq4-XXR2"
      },
      "source": [
        "Dengan method \"describe\" kita mendapatkan basic statistics untuk atribut numerik.\n",
        "\n",
        "Apa yang bisa diamati?\n",
        "Pada atribut \"carlength\", standard deviasi tampak rendah, jauh di bawah mean, perlu dilihat lebih jauh distribusi datanya."
      ]
    },
    {
      "cell_type": "code",
      "metadata": {
        "id": "rn2CQNiqgK4A",
        "colab": {
          "base_uri": "https://localhost:8080/",
          "height": 249
        },
        "outputId": "4baf4260-76f8-4c6e-9cf1-ce0a822048b3"
      },
      "source": [
        "# Menampilkan summary dari nonnumeric atribute\n",
        "display(car_df.head().describe(include=np.object))"
      ],
      "execution_count": null,
      "outputs": [
        {
          "output_type": "stream",
          "name": "stderr",
          "text": [
            "/usr/local/lib/python3.7/dist-packages/ipykernel_launcher.py:2: DeprecationWarning: `np.object` is a deprecated alias for the builtin `object`. To silence this warning, use `object` by itself. Doing this will not modify any behavior and is safe. \n",
            "Deprecated in NumPy 1.20; for more details and guidance: https://numpy.org/devdocs/release/1.20.0-notes.html#deprecations\n",
            "  \n"
          ]
        },
        {
          "output_type": "display_data",
          "data": {
            "text/plain": [
              "            CarName fueltype aspiration      carbody drivewheel  \\\n",
              "count             5        5          5            5          5   \n",
              "unique            2        1          1            3          3   \n",
              "top     alfa-romero      gas        std  convertible        rwd   \n",
              "freq              3        5          5            2          3   \n",
              "\n",
              "       enginelocation enginetype fuelsystem  \n",
              "count               5          5          5  \n",
              "unique              1          3          1  \n",
              "top             front       dohc       mpfi  \n",
              "freq                5          2          5  "
            ],
            "text/html": [
              "\n",
              "  <div id=\"df-7616fc68-eb5b-43cb-921e-26dacc9e0fb8\">\n",
              "    <div class=\"colab-df-container\">\n",
              "      <div>\n",
              "<style scoped>\n",
              "    .dataframe tbody tr th:only-of-type {\n",
              "        vertical-align: middle;\n",
              "    }\n",
              "\n",
              "    .dataframe tbody tr th {\n",
              "        vertical-align: top;\n",
              "    }\n",
              "\n",
              "    .dataframe thead th {\n",
              "        text-align: right;\n",
              "    }\n",
              "</style>\n",
              "<table border=\"1\" class=\"dataframe\">\n",
              "  <thead>\n",
              "    <tr style=\"text-align: right;\">\n",
              "      <th></th>\n",
              "      <th>CarName</th>\n",
              "      <th>fueltype</th>\n",
              "      <th>aspiration</th>\n",
              "      <th>carbody</th>\n",
              "      <th>drivewheel</th>\n",
              "      <th>enginelocation</th>\n",
              "      <th>enginetype</th>\n",
              "      <th>fuelsystem</th>\n",
              "    </tr>\n",
              "  </thead>\n",
              "  <tbody>\n",
              "    <tr>\n",
              "      <th>count</th>\n",
              "      <td>5</td>\n",
              "      <td>5</td>\n",
              "      <td>5</td>\n",
              "      <td>5</td>\n",
              "      <td>5</td>\n",
              "      <td>5</td>\n",
              "      <td>5</td>\n",
              "      <td>5</td>\n",
              "    </tr>\n",
              "    <tr>\n",
              "      <th>unique</th>\n",
              "      <td>2</td>\n",
              "      <td>1</td>\n",
              "      <td>1</td>\n",
              "      <td>3</td>\n",
              "      <td>3</td>\n",
              "      <td>1</td>\n",
              "      <td>3</td>\n",
              "      <td>1</td>\n",
              "    </tr>\n",
              "    <tr>\n",
              "      <th>top</th>\n",
              "      <td>alfa-romero</td>\n",
              "      <td>gas</td>\n",
              "      <td>std</td>\n",
              "      <td>convertible</td>\n",
              "      <td>rwd</td>\n",
              "      <td>front</td>\n",
              "      <td>dohc</td>\n",
              "      <td>mpfi</td>\n",
              "    </tr>\n",
              "    <tr>\n",
              "      <th>freq</th>\n",
              "      <td>3</td>\n",
              "      <td>5</td>\n",
              "      <td>5</td>\n",
              "      <td>2</td>\n",
              "      <td>3</td>\n",
              "      <td>5</td>\n",
              "      <td>2</td>\n",
              "      <td>5</td>\n",
              "    </tr>\n",
              "  </tbody>\n",
              "</table>\n",
              "</div>\n",
              "      <button class=\"colab-df-convert\" onclick=\"convertToInteractive('df-7616fc68-eb5b-43cb-921e-26dacc9e0fb8')\"\n",
              "              title=\"Convert this dataframe to an interactive table.\"\n",
              "              style=\"display:none;\">\n",
              "        \n",
              "  <svg xmlns=\"http://www.w3.org/2000/svg\" height=\"24px\"viewBox=\"0 0 24 24\"\n",
              "       width=\"24px\">\n",
              "    <path d=\"M0 0h24v24H0V0z\" fill=\"none\"/>\n",
              "    <path d=\"M18.56 5.44l.94 2.06.94-2.06 2.06-.94-2.06-.94-.94-2.06-.94 2.06-2.06.94zm-11 1L8.5 8.5l.94-2.06 2.06-.94-2.06-.94L8.5 2.5l-.94 2.06-2.06.94zm10 10l.94 2.06.94-2.06 2.06-.94-2.06-.94-.94-2.06-.94 2.06-2.06.94z\"/><path d=\"M17.41 7.96l-1.37-1.37c-.4-.4-.92-.59-1.43-.59-.52 0-1.04.2-1.43.59L10.3 9.45l-7.72 7.72c-.78.78-.78 2.05 0 2.83L4 21.41c.39.39.9.59 1.41.59.51 0 1.02-.2 1.41-.59l7.78-7.78 2.81-2.81c.8-.78.8-2.07 0-2.86zM5.41 20L4 18.59l7.72-7.72 1.47 1.35L5.41 20z\"/>\n",
              "  </svg>\n",
              "      </button>\n",
              "      \n",
              "  <style>\n",
              "    .colab-df-container {\n",
              "      display:flex;\n",
              "      flex-wrap:wrap;\n",
              "      gap: 12px;\n",
              "    }\n",
              "\n",
              "    .colab-df-convert {\n",
              "      background-color: #E8F0FE;\n",
              "      border: none;\n",
              "      border-radius: 50%;\n",
              "      cursor: pointer;\n",
              "      display: none;\n",
              "      fill: #1967D2;\n",
              "      height: 32px;\n",
              "      padding: 0 0 0 0;\n",
              "      width: 32px;\n",
              "    }\n",
              "\n",
              "    .colab-df-convert:hover {\n",
              "      background-color: #E2EBFA;\n",
              "      box-shadow: 0px 1px 2px rgba(60, 64, 67, 0.3), 0px 1px 3px 1px rgba(60, 64, 67, 0.15);\n",
              "      fill: #174EA6;\n",
              "    }\n",
              "\n",
              "    [theme=dark] .colab-df-convert {\n",
              "      background-color: #3B4455;\n",
              "      fill: #D2E3FC;\n",
              "    }\n",
              "\n",
              "    [theme=dark] .colab-df-convert:hover {\n",
              "      background-color: #434B5C;\n",
              "      box-shadow: 0px 1px 3px 1px rgba(0, 0, 0, 0.15);\n",
              "      filter: drop-shadow(0px 1px 2px rgba(0, 0, 0, 0.3));\n",
              "      fill: #FFFFFF;\n",
              "    }\n",
              "  </style>\n",
              "\n",
              "      <script>\n",
              "        const buttonEl =\n",
              "          document.querySelector('#df-7616fc68-eb5b-43cb-921e-26dacc9e0fb8 button.colab-df-convert');\n",
              "        buttonEl.style.display =\n",
              "          google.colab.kernel.accessAllowed ? 'block' : 'none';\n",
              "\n",
              "        async function convertToInteractive(key) {\n",
              "          const element = document.querySelector('#df-7616fc68-eb5b-43cb-921e-26dacc9e0fb8');\n",
              "          const dataTable =\n",
              "            await google.colab.kernel.invokeFunction('convertToInteractive',\n",
              "                                                     [key], {});\n",
              "          if (!dataTable) return;\n",
              "\n",
              "          const docLinkHtml = 'Like what you see? Visit the ' +\n",
              "            '<a target=\"_blank\" href=https://colab.research.google.com/notebooks/data_table.ipynb>data table notebook</a>'\n",
              "            + ' to learn more about interactive tables.';\n",
              "          element.innerHTML = '';\n",
              "          dataTable['output_type'] = 'display_data';\n",
              "          await google.colab.output.renderOutput(dataTable, element);\n",
              "          const docLink = document.createElement('div');\n",
              "          docLink.innerHTML = docLinkHtml;\n",
              "          element.appendChild(docLink);\n",
              "        }\n",
              "      </script>\n",
              "    </div>\n",
              "  </div>\n",
              "  "
            ]
          },
          "metadata": {}
        }
      ]
    },
    {
      "cell_type": "markdown",
      "metadata": {
        "id": "M0qUBTe_z-Rd"
      },
      "source": [
        "Pada tabel di atas, \"unique\" menunjukkan ada berapa variasi nilai dalam suatu atribut.\n",
        "Jika \"unique\" bernilai 1, atribut tersebut dapat dihapus, karena nilainya sama untuk semua baris."
      ]
    },
    {
      "cell_type": "code",
      "metadata": {
        "id": "kKVHi9L-OVFw"
      },
      "source": [
        "# Plot beberapa kolom untuk melihat distribusi frekuensinya\n",
        "def countplot(column):\n",
        "    return sns.countplot(x= column, data=car_df)"
      ],
      "execution_count": null,
      "outputs": []
    },
    {
      "cell_type": "code",
      "metadata": {
        "id": "FgsVsOaOOVFx",
        "colab": {
          "base_uri": "https://localhost:8080/",
          "height": 297
        },
        "outputId": "06973132-6a82-4d40-9afa-9832f973351b"
      },
      "source": [
        "countplot('fueltype')"
      ],
      "execution_count": null,
      "outputs": [
        {
          "output_type": "execute_result",
          "data": {
            "text/plain": [
              "<matplotlib.axes._subplots.AxesSubplot at 0x7f3a2d037b50>"
            ]
          },
          "metadata": {},
          "execution_count": 10
        },
        {
          "output_type": "display_data",
          "data": {
            "text/plain": [
              "<Figure size 432x288 with 1 Axes>"
            ],
            "image/png": "[encoded data removed]"
          },
          "metadata": {
            "needs_background": "light"
          }
        }
      ]
    },
    {
      "cell_type": "markdown",
      "metadata": {
        "id": "MkhbKU6-z-Re"
      },
      "source": [
        "Berdasarkan plot di atas, terlihat bahwa yang tinggi frekuensinya adalah mobil dengan fuel type gas."
      ]
    },
    {
      "cell_type": "code",
      "metadata": {
        "id": "eSx2cSccOVFy",
        "colab": {
          "base_uri": "https://localhost:8080/",
          "height": 297
        },
        "outputId": "976e2d00-52b5-4e18-e814-1d898c899179"
      },
      "source": [
        "countplot('drivewheel')"
      ],
      "execution_count": null,
      "outputs": [
        {
          "output_type": "execute_result",
          "data": {
            "text/plain": [
              "<matplotlib.axes._subplots.AxesSubplot at 0x7f3a2ce6bc90>"
            ]
          },
          "metadata": {},
          "execution_count": 11
        },
        {
          "output_type": "display_data",
          "data": {
            "text/plain": [
              "<Figure size 432x288 with 1 Axes>"
            ],
            "image/png": "[encoded data removed]"
          },
          "metadata": {
            "needs_background": "light"
          }
        }
      ]
    },
    {
      "cell_type": "markdown",
      "metadata": {
        "id": "J2oE58L9z-Rf"
      },
      "source": [
        "Berdasarkan plot di atas, terlihat bahwa tipe drive wheel 4wd (Four Wheel Drive) paling sedikit."
      ]
    },
    {
      "cell_type": "code",
      "metadata": {
        "id": "W4f-aGxWOVFy",
        "colab": {
          "base_uri": "https://localhost:8080/",
          "height": 297
        },
        "outputId": "c462fa53-70ef-46b4-9842-d2169a3161fc"
      },
      "source": [
        "countplot('carbody')"
      ],
      "execution_count": null,
      "outputs": [
        {
          "output_type": "execute_result",
          "data": {
            "text/plain": [
              "<matplotlib.axes._subplots.AxesSubplot at 0x7f3a2c9929d0>"
            ]
          },
          "metadata": {},
          "execution_count": 12
        },
        {
          "output_type": "display_data",
          "data": {
            "text/plain": [
              "<Figure size 432x288 with 1 Axes>"
            ],
            "image/png": "[encoded data removed]"
          },
          "metadata": {
            "needs_background": "light"
          }
        }
      ]
    },
    {
      "cell_type": "markdown",
      "metadata": {
        "id": "NxdAv3jHz-Rg"
      },
      "source": [
        "Berdasarkan plot di atas, terlihat bahwa sedan merupakan tipe badan mobil terbanyak."
      ]
    },
    {
      "cell_type": "code",
      "metadata": {
        "id": "55Gf3Nl7OVFz",
        "colab": {
          "base_uri": "https://localhost:8080/",
          "height": 345
        },
        "outputId": "98a3ca70-f6b1-420d-da75-c01fece7ea2c"
      },
      "source": [
        "carnames = countplot('CarName')\n",
        "\n",
        "carnames.set_xticklabels(carnames.get_xticklabels(), rotation=90)\n",
        "carnames.plot()"
      ],
      "execution_count": null,
      "outputs": [
        {
          "output_type": "execute_result",
          "data": {
            "text/plain": [
              "[]"
            ]
          },
          "metadata": {},
          "execution_count": 13
        },
        {
          "output_type": "display_data",
          "data": {
            "text/plain": [
              "<Figure size 432x288 with 1 Axes>"
            ],
            "image/png": "[encoded data removed]"
          },
          "metadata": {
            "needs_background": "light"
          }
        }
      ]
    },
    {
      "cell_type": "markdown",
      "metadata": {
        "id": "8HkabFIhz-Rg"
      },
      "source": [
        "Berdasarkan plot di atas, terlihat bahwa mobil Nissan berjumlah paling banyak dibanding mobil mercury yang berjumlah paling sedikit."
      ]
    },
    {
      "cell_type": "code",
      "metadata": {
        "id": "3I1MSu5hX8W-"
      },
      "source": [
        "# Mendapatkan nilai korelasi (koefisien Person) atribut numerik, dengan method \"corr\"\n",
        "car_corr = car_df.corr(method='pearson')"
      ],
      "execution_count": null,
      "outputs": []
    },
    {
      "cell_type": "code",
      "source": [
        "# heatmap\n",
        "f,ax = plt.subplots(figsize=(18, 18))\n",
        "sns.heatmap(car_corr, annot=True, linewidths=.5, fmt= '.1f',ax=ax)"
      ],
      "metadata": {
        "colab": {
          "base_uri": "https://localhost:8080/",
          "height": 1000
        },
        "id": "AbLf39xuny6s",
        "outputId": "9cb100f4-5bb2-4e1c-98bd-96baa5e964e9"
      },
      "execution_count": null,
      "outputs": [
        {
          "output_type": "execute_result",
          "data": {
            "text/plain": [
              "<matplotlib.axes._subplots.AxesSubplot at 0x7f3a2cf00a50>"
            ]
          },
          "metadata": {},
          "execution_count": 15
        },
        {
          "output_type": "display_data",
          "data": {
            "text/plain": [
              "<Figure size 1296x1296 with 2 Axes>"
            ],
            "image/png": "[encoded data removed]"
          },
          "metadata": {
            "needs_background": "light"
          }
        }
      ]
    },
    {
      "cell_type": "markdown",
      "metadata": {
        "id": "KTqxFIrFX8W_"
      },
      "source": [
        "# Data Preprocessing\n",
        "\n",
        "*Data Preparation* atau *data preprocessing* adalah suatu proses pembersihan dan transformasi pada *raw data* sebelum diproses dan dianalisis. Pada beberapa algoritma prediksi, dibutuhkan *preprocessing* khusus agar algoritma dapat berjalan dengan baik.\n",
        "\n",
        "**DISCLAIMER!**  Pada contoh ini, *preprocessing* yang\n",
        "dilakukan dimaksudkan untuk algoritma yang memiliki karakteristik:\n",
        "* sensitif terhadap outlier\n",
        "* fitur-fiturnya perlu memiliki range yang setara"
      ]
    },
    {
      "cell_type": "code",
      "metadata": {
        "id": "u8oCqRzOX8XA"
      },
      "source": [
        "# Import data cars2\n",
        "car2_df = pd.read_csv('car2.csv')"
      ],
      "execution_count": null,
      "outputs": []
    },
    {
      "cell_type": "code",
      "metadata": {
        "id": "VuVSyMppX8XA"
      },
      "source": [
        "# Menggabungkan dua data frame\n",
        "frames = [car_df, car2_df]\n",
        "merged_cars = pd.concat(frames).reset_index(drop=True)"
      ],
      "execution_count": null,
      "outputs": []
    },
    {
      "cell_type": "code",
      "metadata": {
        "id": "GKjsU5_VX8XA",
        "colab": {
          "base_uri": "https://localhost:8080/"
        },
        "outputId": "4fb20fc4-b902-47c0-90cc-bb56e242bb10"
      },
      "source": [
        "merged_cars.shape"
      ],
      "execution_count": null,
      "outputs": [
        {
          "output_type": "execute_result",
          "data": {
            "text/plain": [
              "(238, 22)"
            ]
          },
          "metadata": {},
          "execution_count": 18
        }
      ]
    },
    {
      "cell_type": "markdown",
      "metadata": {
        "id": "2SXTNT1aX8XA"
      },
      "source": [
        "### **SOAL 1**"
      ]
    },
    {
      "cell_type": "markdown",
      "metadata": {
        "id": "IYSkaOtpX8XA"
      },
      "source": [
        "(a) Dari data merged_cars di atas, apakah terdapat redudansi data? Implementasikan dengan code!"
      ]
    },
    {
      "cell_type": "code",
      "metadata": {
        "id": "t1rYJG0bX8XA",
        "colab": {
          "base_uri": "https://localhost:8080/"
        },
        "outputId": "3652e55c-e42c-412f-af3e-b2a462cb30f0"
      },
      "source": [
        "# 1(a) Implementasi code di sini.\n",
        "merged_cars.duplicated().value_counts()\n",
        "# Method duplicated() akan mengembalikan nilai True untuk data yang merupakan duplikat dan false untuk data yang bukan\n",
        "# sehingga dapat disimpulkan terdapat 27 data redundan"
      ],
      "execution_count": null,
      "outputs": [
        {
          "output_type": "execute_result",
          "data": {
            "text/plain": [
              "False    211\n",
              "True      27\n",
              "dtype: int64"
            ]
          },
          "metadata": {},
          "execution_count": 19
        }
      ]
    },
    {
      "cell_type": "markdown",
      "metadata": {
        "id": "vkNX_N4NX8XB"
      },
      "source": [
        "(b) Apa yang dapat Anda lakukan untuk menangani redudansi data tersebut? Implementasikan dengan code! Hint: [Dokumentasi Drop Duplicate](https://pandas.pydata.org/pandas-docs/version/1.3/reference/api/pandas.DataFrame.drop_duplicates.html)"
      ]
    },
    {
      "cell_type": "code",
      "metadata": {
        "id": "FeInjJa0X8XB",
        "colab": {
          "base_uri": "https://localhost:8080/"
        },
        "outputId": "32d0222c-5f5e-4ff0-8b2c-38d6665f28d7"
      },
      "source": [
        "# 1(b) Implementasi code di sini.\n",
        "# Method drop_duplicates() untuk menghilangkan data yang redundan\n",
        "merged_cars.drop_duplicates(inplace=True)\n",
        "# Method duplicated().value_counts() untuk memastikan apakah sudah tidak ada data redundan\n",
        "merged_cars.duplicated().value_counts()\n",
        "# Seperti yang dilihat pada output sudah tidak ada data redundan (Tidak ada True)"
      ],
      "execution_count": null,
      "outputs": [
        {
          "output_type": "execute_result",
          "data": {
            "text/plain": [
              "False    211\n",
              "dtype: int64"
            ]
          },
          "metadata": {},
          "execution_count": 20
        }
      ]
    },
    {
      "cell_type": "markdown",
      "metadata": {
        "id": "eXgJR7fEX8XB"
      },
      "source": [
        "(c) Berikan alasan mengapa redudansi data perlu ditangani?\n",
        "> Jawab di sini\n",
        "<br>\n",
        "Karena tidak semua data dapat memberikan value. Data redundan termasuk ke dalam kategori unwanted data karena semua nilai dan informasi yang kita ingin dapatkan dari data redundan tersebut telah dimiliki oleh data lain, sehingga tidak ada keutungan bahkan memunculkan kerugian seperti membesarkan cost dalam memproses data, memunculkan bias, dll."
      ]
    },
    {
      "cell_type": "markdown",
      "metadata": {
        "id": "18v2FKJzjcPQ"
      },
      "source": [
        "## Outlier"
      ]
    },
    {
      "cell_type": "markdown",
      "metadata": {
        "id": "GN-hQ0_1vUel"
      },
      "source": [
        "Outlier merupakan observasi yang tidak biasa yang muncul pada salah satu titik ekstrim dari sebagian besar data. Titik ekstrim di sini adalah nilai yang terlalu kecil atau nilai yang terlalu besar jika dibandingkan dengan sebagian besar nilai lain dalam kelompoknya."
      ]
    },
    {
      "cell_type": "markdown",
      "metadata": {
        "id": "eKcNhMswxqnd"
      },
      "source": [
        "Outlier dapat ditangani dengan melakukan hal-hal berikut ini:\n",
        "\n",
        "*   Jika persentase outliers tidak signifikan, opsi yang mungkin dilakukan adalah drop column/row.\n",
        "*   Jika datanya relatif sedikit, opsi yang mungkin dilakukan adalah mengisi dengan nilai statistik tertentu Pengisian data dapat dilakukan dengan:\n",
        "  * Nilai rata-rata\n",
        "  * Nilai median\n",
        "  * Nilai modus\n",
        "*   Jika terdapat human error, maka opsi yang mungkin adalah memperbaiki dengan manual.\n",
        "*   Jika asumsi data normal, maka outlier dapat dibiarkan saja.\n",
        "\n"
      ]
    },
    {
      "cell_type": "code",
      "metadata": {
        "id": "q2E1LoKwOVF0",
        "scrolled": true,
        "colab": {
          "base_uri": "https://localhost:8080/",
          "height": 297
        },
        "outputId": "2764fb5c-0dbd-4cc9-8b4c-5a07b5c4ee9d"
      },
      "source": [
        "merged_cars['CarName'] = merged_cars['CarName'].astype(str) # ubah jadi tipe string\n",
        "merged_cars.plot.scatter(x=\"price\", y='CarName', figsize=(6,4))"
      ],
      "execution_count": null,
      "outputs": [
        {
          "output_type": "execute_result",
          "data": {
            "text/plain": [
              "<matplotlib.axes._subplots.AxesSubplot at 0x7f3a284b3310>"
            ]
          },
          "metadata": {},
          "execution_count": 21
        },
        {
          "output_type": "display_data",
          "data": {
            "text/plain": [
              "<Figure size 432x288 with 1 Axes>"
            ],
            "image/png": "[encoded data removed]"
          },
          "metadata": {
            "needs_background": "light"
          }
        }
      ]
    },
    {
      "cell_type": "markdown",
      "metadata": {
        "id": "af03UEXVz-Rh"
      },
      "source": [
        "Dari scatter plot di atas terlihat bahwa ada harga mobil yang sangat besar (outlier) pada mobil dengan tipe mobil mazda."
      ]
    },
    {
      "cell_type": "code",
      "metadata": {
        "id": "02ShW0HTOVF7",
        "colab": {
          "base_uri": "https://localhost:8080/",
          "height": 258
        },
        "outputId": "0f7497be-c95c-449d-87d3-44a592548843"
      },
      "source": [
        "data = merged_cars.drop(['price'],axis=1)\n",
        "data.boxplot(figsize=(20,3))\n",
        "# merged_cars['highwaympg'].to_frame().boxplot(figsize=(20,3))\n"
      ],
      "execution_count": null,
      "outputs": [
        {
          "output_type": "stream",
          "name": "stderr",
          "text": [
            "/usr/local/lib/python3.7/dist-packages/matplotlib/cbook/__init__.py:1376: VisibleDeprecationWarning: Creating an ndarray from ragged nested sequences (which is a list-or-tuple of lists-or-tuples-or ndarrays with different lengths or shapes) is deprecated. If you meant to do this, you must specify 'dtype=object' when creating the ndarray.\n",
            "  X = np.atleast_1d(X.T if isinstance(X, np.ndarray) else np.asarray(X))\n"
          ]
        },
        {
          "output_type": "execute_result",
          "data": {
            "text/plain": [
              "<matplotlib.axes._subplots.AxesSubplot at 0x7f3a2849af90>"
            ]
          },
          "metadata": {},
          "execution_count": 22
        },
        {
          "output_type": "display_data",
          "data": {
            "text/plain": [
              "<Figure size 1440x216 with 1 Axes>"
            ],
            "image/png": "[encoded data removed]"
          },
          "metadata": {
            "needs_background": "light"
          }
        }
      ]
    },
    {
      "cell_type": "markdown",
      "metadata": {
        "id": "l2Mz6B6Ylku7"
      },
      "source": [
        "Boxplot juga dapat digunakan untuk menunjukkan adanya outlier. Bagian utama boxplot merupakan sebuah kotak Box yang menyajikan interquartile range (IQR). Garis yang merupakan perpanjangan dari box dinamakan dengan whiskers. Nilai yang berada di atas atau dibawah whisker dinamakan nilai outlier atau ekstrim."
      ]
    },
    {
      "cell_type": "markdown",
      "metadata": {
        "id": "Qs6DEaIu0_-3"
      },
      "source": [
        "### **SOAL 2**\n",
        "\n",
        "(a) Dari boxplot yang Anda lihat, atribut apa yang mengandung outlier paling banyak?\n",
        "\n",
        "> Jawab di sini\n",
        "<br>\n",
        "Jika dilihat dari boxplot tersebut, sepertinya compressionratio lah yang memiliki outliers paling banyak diantara atribut lainnya.Walaupun jika dihitung akan ditemukan bahwa cylindernumber lah yang memiliki outliers paling banyak.\n",
        "<br>\n",
        "![attr_horsepower.png](data:image/png;base64,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)![attr_enginesize.png](data:image/png;base64,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)![attr_cylindernumber.png](data:image/png;base64,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)![attr_compression.png](data:image/png;base64,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)"
      ]
    },
    {
      "cell_type": "markdown",
      "metadata": {
        "id": "9clvzQNg7MRx"
      },
      "source": [
        "(b) Implementasikan code untuk menampilkan banyaknya outlier pada atribut tersebut!"
      ]
    },
    {
      "cell_type": "code",
      "metadata": {
        "id": "9FNJvGOyz-Rj",
        "colab": {
          "base_uri": "https://localhost:8080/"
        },
        "outputId": "1a610df4-385f-4a10-dd7e-f24415e35e4b"
      },
      "source": [
        "# 2(b) Implementasi code di sini\n",
        "# Menghitung Q1, Q3 untuk mencari Inter Quartile Range (IQR)\n",
        "Q1 = merged_cars['cylindernumber'].quantile(0.25)\n",
        "Q3 = merged_cars['cylindernumber'].quantile(0.75)\n",
        "IQR = Q3 - Q1\n",
        "# logic untuk mengitung jumlah outliers\n",
        "((merged_cars['cylindernumber'] < (Q1 - 1.5 * IQR)) | (merged_cars['cylindernumber'] > (Q3 + 1.5 * IQR))).sum()\n",
        "# vs 30 outliers pada compressionratio"
      ],
      "execution_count": null,
      "outputs": [
        {
          "output_type": "execute_result",
          "data": {
            "text/plain": [
              "41"
            ]
          },
          "metadata": {},
          "execution_count": 23
        }
      ]
    },
    {
      "cell_type": "markdown",
      "metadata": {
        "id": "X85RWnpBz-Rj"
      },
      "source": [
        "(c) Apa yang dapat Anda lakukan untuk menangani outlier tersebut? Implementasikan dengan code!"
      ]
    },
    {
      "cell_type": "code",
      "metadata": {
        "id": "vMBAr9Rb7cFd",
        "colab": {
          "base_uri": "https://localhost:8080/"
        },
        "outputId": "2df7f445-80de-409f-94e6-37dbdd99d7a1"
      },
      "source": [
        "# 2(c) Implementasi code di sini\n",
        "# untuk mencari outliers\n",
        "cylinder_numbers_outliers = (merged_cars['cylindernumber'] < (Q1 - 1.5 * IQR)) | (merged_cars['cylindernumber'] > (Q3 + 1.5 * IQR)).to_frame('Outliers?')\n",
        "\n",
        "# untuk mencari median cylindernumbers\n",
        "# median dipilih karena jumlah outliers yang sangat besar sehingga mean tidak akan bagus\n",
        "cylindernumber_median = merged_cars['cylindernumber'].median()\n",
        "\n",
        "# untuk mencari index dari outliers untuk keperluan loc\n",
        "index_outlier = cylinder_numbers_outliers.index[cylinder_numbers_outliers['Outliers?'] == True].tolist()\n",
        "# mengganti nilai outliers dengan median\n",
        "merged_cars.loc[index_outlier,\"cylindernumber\"] = cylindernumber_median\n",
        "\n",
        "# outliers jadi tinggal 5 vs 41 pada sebelumnya\n",
        "((merged_cars['cylindernumber'] < (Q1 - 1.5 * IQR)) | (merged_cars['cylindernumber'] > (Q3 + 1.5 * IQR))).sum()"
      ],
      "execution_count": null,
      "outputs": [
        {
          "output_type": "execute_result",
          "data": {
            "text/plain": [
              "5"
            ]
          },
          "metadata": {},
          "execution_count": 24
        }
      ]
    },
    {
      "cell_type": "markdown",
      "metadata": {
        "id": "bd-aKJ9lwI0O"
      },
      "source": [
        "## Missing Values"
      ]
    },
    {
      "cell_type": "markdown",
      "metadata": {
        "id": "ZdkXMlUHWxzY"
      },
      "source": [
        "Terkadang data mungkin dalam format yang benar, tetapi beberapa nilainya hilang.\n",
        "\n",
        "*   Nilai yang hilang terjadi ketika tidak ada nilai data yang disimpan untuk suatu variabel (fitur) dalam suatu observasi.\n",
        "*   Biasanya missing value di datase muncul sebagai “?”, “T/A”, 0 atau hanya sel kosong."
      ]
    },
    {
      "cell_type": "markdown",
      "metadata": {
        "id": "tw3zM_5DY3C6"
      },
      "source": [
        "Untuk menangani missing values, tidak terdapat jawaban tunggal yang selalu bekerja untuk semua skenario, karena  tentunya penanganan missing values harus disesuaikan dengan kondisi data atau fitur yang memiliki missing values. Namun, terdapat beberapa opsi umum yang dapat dipertimbangkan, yaitu:\n",
        "\n",
        "*   Periksa lagi dengan orang/kelompok yang mengumpulkan data.\n",
        "*   Jika kita tidak mengetahui nilai yang hilang, opsi yang mungkin adalah menghapus/drop missing values.\n",
        "    * Menghapus kolom yang mengandung missing values, atau\n",
        "    * Menghapus beberapa baris data yang mengandung missing values.\n",
        "*  Jika data relatif sedikit, opsi yang mungkin adalah mengganti/replace nilai missing values.\n",
        "    * Mengganti nilai missing value dengan nilai mean keseluruhan variabel.\n",
        "    * Jika variabelnya non-numerik, ganti nilai missing value dengan frekuensi/modus.\n",
        "*   Jika kita berasumsi data tersebut tetap akan berguna meskipun ada fitur yang hilang, maka kita dapat membiarkan missing values.\n",
        "\n",
        "\n",
        "\n",
        "\n"
      ]
    },
    {
      "cell_type": "code",
      "metadata": {
        "id": "jxmLWlatOVF8"
      },
      "source": [
        "# Cek missing value\n",
        "def cek_null(df):\n",
        "    col_na = df.isnull().sum().sort_values(ascending=False)\n",
        "    percent = col_na / len(df)\n",
        "\n",
        "    missing_data = pd.concat([col_na, percent], axis=1, keys=['Total', 'Percent'])\n",
        "    print(missing_data[missing_data['Total'] > 0])"
      ],
      "execution_count": null,
      "outputs": []
    },
    {
      "cell_type": "code",
      "metadata": {
        "id": "G_vYn8ZxOVF9",
        "colab": {
          "base_uri": "https://localhost:8080/"
        },
        "outputId": "5db7b866-2547-4ac8-d6de-03cd4b39cf7f"
      },
      "source": [
        "cek_null(merged_cars)"
      ],
      "execution_count": null,
      "outputs": [
        {
          "output_type": "stream",
          "name": "stdout",
          "text": [
            "                  Total   Percent\n",
            "curbweight          175  0.829384\n",
            "enginetype           19  0.090047\n",
            "enginelocation       19  0.090047\n",
            "cylindernumber       19  0.090047\n",
            "drivewheel           16  0.075829\n",
            "carheight            16  0.075829\n",
            "compressionratio      8  0.037915\n",
            "aspiration            5  0.023697\n",
            "doornumber            5  0.023697\n",
            "carbody               5  0.023697\n",
            "enginesize            5  0.023697\n",
            "fuelsystem            4  0.018957\n",
            "carwidth              2  0.009479\n",
            "carlength             2  0.009479\n",
            "wheelbase             2  0.009479\n",
            "fueltype              1  0.004739\n",
            "horsepower            1  0.004739\n"
          ]
        }
      ]
    },
    {
      "cell_type": "markdown",
      "metadata": {
        "id": "E6VwvbP5z-Rk"
      },
      "source": [
        "Terdapat beberapa atribut memiliki null value yang sangat banyak, atribut body memiliki null value yang paling banyak hingga 81%, \"curbweight\""
      ]
    },
    {
      "cell_type": "code",
      "metadata": {
        "id": "1Lf9rpqPpQUe",
        "colab": {
          "base_uri": "https://localhost:8080/"
        },
        "outputId": "80e55a7c-5b51-4b0c-b14d-49787620c918"
      },
      "source": [
        "# Melihat isi cabin (20 baris pertama)\n",
        "merged_cars['curbweight'].head(20)"
      ],
      "execution_count": null,
      "outputs": [
        {
          "output_type": "execute_result",
          "data": {
            "text/plain": [
              "0     2548.0\n",
              "1        NaN\n",
              "2        NaN\n",
              "3        NaN\n",
              "4        NaN\n",
              "5        NaN\n",
              "6     2844.0\n",
              "7     2954.0\n",
              "8        NaN\n",
              "9        NaN\n",
              "10       NaN\n",
              "11       NaN\n",
              "12       NaN\n",
              "13       NaN\n",
              "14       NaN\n",
              "15       NaN\n",
              "16       NaN\n",
              "17       NaN\n",
              "18       NaN\n",
              "19       NaN\n",
              "Name: curbweight, dtype: float64"
            ]
          },
          "metadata": {},
          "execution_count": 27
        }
      ]
    },
    {
      "cell_type": "code",
      "metadata": {
        "id": "SaljTpbZqsvH",
        "colab": {
          "base_uri": "https://localhost:8080/",
          "height": 322
        },
        "outputId": "62a10753-63cf-433b-a8d7-63b6ecf6f0f2"
      },
      "source": [
        "# Drop atribut yang dianggap tidak penting\n",
        "cars_cleaned = merged_cars.drop(['curbweight', 'peakrpm'], axis=1)\n",
        "cars_cleaned.head()"
      ],
      "execution_count": null,
      "outputs": [
        {
          "output_type": "execute_result",
          "data": {
            "text/plain": [
              "       CarName fueltype aspiration  doornumber      carbody drivewheel  \\\n",
              "0  alfa-romero      gas        std         2.0  convertible        rwd   \n",
              "1  alfa-romero      gas        std         2.0  convertible        rwd   \n",
              "2  alfa-romero      gas        std         2.0    hatchback        rwd   \n",
              "3         audi      gas        std         4.0        sedan        fwd   \n",
              "4         audi      gas        std         4.0        sedan        4wd   \n",
              "\n",
              "  enginelocation  wheelbase  carlength  carwidth  carheight enginetype  \\\n",
              "0          front       88.6      168.8      64.1       48.8       dohc   \n",
              "1          front       88.6      168.8      64.1       48.8       dohc   \n",
              "2          front       94.5      171.2      65.5       52.4       ohcv   \n",
              "3          front       99.8      176.6      66.2       54.3        ohc   \n",
              "4          front       99.4      176.6      66.4       54.3        ohc   \n",
              "\n",
              "   cylindernumber  enginesize fuelsystem  compressionratio  horsepower  \\\n",
              "0             4.0       130.0       mpfi               9.0       111.0   \n",
              "1             4.0       130.0       mpfi               9.0       111.0   \n",
              "2             4.0       152.0       mpfi               9.0       154.0   \n",
              "3             4.0       109.0       mpfi              10.0       102.0   \n",
              "4             4.0       136.0       mpfi               8.0       115.0   \n",
              "\n",
              "   citympg  highwaympg    price  \n",
              "0       21          27  13495.0  \n",
              "1       21          27  16500.0  \n",
              "2       19          26  16500.0  \n",
              "3       24          30  13950.0  \n",
              "4       18          22  17450.0  "
            ],
            "text/html": [
              "\n",
              "  <div id=\"df-07d88c19-5d05-43aa-beb4-3fac47964194\">\n",
              "    <div class=\"colab-df-container\">\n",
              "      <div>\n",
              "<style scoped>\n",
              "    .dataframe tbody tr th:only-of-type {\n",
              "        vertical-align: middle;\n",
              "    }\n",
              "\n",
              "    .dataframe tbody tr th {\n",
              "        vertical-align: top;\n",
              "    }\n",
              "\n",
              "    .dataframe thead th {\n",
              "        text-align: right;\n",
              "    }\n",
              "</style>\n",
              "<table border=\"1\" class=\"dataframe\">\n",
              "  <thead>\n",
              "    <tr style=\"text-align: right;\">\n",
              "      <th></th>\n",
              "      <th>CarName</th>\n",
              "      <th>fueltype</th>\n",
              "      <th>aspiration</th>\n",
              "      <th>doornumber</th>\n",
              "      <th>carbody</th>\n",
              "      <th>drivewheel</th>\n",
              "      <th>enginelocation</th>\n",
              "      <th>wheelbase</th>\n",
              "      <th>carlength</th>\n",
              "      <th>carwidth</th>\n",
              "      <th>carheight</th>\n",
              "      <th>enginetype</th>\n",
              "      <th>cylindernumber</th>\n",
              "      <th>enginesize</th>\n",
              "      <th>fuelsystem</th>\n",
              "      <th>compressionratio</th>\n",
              "      <th>horsepower</th>\n",
              "      <th>citympg</th>\n",
              "      <th>highwaympg</th>\n",
              "      <th>price</th>\n",
              "    </tr>\n",
              "  </thead>\n",
              "  <tbody>\n",
              "    <tr>\n",
              "      <th>0</th>\n",
              "      <td>alfa-romero</td>\n",
              "      <td>gas</td>\n",
              "      <td>std</td>\n",
              "      <td>2.0</td>\n",
              "      <td>convertible</td>\n",
              "      <td>rwd</td>\n",
              "      <td>front</td>\n",
              "      <td>88.6</td>\n",
              "      <td>168.8</td>\n",
              "      <td>64.1</td>\n",
              "      <td>48.8</td>\n",
              "      <td>dohc</td>\n",
              "      <td>4.0</td>\n",
              "      <td>130.0</td>\n",
              "      <td>mpfi</td>\n",
              "      <td>9.0</td>\n",
              "      <td>111.0</td>\n",
              "      <td>21</td>\n",
              "      <td>27</td>\n",
              "      <td>13495.0</td>\n",
              "    </tr>\n",
              "    <tr>\n",
              "      <th>1</th>\n",
              "      <td>alfa-romero</td>\n",
              "      <td>gas</td>\n",
              "      <td>std</td>\n",
              "      <td>2.0</td>\n",
              "      <td>convertible</td>\n",
              "      <td>rwd</td>\n",
              "      <td>front</td>\n",
              "      <td>88.6</td>\n",
              "      <td>168.8</td>\n",
              "      <td>64.1</td>\n",
              "      <td>48.8</td>\n",
              "      <td>dohc</td>\n",
              "      <td>4.0</td>\n",
              "      <td>130.0</td>\n",
              "      <td>mpfi</td>\n",
              "      <td>9.0</td>\n",
              "      <td>111.0</td>\n",
              "      <td>21</td>\n",
              "      <td>27</td>\n",
              "      <td>16500.0</td>\n",
              "    </tr>\n",
              "    <tr>\n",
              "      <th>2</th>\n",
              "      <td>alfa-romero</td>\n",
              "      <td>gas</td>\n",
              "      <td>std</td>\n",
              "      <td>2.0</td>\n",
              "      <td>hatchback</td>\n",
              "      <td>rwd</td>\n",
              "      <td>front</td>\n",
              "      <td>94.5</td>\n",
              "      <td>171.2</td>\n",
              "      <td>65.5</td>\n",
              "      <td>52.4</td>\n",
              "      <td>ohcv</td>\n",
              "      <td>4.0</td>\n",
              "      <td>152.0</td>\n",
              "      <td>mpfi</td>\n",
              "      <td>9.0</td>\n",
              "      <td>154.0</td>\n",
              "      <td>19</td>\n",
              "      <td>26</td>\n",
              "      <td>16500.0</td>\n",
              "    </tr>\n",
              "    <tr>\n",
              "      <th>3</th>\n",
              "      <td>audi</td>\n",
              "      <td>gas</td>\n",
              "      <td>std</td>\n",
              "      <td>4.0</td>\n",
              "      <td>sedan</td>\n",
              "      <td>fwd</td>\n",
              "      <td>front</td>\n",
              "      <td>99.8</td>\n",
              "      <td>176.6</td>\n",
              "      <td>66.2</td>\n",
              "      <td>54.3</td>\n",
              "      <td>ohc</td>\n",
              "      <td>4.0</td>\n",
              "      <td>109.0</td>\n",
              "      <td>mpfi</td>\n",
              "      <td>10.0</td>\n",
              "      <td>102.0</td>\n",
              "      <td>24</td>\n",
              "      <td>30</td>\n",
              "      <td>13950.0</td>\n",
              "    </tr>\n",
              "    <tr>\n",
              "      <th>4</th>\n",
              "      <td>audi</td>\n",
              "      <td>gas</td>\n",
              "      <td>std</td>\n",
              "      <td>4.0</td>\n",
              "      <td>sedan</td>\n",
              "      <td>4wd</td>\n",
              "      <td>front</td>\n",
              "      <td>99.4</td>\n",
              "      <td>176.6</td>\n",
              "      <td>66.4</td>\n",
              "      <td>54.3</td>\n",
              "      <td>ohc</td>\n",
              "      <td>4.0</td>\n",
              "      <td>136.0</td>\n",
              "      <td>mpfi</td>\n",
              "      <td>8.0</td>\n",
              "      <td>115.0</td>\n",
              "      <td>18</td>\n",
              "      <td>22</td>\n",
              "      <td>17450.0</td>\n",
              "    </tr>\n",
              "  </tbody>\n",
              "</table>\n",
              "</div>\n",
              "      <button class=\"colab-df-convert\" onclick=\"convertToInteractive('df-07d88c19-5d05-43aa-beb4-3fac47964194')\"\n",
              "              title=\"Convert this dataframe to an interactive table.\"\n",
              "              style=\"display:none;\">\n",
              "        \n",
              "  <svg xmlns=\"http://www.w3.org/2000/svg\" height=\"24px\"viewBox=\"0 0 24 24\"\n",
              "       width=\"24px\">\n",
              "    <path d=\"M0 0h24v24H0V0z\" fill=\"none\"/>\n",
              "    <path d=\"M18.56 5.44l.94 2.06.94-2.06 2.06-.94-2.06-.94-.94-2.06-.94 2.06-2.06.94zm-11 1L8.5 8.5l.94-2.06 2.06-.94-2.06-.94L8.5 2.5l-.94 2.06-2.06.94zm10 10l.94 2.06.94-2.06 2.06-.94-2.06-.94-.94-2.06-.94 2.06-2.06.94z\"/><path d=\"M17.41 7.96l-1.37-1.37c-.4-.4-.92-.59-1.43-.59-.52 0-1.04.2-1.43.59L10.3 9.45l-7.72 7.72c-.78.78-.78 2.05 0 2.83L4 21.41c.39.39.9.59 1.41.59.51 0 1.02-.2 1.41-.59l7.78-7.78 2.81-2.81c.8-.78.8-2.07 0-2.86zM5.41 20L4 18.59l7.72-7.72 1.47 1.35L5.41 20z\"/>\n",
              "  </svg>\n",
              "      </button>\n",
              "      \n",
              "  <style>\n",
              "    .colab-df-container {\n",
              "      display:flex;\n",
              "      flex-wrap:wrap;\n",
              "      gap: 12px;\n",
              "    }\n",
              "\n",
              "    .colab-df-convert {\n",
              "      background-color: #E8F0FE;\n",
              "      border: none;\n",
              "      border-radius: 50%;\n",
              "      cursor: pointer;\n",
              "      display: none;\n",
              "      fill: #1967D2;\n",
              "      height: 32px;\n",
              "      padding: 0 0 0 0;\n",
              "      width: 32px;\n",
              "    }\n",
              "\n",
              "    .colab-df-convert:hover {\n",
              "      background-color: #E2EBFA;\n",
              "      box-shadow: 0px 1px 2px rgba(60, 64, 67, 0.3), 0px 1px 3px 1px rgba(60, 64, 67, 0.15);\n",
              "      fill: #174EA6;\n",
              "    }\n",
              "\n",
              "    [theme=dark] .colab-df-convert {\n",
              "      background-color: #3B4455;\n",
              "      fill: #D2E3FC;\n",
              "    }\n",
              "\n",
              "    [theme=dark] .colab-df-convert:hover {\n",
              "      background-color: #434B5C;\n",
              "      box-shadow: 0px 1px 3px 1px rgba(0, 0, 0, 0.15);\n",
              "      filter: drop-shadow(0px 1px 2px rgba(0, 0, 0, 0.3));\n",
              "      fill: #FFFFFF;\n",
              "    }\n",
              "  </style>\n",
              "\n",
              "      <script>\n",
              "        const buttonEl =\n",
              "          document.querySelector('#df-07d88c19-5d05-43aa-beb4-3fac47964194 button.colab-df-convert');\n",
              "        buttonEl.style.display =\n",
              "          google.colab.kernel.accessAllowed ? 'block' : 'none';\n",
              "\n",
              "        async function convertToInteractive(key) {\n",
              "          const element = document.querySelector('#df-07d88c19-5d05-43aa-beb4-3fac47964194');\n",
              "          const dataTable =\n",
              "            await google.colab.kernel.invokeFunction('convertToInteractive',\n",
              "                                                     [key], {});\n",
              "          if (!dataTable) return;\n",
              "\n",
              "          const docLinkHtml = 'Like what you see? Visit the ' +\n",
              "            '<a target=\"_blank\" href=https://colab.research.google.com/notebooks/data_table.ipynb>data table notebook</a>'\n",
              "            + ' to learn more about interactive tables.';\n",
              "          element.innerHTML = '';\n",
              "          dataTable['output_type'] = 'display_data';\n",
              "          await google.colab.output.renderOutput(dataTable, element);\n",
              "          const docLink = document.createElement('div');\n",
              "          docLink.innerHTML = docLinkHtml;\n",
              "          element.appendChild(docLink);\n",
              "        }\n",
              "      </script>\n",
              "    </div>\n",
              "  </div>\n",
              "  "
            ]
          },
          "metadata": {},
          "execution_count": 28
        }
      ]
    },
    {
      "cell_type": "markdown",
      "metadata": {
        "id": "kv7NsoTEm_zU"
      },
      "source": [
        "Atribut-atribut tersebut dianggap tidak penting berdasarkan pertimbangan, nalar, atau basic knowledge manusia. Sebagai contoh, apabila kita ingin mengukur survival rate penumpang Titanic, atribut nama pada dataset ini tidak mengindikasikan apakah dia survive apa tidak. Selain itu, ada beberapa atribut juga yang mungkin tidak akan mempengaruhi pengukuran tersebut. Sehingga atribut-atribut tersebut dapat didrop.\n"
      ]
    },
    {
      "cell_type": "markdown",
      "metadata": {
        "id": "2wg_F4N3tQPn"
      },
      "source": [
        "Atribut perlu didrop apabila:\n",
        "\n",
        "*   Atribut tidak intuitif.\n",
        "*   Atribut mempunyai banyak missing values.\n",
        "*   Atribut tidak informatif.\n",
        "*   Atribut dapat membahayakan untuk model tertentu.\n",
        "*   Atribut tersebut dapat dihasilkan dari atribut yang lain.\n",
        "\n"
      ]
    },
    {
      "cell_type": "markdown",
      "metadata": {
        "id": "e7Q-qUDPz-Rm"
      },
      "source": [
        "Setelah atribut yang tidak penting dihapus, perlu ditangani atribut yang masih mengandung null value."
      ]
    },
    {
      "cell_type": "code",
      "metadata": {
        "id": "vlyjIawArFUI"
      },
      "source": [
        "# Untuk atribut enginelocation, null value akan diisi dengan \"front\"\n",
        "cars_cleaned['enginelocation'] = cars_cleaned['enginelocation'].fillna('front')"
      ],
      "execution_count": null,
      "outputs": []
    },
    {
      "cell_type": "code",
      "source": [
        "# Untuk atribut drivewheel, null value akan diisi dengan \"4wd\"\n",
        "cars_cleaned['drivewheel'] = cars_cleaned['drivewheel'].fillna('4wd')"
      ],
      "metadata": {
        "id": "7-kkjlHfgbKt"
      },
      "execution_count": null,
      "outputs": []
    },
    {
      "cell_type": "code",
      "source": [
        "# Untuk atribut enginetype, null value akan diisi dengan \"ohc\"\n",
        "cars_cleaned['enginetype'] = cars_cleaned['enginetype'].fillna('ohc')"
      ],
      "metadata": {
        "id": "hYm9ms0Fgnrg"
      },
      "execution_count": null,
      "outputs": []
    },
    {
      "cell_type": "code",
      "metadata": {
        "id": "NKY1kVzWrpsV"
      },
      "source": [
        "# Untuk atribute \"cylindernumber\", null value akan diisi dengan nilai mode\n",
        "col = ['cylindernumber']\n",
        "for c in col:\n",
        "    mode = int(cars_cleaned[~cars_cleaned.isna()].cylindernumber.mode())\n",
        "    cars_cleaned[c] = cars_cleaned[c].fillna(mode)"
      ],
      "execution_count": null,
      "outputs": []
    },
    {
      "cell_type": "code",
      "source": [
        "# Untuk atribute \"carheight\", null value akan diisi dengan nilai median\n",
        "col = ['carheight']\n",
        "for c in col:\n",
        "    median = int(cars_cleaned[~cars_cleaned.isna()].carheight.median())\n",
        "    cars_cleaned[c] = cars_cleaned[c].fillna(median)"
      ],
      "metadata": {
        "id": "mhElxhMPjvcZ"
      },
      "execution_count": null,
      "outputs": []
    },
    {
      "cell_type": "code",
      "source": [
        "# Untuk atribute \"compressionratio\", null value akan diisi dengan nilai median\n",
        "col = ['compressionratio']\n",
        "for c in col:\n",
        "    median = int(cars_cleaned[~cars_cleaned.isna()].compressionratio.median())\n",
        "    cars_cleaned[c] = cars_cleaned[c].fillna(median)"
      ],
      "metadata": {
        "id": "GclBIWrakQUl"
      },
      "execution_count": null,
      "outputs": []
    },
    {
      "cell_type": "code",
      "metadata": {
        "id": "TSXGJngarAAT",
        "colab": {
          "base_uri": "https://localhost:8080/"
        },
        "outputId": "9fea87d9-e0db-4e00-c062-f190f556839b"
      },
      "source": [
        "cek_null(cars_cleaned)"
      ],
      "execution_count": null,
      "outputs": [
        {
          "output_type": "stream",
          "name": "stdout",
          "text": [
            "            Total   Percent\n",
            "aspiration      5  0.023697\n",
            "doornumber      5  0.023697\n",
            "carbody         5  0.023697\n",
            "enginesize      5  0.023697\n",
            "fuelsystem      4  0.018957\n",
            "wheelbase       2  0.009479\n",
            "carlength       2  0.009479\n",
            "carwidth        2  0.009479\n",
            "fueltype        1  0.004739\n",
            "horsepower      1  0.004739\n"
          ]
        }
      ]
    },
    {
      "cell_type": "code",
      "metadata": {
        "id": "vj9pull1OVGK"
      },
      "source": [
        "# Hapus baris yang atribute \"fare\" bernilai null\n",
        "cars_cleaned.dropna(inplace=True)"
      ],
      "execution_count": null,
      "outputs": []
    },
    {
      "cell_type": "code",
      "metadata": {
        "id": "ISI2cUbBuapN",
        "colab": {
          "base_uri": "https://localhost:8080/"
        },
        "outputId": "c5b11304-0257-4445-d146-9757412f5aa4"
      },
      "source": [
        "cars_cleaned.shape"
      ],
      "execution_count": null,
      "outputs": [
        {
          "output_type": "execute_result",
          "data": {
            "text/plain": [
              "(191, 20)"
            ]
          },
          "metadata": {},
          "execution_count": 37
        }
      ]
    },
    {
      "cell_type": "code",
      "metadata": {
        "id": "9IFXEigrOVGK",
        "colab": {
          "base_uri": "https://localhost:8080/",
          "height": 322
        },
        "outputId": "31b0d201-3f2f-4f0f-fec9-b26c3599d3a6"
      },
      "source": [
        "cars_cleaned.head()"
      ],
      "execution_count": null,
      "outputs": [
        {
          "output_type": "execute_result",
          "data": {
            "text/plain": [
              "       CarName fueltype aspiration  doornumber      carbody drivewheel  \\\n",
              "0  alfa-romero      gas        std         2.0  convertible        rwd   \n",
              "1  alfa-romero      gas        std         2.0  convertible        rwd   \n",
              "2  alfa-romero      gas        std         2.0    hatchback        rwd   \n",
              "3         audi      gas        std         4.0        sedan        fwd   \n",
              "4         audi      gas        std         4.0        sedan        4wd   \n",
              "\n",
              "  enginelocation  wheelbase  carlength  carwidth  carheight enginetype  \\\n",
              "0          front       88.6      168.8      64.1       48.8       dohc   \n",
              "1          front       88.6      168.8      64.1       48.8       dohc   \n",
              "2          front       94.5      171.2      65.5       52.4       ohcv   \n",
              "3          front       99.8      176.6      66.2       54.3        ohc   \n",
              "4          front       99.4      176.6      66.4       54.3        ohc   \n",
              "\n",
              "   cylindernumber  enginesize fuelsystem  compressionratio  horsepower  \\\n",
              "0             4.0       130.0       mpfi               9.0       111.0   \n",
              "1             4.0       130.0       mpfi               9.0       111.0   \n",
              "2             4.0       152.0       mpfi               9.0       154.0   \n",
              "3             4.0       109.0       mpfi              10.0       102.0   \n",
              "4             4.0       136.0       mpfi               8.0       115.0   \n",
              "\n",
              "   citympg  highwaympg    price  \n",
              "0       21          27  13495.0  \n",
              "1       21          27  16500.0  \n",
              "2       19          26  16500.0  \n",
              "3       24          30  13950.0  \n",
              "4       18          22  17450.0  "
            ],
            "text/html": [
              "\n",
              "  <div id=\"df-75119584-c88f-496c-bb1b-7762250eda8e\">\n",
              "    <div class=\"colab-df-container\">\n",
              "      <div>\n",
              "<style scoped>\n",
              "    .dataframe tbody tr th:only-of-type {\n",
              "        vertical-align: middle;\n",
              "    }\n",
              "\n",
              "    .dataframe tbody tr th {\n",
              "        vertical-align: top;\n",
              "    }\n",
              "\n",
              "    .dataframe thead th {\n",
              "        text-align: right;\n",
              "    }\n",
              "</style>\n",
              "<table border=\"1\" class=\"dataframe\">\n",
              "  <thead>\n",
              "    <tr style=\"text-align: right;\">\n",
              "      <th></th>\n",
              "      <th>CarName</th>\n",
              "      <th>fueltype</th>\n",
              "      <th>aspiration</th>\n",
              "      <th>doornumber</th>\n",
              "      <th>carbody</th>\n",
              "      <th>drivewheel</th>\n",
              "      <th>enginelocation</th>\n",
              "      <th>wheelbase</th>\n",
              "      <th>carlength</th>\n",
              "      <th>carwidth</th>\n",
              "      <th>carheight</th>\n",
              "      <th>enginetype</th>\n",
              "      <th>cylindernumber</th>\n",
              "      <th>enginesize</th>\n",
              "      <th>fuelsystem</th>\n",
              "      <th>compressionratio</th>\n",
              "      <th>horsepower</th>\n",
              "      <th>citympg</th>\n",
              "      <th>highwaympg</th>\n",
              "      <th>price</th>\n",
              "    </tr>\n",
              "  </thead>\n",
              "  <tbody>\n",
              "    <tr>\n",
              "      <th>0</th>\n",
              "      <td>alfa-romero</td>\n",
              "      <td>gas</td>\n",
              "      <td>std</td>\n",
              "      <td>2.0</td>\n",
              "      <td>convertible</td>\n",
              "      <td>rwd</td>\n",
              "      <td>front</td>\n",
              "      <td>88.6</td>\n",
              "      <td>168.8</td>\n",
              "      <td>64.1</td>\n",
              "      <td>48.8</td>\n",
              "      <td>dohc</td>\n",
              "      <td>4.0</td>\n",
              "      <td>130.0</td>\n",
              "      <td>mpfi</td>\n",
              "      <td>9.0</td>\n",
              "      <td>111.0</td>\n",
              "      <td>21</td>\n",
              "      <td>27</td>\n",
              "      <td>13495.0</td>\n",
              "    </tr>\n",
              "    <tr>\n",
              "      <th>1</th>\n",
              "      <td>alfa-romero</td>\n",
              "      <td>gas</td>\n",
              "      <td>std</td>\n",
              "      <td>2.0</td>\n",
              "      <td>convertible</td>\n",
              "      <td>rwd</td>\n",
              "      <td>front</td>\n",
              "      <td>88.6</td>\n",
              "      <td>168.8</td>\n",
              "      <td>64.1</td>\n",
              "      <td>48.8</td>\n",
              "      <td>dohc</td>\n",
              "      <td>4.0</td>\n",
              "      <td>130.0</td>\n",
              "      <td>mpfi</td>\n",
              "      <td>9.0</td>\n",
              "      <td>111.0</td>\n",
              "      <td>21</td>\n",
              "      <td>27</td>\n",
              "      <td>16500.0</td>\n",
              "    </tr>\n",
              "    <tr>\n",
              "      <th>2</th>\n",
              "      <td>alfa-romero</td>\n",
              "      <td>gas</td>\n",
              "      <td>std</td>\n",
              "      <td>2.0</td>\n",
              "      <td>hatchback</td>\n",
              "      <td>rwd</td>\n",
              "      <td>front</td>\n",
              "      <td>94.5</td>\n",
              "      <td>171.2</td>\n",
              "      <td>65.5</td>\n",
              "      <td>52.4</td>\n",
              "      <td>ohcv</td>\n",
              "      <td>4.0</td>\n",
              "      <td>152.0</td>\n",
              "      <td>mpfi</td>\n",
              "      <td>9.0</td>\n",
              "      <td>154.0</td>\n",
              "      <td>19</td>\n",
              "      <td>26</td>\n",
              "      <td>16500.0</td>\n",
              "    </tr>\n",
              "    <tr>\n",
              "      <th>3</th>\n",
              "      <td>audi</td>\n",
              "      <td>gas</td>\n",
              "      <td>std</td>\n",
              "      <td>4.0</td>\n",
              "      <td>sedan</td>\n",
              "      <td>fwd</td>\n",
              "      <td>front</td>\n",
              "      <td>99.8</td>\n",
              "      <td>176.6</td>\n",
              "      <td>66.2</td>\n",
              "      <td>54.3</td>\n",
              "      <td>ohc</td>\n",
              "      <td>4.0</td>\n",
              "      <td>109.0</td>\n",
              "      <td>mpfi</td>\n",
              "      <td>10.0</td>\n",
              "      <td>102.0</td>\n",
              "      <td>24</td>\n",
              "      <td>30</td>\n",
              "      <td>13950.0</td>\n",
              "    </tr>\n",
              "    <tr>\n",
              "      <th>4</th>\n",
              "      <td>audi</td>\n",
              "      <td>gas</td>\n",
              "      <td>std</td>\n",
              "      <td>4.0</td>\n",
              "      <td>sedan</td>\n",
              "      <td>4wd</td>\n",
              "      <td>front</td>\n",
              "      <td>99.4</td>\n",
              "      <td>176.6</td>\n",
              "      <td>66.4</td>\n",
              "      <td>54.3</td>\n",
              "      <td>ohc</td>\n",
              "      <td>4.0</td>\n",
              "      <td>136.0</td>\n",
              "      <td>mpfi</td>\n",
              "      <td>8.0</td>\n",
              "      <td>115.0</td>\n",
              "      <td>18</td>\n",
              "      <td>22</td>\n",
              "      <td>17450.0</td>\n",
              "    </tr>\n",
              "  </tbody>\n",
              "</table>\n",
              "</div>\n",
              "      <button class=\"colab-df-convert\" onclick=\"convertToInteractive('df-75119584-c88f-496c-bb1b-7762250eda8e')\"\n",
              "              title=\"Convert this dataframe to an interactive table.\"\n",
              "              style=\"display:none;\">\n",
              "        \n",
              "  <svg xmlns=\"http://www.w3.org/2000/svg\" height=\"24px\"viewBox=\"0 0 24 24\"\n",
              "       width=\"24px\">\n",
              "    <path d=\"M0 0h24v24H0V0z\" fill=\"none\"/>\n",
              "    <path d=\"M18.56 5.44l.94 2.06.94-2.06 2.06-.94-2.06-.94-.94-2.06-.94 2.06-2.06.94zm-11 1L8.5 8.5l.94-2.06 2.06-.94-2.06-.94L8.5 2.5l-.94 2.06-2.06.94zm10 10l.94 2.06.94-2.06 2.06-.94-2.06-.94-.94-2.06-.94 2.06-2.06.94z\"/><path d=\"M17.41 7.96l-1.37-1.37c-.4-.4-.92-.59-1.43-.59-.52 0-1.04.2-1.43.59L10.3 9.45l-7.72 7.72c-.78.78-.78 2.05 0 2.83L4 21.41c.39.39.9.59 1.41.59.51 0 1.02-.2 1.41-.59l7.78-7.78 2.81-2.81c.8-.78.8-2.07 0-2.86zM5.41 20L4 18.59l7.72-7.72 1.47 1.35L5.41 20z\"/>\n",
              "  </svg>\n",
              "      </button>\n",
              "      \n",
              "  <style>\n",
              "    .colab-df-container {\n",
              "      display:flex;\n",
              "      flex-wrap:wrap;\n",
              "      gap: 12px;\n",
              "    }\n",
              "\n",
              "    .colab-df-convert {\n",
              "      background-color: #E8F0FE;\n",
              "      border: none;\n",
              "      border-radius: 50%;\n",
              "      cursor: pointer;\n",
              "      display: none;\n",
              "      fill: #1967D2;\n",
              "      height: 32px;\n",
              "      padding: 0 0 0 0;\n",
              "      width: 32px;\n",
              "    }\n",
              "\n",
              "    .colab-df-convert:hover {\n",
              "      background-color: #E2EBFA;\n",
              "      box-shadow: 0px 1px 2px rgba(60, 64, 67, 0.3), 0px 1px 3px 1px rgba(60, 64, 67, 0.15);\n",
              "      fill: #174EA6;\n",
              "    }\n",
              "\n",
              "    [theme=dark] .colab-df-convert {\n",
              "      background-color: #3B4455;\n",
              "      fill: #D2E3FC;\n",
              "    }\n",
              "\n",
              "    [theme=dark] .colab-df-convert:hover {\n",
              "      background-color: #434B5C;\n",
              "      box-shadow: 0px 1px 3px 1px rgba(0, 0, 0, 0.15);\n",
              "      filter: drop-shadow(0px 1px 2px rgba(0, 0, 0, 0.3));\n",
              "      fill: #FFFFFF;\n",
              "    }\n",
              "  </style>\n",
              "\n",
              "      <script>\n",
              "        const buttonEl =\n",
              "          document.querySelector('#df-75119584-c88f-496c-bb1b-7762250eda8e button.colab-df-convert');\n",
              "        buttonEl.style.display =\n",
              "          google.colab.kernel.accessAllowed ? 'block' : 'none';\n",
              "\n",
              "        async function convertToInteractive(key) {\n",
              "          const element = document.querySelector('#df-75119584-c88f-496c-bb1b-7762250eda8e');\n",
              "          const dataTable =\n",
              "            await google.colab.kernel.invokeFunction('convertToInteractive',\n",
              "                                                     [key], {});\n",
              "          if (!dataTable) return;\n",
              "\n",
              "          const docLinkHtml = 'Like what you see? Visit the ' +\n",
              "            '<a target=\"_blank\" href=https://colab.research.google.com/notebooks/data_table.ipynb>data table notebook</a>'\n",
              "            + ' to learn more about interactive tables.';\n",
              "          element.innerHTML = '';\n",
              "          dataTable['output_type'] = 'display_data';\n",
              "          await google.colab.output.renderOutput(dataTable, element);\n",
              "          const docLink = document.createElement('div');\n",
              "          docLink.innerHTML = docLinkHtml;\n",
              "          element.appendChild(docLink);\n",
              "        }\n",
              "      </script>\n",
              "    </div>\n",
              "  </div>\n",
              "  "
            ]
          },
          "metadata": {},
          "execution_count": 38
        }
      ]
    },
    {
      "cell_type": "markdown",
      "source": [
        "## Label Encoding"
      ],
      "metadata": {
        "id": "-XF3RHBnqNfa"
      }
    },
    {
      "cell_type": "code",
      "metadata": {
        "id": "fwlxWzK7ujcs",
        "colab": {
          "base_uri": "https://localhost:8080/"
        },
        "outputId": "4be735de-0aaa-4fa3-b1b9-26fb3d07fb9a"
      },
      "source": [
        "merged_cars.info()"
      ],
      "execution_count": null,
      "outputs": [
        {
          "output_type": "stream",
          "name": "stdout",
          "text": [
            "<class 'pandas.core.frame.DataFrame'>\n",
            "Int64Index: 211 entries, 0 to 237\n",
            "Data columns (total 22 columns):\n",
            " #   Column            Non-Null Count  Dtype  \n",
            "---  ------            --------------  -----  \n",
            " 0   CarName           211 non-null    object \n",
            " 1   fueltype          210 non-null    object \n",
            " 2   aspiration        206 non-null    object \n",
            " 3   doornumber        206 non-null    float64\n",
            " 4   carbody           206 non-null    object \n",
            " 5   drivewheel        195 non-null    object \n",
            " 6   enginelocation    192 non-null    object \n",
            " 7   wheelbase         209 non-null    float64\n",
            " 8   carlength         209 non-null    float64\n",
            " 9   carwidth          209 non-null    float64\n",
            " 10  carheight         195 non-null    float64\n",
            " 11  curbweight        36 non-null     float64\n",
            " 12  enginetype        192 non-null    object \n",
            " 13  cylindernumber    192 non-null    float64\n",
            " 14  enginesize        206 non-null    float64\n",
            " 15  fuelsystem        207 non-null    object \n",
            " 16  compressionratio  203 non-null    float64\n",
            " 17  horsepower        210 non-null    float64\n",
            " 18  peakrpm           211 non-null    int64  \n",
            " 19  citympg           211 non-null    int64  \n",
            " 20  highwaympg        211 non-null    int64  \n",
            " 21  price             211 non-null    float64\n",
            "dtypes: float64(11), int64(3), object(8)\n",
            "memory usage: 46.0+ KB\n"
          ]
        }
      ]
    },
    {
      "cell_type": "code",
      "metadata": {
        "id": "YBTW9QWaunGK",
        "colab": {
          "base_uri": "https://localhost:8080/"
        },
        "outputId": "5484f99d-2b2d-44c3-c7eb-acf83d536ef2"
      },
      "source": [
        "# Melakukan label encoding, untuk mengubah data kategorikal bertipe string ke numeric value\n",
        "col = cars_cleaned.select_dtypes(include=[\"object\"]).columns\n",
        "\n",
        "for c in col:\n",
        "    print(cars_cleaned[c].value_counts())\n",
        "    if len(cars_cleaned[c].value_counts()) <= 28:\n",
        "        le = LabelEncoder()\n",
        "        le.fit(list(cars_cleaned[c].values))\n",
        "        cars_cleaned[c] = le.transform(list(cars_cleaned[c].values))"
      ],
      "execution_count": null,
      "outputs": [
        {
          "output_type": "stream",
          "name": "stdout",
          "text": [
            "toyota         28\n",
            "Nissan         18\n",
            "mazda          17\n",
            "subaru         15\n",
            "honda          13\n",
            "peugeot        11\n",
            "volvo          10\n",
            "volkswagen     10\n",
            "dodge           9\n",
            "buick           8\n",
            "plymouth        7\n",
            "mitsubishi      7\n",
            "audi            7\n",
            "saab            6\n",
            "porsche         5\n",
            "isuzu           4\n",
            "bmw             4\n",
            "jaguar          3\n",
            "chevrolet       3\n",
            "alfa-romero     3\n",
            "renault         2\n",
            "mercury         1\n",
            "Name: CarName, dtype: int64\n",
            "gas       171\n",
            "diesel     20\n",
            "Name: fueltype, dtype: int64\n",
            "std      158\n",
            "turbo     33\n",
            "Name: aspiration, dtype: int64\n",
            "sedan          90\n",
            "hatchback      64\n",
            "wagon          24\n",
            "hardtop         7\n",
            "convertible     5\n",
            "Car             1\n",
            "Name: carbody, dtype: int64\n",
            "fwd    102\n",
            "rwd     68\n",
            "4wd     21\n",
            "Name: drivewheel, dtype: int64\n",
            "front    188\n",
            "rear       3\n",
            "Name: enginelocation, dtype: int64\n",
            "ohc      137\n",
            "ohcf      18\n",
            "l         12\n",
            "ohcv      10\n",
            "dohc       9\n",
            "rotor      4\n",
            "dohcv      1\n",
            "Name: enginetype, dtype: int64\n",
            "mpfi    85\n",
            "2bbl    64\n",
            "idi     20\n",
            "1bbl    11\n",
            "spdi     6\n",
            "4bbl     3\n",
            "mfi      1\n",
            "spfi     1\n",
            "Name: fuelsystem, dtype: int64\n"
          ]
        }
      ]
    },
    {
      "cell_type": "code",
      "metadata": {
        "id": "oF5FvWysu97L",
        "colab": {
          "base_uri": "https://localhost:8080/",
          "height": 270
        },
        "outputId": "9c94758f-fc82-4ff4-fc28-ab2babe675d1"
      },
      "source": [
        "cars_cleaned.head()"
      ],
      "execution_count": null,
      "outputs": [
        {
          "output_type": "execute_result",
          "data": {
            "text/plain": [
              "   CarName  fueltype  aspiration  doornumber  carbody  drivewheel  \\\n",
              "0        1         1           0         2.0        1           2   \n",
              "1        1         1           0         2.0        1           2   \n",
              "2        1         1           0         2.0        3           2   \n",
              "3        2         1           0         4.0        4           1   \n",
              "4        2         1           0         4.0        4           0   \n",
              "\n",
              "   enginelocation  wheelbase  carlength  carwidth  carheight  enginetype  \\\n",
              "0               0       88.6      168.8      64.1       48.8           0   \n",
              "1               0       88.6      168.8      64.1       48.8           0   \n",
              "2               0       94.5      171.2      65.5       52.4           5   \n",
              "3               0       99.8      176.6      66.2       54.3           3   \n",
              "4               0       99.4      176.6      66.4       54.3           3   \n",
              "\n",
              "   cylindernumber  enginesize  fuelsystem  compressionratio  horsepower  \\\n",
              "0             4.0       130.0           5               9.0       111.0   \n",
              "1             4.0       130.0           5               9.0       111.0   \n",
              "2             4.0       152.0           5               9.0       154.0   \n",
              "3             4.0       109.0           5              10.0       102.0   \n",
              "4             4.0       136.0           5               8.0       115.0   \n",
              "\n",
              "   citympg  highwaympg    price  \n",
              "0       21          27  13495.0  \n",
              "1       21          27  16500.0  \n",
              "2       19          26  16500.0  \n",
              "3       24          30  13950.0  \n",
              "4       18          22  17450.0  "
            ],
            "text/html": [
              "\n",
              "  <div id=\"df-d7236b60-9f5a-4702-9192-a814959fea3a\">\n",
              "    <div class=\"colab-df-container\">\n",
              "      <div>\n",
              "<style scoped>\n",
              "    .dataframe tbody tr th:only-of-type {\n",
              "        vertical-align: middle;\n",
              "    }\n",
              "\n",
              "    .dataframe tbody tr th {\n",
              "        vertical-align: top;\n",
              "    }\n",
              "\n",
              "    .dataframe thead th {\n",
              "        text-align: right;\n",
              "    }\n",
              "</style>\n",
              "<table border=\"1\" class=\"dataframe\">\n",
              "  <thead>\n",
              "    <tr style=\"text-align: right;\">\n",
              "      <th></th>\n",
              "      <th>CarName</th>\n",
              "      <th>fueltype</th>\n",
              "      <th>aspiration</th>\n",
              "      <th>doornumber</th>\n",
              "      <th>carbody</th>\n",
              "      <th>drivewheel</th>\n",
              "      <th>enginelocation</th>\n",
              "      <th>wheelbase</th>\n",
              "      <th>carlength</th>\n",
              "      <th>carwidth</th>\n",
              "      <th>carheight</th>\n",
              "      <th>enginetype</th>\n",
              "      <th>cylindernumber</th>\n",
              "      <th>enginesize</th>\n",
              "      <th>fuelsystem</th>\n",
              "      <th>compressionratio</th>\n",
              "      <th>horsepower</th>\n",
              "      <th>citympg</th>\n",
              "      <th>highwaympg</th>\n",
              "      <th>price</th>\n",
              "    </tr>\n",
              "  </thead>\n",
              "  <tbody>\n",
              "    <tr>\n",
              "      <th>0</th>\n",
              "      <td>1</td>\n",
              "      <td>1</td>\n",
              "      <td>0</td>\n",
              "      <td>2.0</td>\n",
              "      <td>1</td>\n",
              "      <td>2</td>\n",
              "      <td>0</td>\n",
              "      <td>88.6</td>\n",
              "      <td>168.8</td>\n",
              "      <td>64.1</td>\n",
              "      <td>48.8</td>\n",
              "      <td>0</td>\n",
              "      <td>4.0</td>\n",
              "      <td>130.0</td>\n",
              "      <td>5</td>\n",
              "      <td>9.0</td>\n",
              "      <td>111.0</td>\n",
              "      <td>21</td>\n",
              "      <td>27</td>\n",
              "      <td>13495.0</td>\n",
              "    </tr>\n",
              "    <tr>\n",
              "      <th>1</th>\n",
              "      <td>1</td>\n",
              "      <td>1</td>\n",
              "      <td>0</td>\n",
              "      <td>2.0</td>\n",
              "      <td>1</td>\n",
              "      <td>2</td>\n",
              "      <td>0</td>\n",
              "      <td>88.6</td>\n",
              "      <td>168.8</td>\n",
              "      <td>64.1</td>\n",
              "      <td>48.8</td>\n",
              "      <td>0</td>\n",
              "      <td>4.0</td>\n",
              "      <td>130.0</td>\n",
              "      <td>5</td>\n",
              "      <td>9.0</td>\n",
              "      <td>111.0</td>\n",
              "      <td>21</td>\n",
              "      <td>27</td>\n",
              "      <td>16500.0</td>\n",
              "    </tr>\n",
              "    <tr>\n",
              "      <th>2</th>\n",
              "      <td>1</td>\n",
              "      <td>1</td>\n",
              "      <td>0</td>\n",
              "      <td>2.0</td>\n",
              "      <td>3</td>\n",
              "      <td>2</td>\n",
              "      <td>0</td>\n",
              "      <td>94.5</td>\n",
              "      <td>171.2</td>\n",
              "      <td>65.5</td>\n",
              "      <td>52.4</td>\n",
              "      <td>5</td>\n",
              "      <td>4.0</td>\n",
              "      <td>152.0</td>\n",
              "      <td>5</td>\n",
              "      <td>9.0</td>\n",
              "      <td>154.0</td>\n",
              "      <td>19</td>\n",
              "      <td>26</td>\n",
              "      <td>16500.0</td>\n",
              "    </tr>\n",
              "    <tr>\n",
              "      <th>3</th>\n",
              "      <td>2</td>\n",
              "      <td>1</td>\n",
              "      <td>0</td>\n",
              "      <td>4.0</td>\n",
              "      <td>4</td>\n",
              "      <td>1</td>\n",
              "      <td>0</td>\n",
              "      <td>99.8</td>\n",
              "      <td>176.6</td>\n",
              "      <td>66.2</td>\n",
              "      <td>54.3</td>\n",
              "      <td>3</td>\n",
              "      <td>4.0</td>\n",
              "      <td>109.0</td>\n",
              "      <td>5</td>\n",
              "      <td>10.0</td>\n",
              "      <td>102.0</td>\n",
              "      <td>24</td>\n",
              "      <td>30</td>\n",
              "      <td>13950.0</td>\n",
              "    </tr>\n",
              "    <tr>\n",
              "      <th>4</th>\n",
              "      <td>2</td>\n",
              "      <td>1</td>\n",
              "      <td>0</td>\n",
              "      <td>4.0</td>\n",
              "      <td>4</td>\n",
              "      <td>0</td>\n",
              "      <td>0</td>\n",
              "      <td>99.4</td>\n",
              "      <td>176.6</td>\n",
              "      <td>66.4</td>\n",
              "      <td>54.3</td>\n",
              "      <td>3</td>\n",
              "      <td>4.0</td>\n",
              "      <td>136.0</td>\n",
              "      <td>5</td>\n",
              "      <td>8.0</td>\n",
              "      <td>115.0</td>\n",
              "      <td>18</td>\n",
              "      <td>22</td>\n",
              "      <td>17450.0</td>\n",
              "    </tr>\n",
              "  </tbody>\n",
              "</table>\n",
              "</div>\n",
              "      <button class=\"colab-df-convert\" onclick=\"convertToInteractive('df-d7236b60-9f5a-4702-9192-a814959fea3a')\"\n",
              "              title=\"Convert this dataframe to an interactive table.\"\n",
              "              style=\"display:none;\">\n",
              "        \n",
              "  <svg xmlns=\"http://www.w3.org/2000/svg\" height=\"24px\"viewBox=\"0 0 24 24\"\n",
              "       width=\"24px\">\n",
              "    <path d=\"M0 0h24v24H0V0z\" fill=\"none\"/>\n",
              "    <path d=\"M18.56 5.44l.94 2.06.94-2.06 2.06-.94-2.06-.94-.94-2.06-.94 2.06-2.06.94zm-11 1L8.5 8.5l.94-2.06 2.06-.94-2.06-.94L8.5 2.5l-.94 2.06-2.06.94zm10 10l.94 2.06.94-2.06 2.06-.94-2.06-.94-.94-2.06-.94 2.06-2.06.94z\"/><path d=\"M17.41 7.96l-1.37-1.37c-.4-.4-.92-.59-1.43-.59-.52 0-1.04.2-1.43.59L10.3 9.45l-7.72 7.72c-.78.78-.78 2.05 0 2.83L4 21.41c.39.39.9.59 1.41.59.51 0 1.02-.2 1.41-.59l7.78-7.78 2.81-2.81c.8-.78.8-2.07 0-2.86zM5.41 20L4 18.59l7.72-7.72 1.47 1.35L5.41 20z\"/>\n",
              "  </svg>\n",
              "      </button>\n",
              "      \n",
              "  <style>\n",
              "    .colab-df-container {\n",
              "      display:flex;\n",
              "      flex-wrap:wrap;\n",
              "      gap: 12px;\n",
              "    }\n",
              "\n",
              "    .colab-df-convert {\n",
              "      background-color: #E8F0FE;\n",
              "      border: none;\n",
              "      border-radius: 50%;\n",
              "      cursor: pointer;\n",
              "      display: none;\n",
              "      fill: #1967D2;\n",
              "      height: 32px;\n",
              "      padding: 0 0 0 0;\n",
              "      width: 32px;\n",
              "    }\n",
              "\n",
              "    .colab-df-convert:hover {\n",
              "      background-color: #E2EBFA;\n",
              "      box-shadow: 0px 1px 2px rgba(60, 64, 67, 0.3), 0px 1px 3px 1px rgba(60, 64, 67, 0.15);\n",
              "      fill: #174EA6;\n",
              "    }\n",
              "\n",
              "    [theme=dark] .colab-df-convert {\n",
              "      background-color: #3B4455;\n",
              "      fill: #D2E3FC;\n",
              "    }\n",
              "\n",
              "    [theme=dark] .colab-df-convert:hover {\n",
              "      background-color: #434B5C;\n",
              "      box-shadow: 0px 1px 3px 1px rgba(0, 0, 0, 0.15);\n",
              "      filter: drop-shadow(0px 1px 2px rgba(0, 0, 0, 0.3));\n",
              "      fill: #FFFFFF;\n",
              "    }\n",
              "  </style>\n",
              "\n",
              "      <script>\n",
              "        const buttonEl =\n",
              "          document.querySelector('#df-d7236b60-9f5a-4702-9192-a814959fea3a button.colab-df-convert');\n",
              "        buttonEl.style.display =\n",
              "          google.colab.kernel.accessAllowed ? 'block' : 'none';\n",
              "\n",
              "        async function convertToInteractive(key) {\n",
              "          const element = document.querySelector('#df-d7236b60-9f5a-4702-9192-a814959fea3a');\n",
              "          const dataTable =\n",
              "            await google.colab.kernel.invokeFunction('convertToInteractive',\n",
              "                                                     [key], {});\n",
              "          if (!dataTable) return;\n",
              "\n",
              "          const docLinkHtml = 'Like what you see? Visit the ' +\n",
              "            '<a target=\"_blank\" href=https://colab.research.google.com/notebooks/data_table.ipynb>data table notebook</a>'\n",
              "            + ' to learn more about interactive tables.';\n",
              "          element.innerHTML = '';\n",
              "          dataTable['output_type'] = 'display_data';\n",
              "          await google.colab.output.renderOutput(dataTable, element);\n",
              "          const docLink = document.createElement('div');\n",
              "          docLink.innerHTML = docLinkHtml;\n",
              "          element.appendChild(docLink);\n",
              "        }\n",
              "      </script>\n",
              "    </div>\n",
              "  </div>\n",
              "  "
            ]
          },
          "metadata": {},
          "execution_count": 41
        }
      ]
    },
    {
      "cell_type": "code",
      "metadata": {
        "id": "xBtyn8GqvKyB",
        "colab": {
          "base_uri": "https://localhost:8080/"
        },
        "outputId": "dbd25d6f-0f22-4d9f-dad6-560b11ae8567"
      },
      "source": [
        "cars_cleaned.info()"
      ],
      "execution_count": null,
      "outputs": [
        {
          "output_type": "stream",
          "name": "stdout",
          "text": [
            "<class 'pandas.core.frame.DataFrame'>\n",
            "Int64Index: 191 entries, 0 to 237\n",
            "Data columns (total 20 columns):\n",
            " #   Column            Non-Null Count  Dtype  \n",
            "---  ------            --------------  -----  \n",
            " 0   CarName           191 non-null    int64  \n",
            " 1   fueltype          191 non-null    int64  \n",
            " 2   aspiration        191 non-null    int64  \n",
            " 3   doornumber        191 non-null    float64\n",
            " 4   carbody           191 non-null    int64  \n",
            " 5   drivewheel        191 non-null    int64  \n",
            " 6   enginelocation    191 non-null    int64  \n",
            " 7   wheelbase         191 non-null    float64\n",
            " 8   carlength         191 non-null    float64\n",
            " 9   carwidth          191 non-null    float64\n",
            " 10  carheight         191 non-null    float64\n",
            " 11  enginetype        191 non-null    int64  \n",
            " 12  cylindernumber    191 non-null    float64\n",
            " 13  enginesize        191 non-null    float64\n",
            " 14  fuelsystem        191 non-null    int64  \n",
            " 15  compressionratio  191 non-null    float64\n",
            " 16  horsepower        191 non-null    float64\n",
            " 17  citympg           191 non-null    int64  \n",
            " 18  highwaympg        191 non-null    int64  \n",
            " 19  price             191 non-null    float64\n",
            "dtypes: float64(10), int64(10)\n",
            "memory usage: 31.3 KB\n"
          ]
        }
      ]
    },
    {
      "cell_type": "markdown",
      "metadata": {
        "id": "6nDpp29PwYOk"
      },
      "source": [
        "## Preparation for Machine Learning"
      ]
    },
    {
      "cell_type": "markdown",
      "metadata": {
        "id": "fM4zMQnVz-Rp"
      },
      "source": [
        "Misalkan kita diberikan tugas untuk melakukan prediksi berapa harga sebuah mobil. Atribut yang menjadi target adalah \"price\", sedangkan atribut lainnya menjadi *predictor* (fitur yang akan menentukan hasil prediksi).\n",
        "\n",
        "Beberapa pemrosesan yang dapat dilakukan sebelum data kita dimasukkan ke dalam algoritma *machine learning* di antaranya (tapi tidak terbatas pada):\n",
        "* Memisahkan atribut target dan atribut *predictor*\n",
        "* Melakukan normalisasi jika diperlukan\n",
        "* Memisahkan data menjadi data *training* dan *testing* (Akan dibahas pada beberapa Lab selanjutnya)"
      ]
    },
    {
      "cell_type": "code",
      "metadata": {
        "id": "mSFQ0swwvj1U",
        "colab": {
          "base_uri": "https://localhost:8080/",
          "height": 487
        },
        "outputId": "88885ac5-e3a2-4336-8790-3af58a92d7a8"
      },
      "source": [
        "# Memisahkan atribut target (Y) dengan atribut predictor (X)\n",
        "X = cars_cleaned.drop('price', axis=1)\n",
        "Y = cars_cleaned['price']\n",
        "display(cars_cleaned)"
      ],
      "execution_count": null,
      "outputs": [
        {
          "output_type": "display_data",
          "data": {
            "text/plain": [
              "     CarName  fueltype  aspiration  doornumber  carbody  drivewheel  \\\n",
              "0          1         1           0         2.0        1           2   \n",
              "1          1         1           0         2.0        1           2   \n",
              "2          1         1           0         2.0        3           2   \n",
              "3          2         1           0         4.0        4           1   \n",
              "4          2         1           0         4.0        4           0   \n",
              "..       ...       ...         ...         ...      ...         ...   \n",
              "233       21         1           0         4.0        4           2   \n",
              "234       21         1           1         4.0        4           2   \n",
              "235       21         1           0         4.0        4           2   \n",
              "236       21         0           1         4.0        4           2   \n",
              "237       21         1           1         4.0        4           2   \n",
              "\n",
              "     enginelocation  wheelbase  carlength  carwidth  carheight  enginetype  \\\n",
              "0                 0       88.6      168.8      64.1       48.8           0   \n",
              "1                 0       88.6      168.8      64.1       48.8           0   \n",
              "2                 0       94.5      171.2      65.5       52.4           5   \n",
              "3                 0       99.8      176.6      66.2       54.3           3   \n",
              "4                 0       99.4      176.6      66.4       54.3           3   \n",
              "..              ...        ...        ...       ...        ...         ...   \n",
              "233               0      109.1      188.8      68.9       55.5           3   \n",
              "234               0      109.1      188.8      68.8       55.5           3   \n",
              "235               0      109.1      188.8      68.9       55.5           5   \n",
              "236               0      109.1      188.8      68.9       55.5           3   \n",
              "237               0      109.1      188.8      68.9       55.5           3   \n",
              "\n",
              "     cylindernumber  enginesize  fuelsystem  compressionratio  horsepower  \\\n",
              "0               4.0       130.0           5               9.0       111.0   \n",
              "1               4.0       130.0           5               9.0       111.0   \n",
              "2               4.0       152.0           5               9.0       154.0   \n",
              "3               4.0       109.0           5              10.0       102.0   \n",
              "4               4.0       136.0           5               8.0       115.0   \n",
              "..              ...         ...         ...               ...         ...   \n",
              "233             4.0       141.0           5               9.5       114.0   \n",
              "234             4.0       141.0           5               8.7       160.0   \n",
              "235             4.0       173.0           5               8.8       134.0   \n",
              "236             4.0       145.0           3              23.0       106.0   \n",
              "237             4.0       141.0           5               9.5       114.0   \n",
              "\n",
              "     citympg  highwaympg    price  \n",
              "0         21          27  13495.0  \n",
              "1         21          27  16500.0  \n",
              "2         19          26  16500.0  \n",
              "3         24          30  13950.0  \n",
              "4         18          22  17450.0  \n",
              "..       ...         ...      ...  \n",
              "233       23          28  16845.0  \n",
              "234       19          25  19045.0  \n",
              "235       18          23  21485.0  \n",
              "236       26          27  22470.0  \n",
              "237       19          25  22625.0  \n",
              "\n",
              "[191 rows x 20 columns]"
            ],
            "text/html": [
              "\n",
              "  <div id=\"df-f78715ed-4aa7-4cbc-88c9-ebc1508b35ea\">\n",
              "    <div class=\"colab-df-container\">\n",
              "      <div>\n",
              "<style scoped>\n",
              "    .dataframe tbody tr th:only-of-type {\n",
              "        vertical-align: middle;\n",
              "    }\n",
              "\n",
              "    .dataframe tbody tr th {\n",
              "        vertical-align: top;\n",
              "    }\n",
              "\n",
              "    .dataframe thead th {\n",
              "        text-align: right;\n",
              "    }\n",
              "</style>\n",
              "<table border=\"1\" class=\"dataframe\">\n",
              "  <thead>\n",
              "    <tr style=\"text-align: right;\">\n",
              "      <th></th>\n",
              "      <th>CarName</th>\n",
              "      <th>fueltype</th>\n",
              "      <th>aspiration</th>\n",
              "      <th>doornumber</th>\n",
              "      <th>carbody</th>\n",
              "      <th>drivewheel</th>\n",
              "      <th>enginelocation</th>\n",
              "      <th>wheelbase</th>\n",
              "      <th>carlength</th>\n",
              "      <th>carwidth</th>\n",
              "      <th>carheight</th>\n",
              "      <th>enginetype</th>\n",
              "      <th>cylindernumber</th>\n",
              "      <th>enginesize</th>\n",
              "      <th>fuelsystem</th>\n",
              "      <th>compressionratio</th>\n",
              "      <th>horsepower</th>\n",
              "      <th>citympg</th>\n",
              "      <th>highwaympg</th>\n",
              "      <th>price</th>\n",
              "    </tr>\n",
              "  </thead>\n",
              "  <tbody>\n",
              "    <tr>\n",
              "      <th>0</th>\n",
              "      <td>1</td>\n",
              "      <td>1</td>\n",
              "      <td>0</td>\n",
              "      <td>2.0</td>\n",
              "      <td>1</td>\n",
              "      <td>2</td>\n",
              "      <td>0</td>\n",
              "      <td>88.6</td>\n",
              "      <td>168.8</td>\n",
              "      <td>64.1</td>\n",
              "      <td>48.8</td>\n",
              "      <td>0</td>\n",
              "      <td>4.0</td>\n",
              "      <td>130.0</td>\n",
              "      <td>5</td>\n",
              "      <td>9.0</td>\n",
              "      <td>111.0</td>\n",
              "      <td>21</td>\n",
              "      <td>27</td>\n",
              "      <td>13495.0</td>\n",
              "    </tr>\n",
              "    <tr>\n",
              "      <th>1</th>\n",
              "      <td>1</td>\n",
              "      <td>1</td>\n",
              "      <td>0</td>\n",
              "      <td>2.0</td>\n",
              "      <td>1</td>\n",
              "      <td>2</td>\n",
              "      <td>0</td>\n",
              "      <td>88.6</td>\n",
              "      <td>168.8</td>\n",
              "      <td>64.1</td>\n",
              "      <td>48.8</td>\n",
              "      <td>0</td>\n",
              "      <td>4.0</td>\n",
              "      <td>130.0</td>\n",
              "      <td>5</td>\n",
              "      <td>9.0</td>\n",
              "      <td>111.0</td>\n",
              "      <td>21</td>\n",
              "      <td>27</td>\n",
              "      <td>16500.0</td>\n",
              "    </tr>\n",
              "    <tr>\n",
              "      <th>2</th>\n",
              "      <td>1</td>\n",
              "      <td>1</td>\n",
              "      <td>0</td>\n",
              "      <td>2.0</td>\n",
              "      <td>3</td>\n",
              "      <td>2</td>\n",
              "      <td>0</td>\n",
              "      <td>94.5</td>\n",
              "      <td>171.2</td>\n",
              "      <td>65.5</td>\n",
              "      <td>52.4</td>\n",
              "      <td>5</td>\n",
              "      <td>4.0</td>\n",
              "      <td>152.0</td>\n",
              "      <td>5</td>\n",
              "      <td>9.0</td>\n",
              "      <td>154.0</td>\n",
              "      <td>19</td>\n",
              "      <td>26</td>\n",
              "      <td>16500.0</td>\n",
              "    </tr>\n",
              "    <tr>\n",
              "      <th>3</th>\n",
              "      <td>2</td>\n",
              "      <td>1</td>\n",
              "      <td>0</td>\n",
              "      <td>4.0</td>\n",
              "      <td>4</td>\n",
              "      <td>1</td>\n",
              "      <td>0</td>\n",
              "      <td>99.8</td>\n",
              "      <td>176.6</td>\n",
              "      <td>66.2</td>\n",
              "      <td>54.3</td>\n",
              "      <td>3</td>\n",
              "      <td>4.0</td>\n",
              "      <td>109.0</td>\n",
              "      <td>5</td>\n",
              "      <td>10.0</td>\n",
              "      <td>102.0</td>\n",
              "      <td>24</td>\n",
              "      <td>30</td>\n",
              "      <td>13950.0</td>\n",
              "    </tr>\n",
              "    <tr>\n",
              "      <th>4</th>\n",
              "      <td>2</td>\n",
              "      <td>1</td>\n",
              "      <td>0</td>\n",
              "      <td>4.0</td>\n",
              "      <td>4</td>\n",
              "      <td>0</td>\n",
              "      <td>0</td>\n",
              "      <td>99.4</td>\n",
              "      <td>176.6</td>\n",
              "      <td>66.4</td>\n",
              "      <td>54.3</td>\n",
              "      <td>3</td>\n",
              "      <td>4.0</td>\n",
              "      <td>136.0</td>\n",
              "      <td>5</td>\n",
              "      <td>8.0</td>\n",
              "      <td>115.0</td>\n",
              "      <td>18</td>\n",
              "      <td>22</td>\n",
              "      <td>17450.0</td>\n",
              "    </tr>\n",
              "    <tr>\n",
              "      <th>...</th>\n",
              "      <td>...</td>\n",
              "      <td>...</td>\n",
              "      <td>...</td>\n",
              "      <td>...</td>\n",
              "      <td>...</td>\n",
              "      <td>...</td>\n",
              "      <td>...</td>\n",
              "      <td>...</td>\n",
              "      <td>...</td>\n",
              "      <td>...</td>\n",
              "      <td>...</td>\n",
              "      <td>...</td>\n",
              "      <td>...</td>\n",
              "      <td>...</td>\n",
              "      <td>...</td>\n",
              "      <td>...</td>\n",
              "      <td>...</td>\n",
              "      <td>...</td>\n",
              "      <td>...</td>\n",
              "      <td>...</td>\n",
              "    </tr>\n",
              "    <tr>\n",
              "      <th>233</th>\n",
              "      <td>21</td>\n",
              "      <td>1</td>\n",
              "      <td>0</td>\n",
              "      <td>4.0</td>\n",
              "      <td>4</td>\n",
              "      <td>2</td>\n",
              "      <td>0</td>\n",
              "      <td>109.1</td>\n",
              "      <td>188.8</td>\n",
              "      <td>68.9</td>\n",
              "      <td>55.5</td>\n",
              "      <td>3</td>\n",
              "      <td>4.0</td>\n",
              "      <td>141.0</td>\n",
              "      <td>5</td>\n",
              "      <td>9.5</td>\n",
              "      <td>114.0</td>\n",
              "      <td>23</td>\n",
              "      <td>28</td>\n",
              "      <td>16845.0</td>\n",
              "    </tr>\n",
              "    <tr>\n",
              "      <th>234</th>\n",
              "      <td>21</td>\n",
              "      <td>1</td>\n",
              "      <td>1</td>\n",
              "      <td>4.0</td>\n",
              "      <td>4</td>\n",
              "      <td>2</td>\n",
              "      <td>0</td>\n",
              "      <td>109.1</td>\n",
              "      <td>188.8</td>\n",
              "      <td>68.8</td>\n",
              "      <td>55.5</td>\n",
              "      <td>3</td>\n",
              "      <td>4.0</td>\n",
              "      <td>141.0</td>\n",
              "      <td>5</td>\n",
              "      <td>8.7</td>\n",
              "      <td>160.0</td>\n",
              "      <td>19</td>\n",
              "      <td>25</td>\n",
              "      <td>19045.0</td>\n",
              "    </tr>\n",
              "    <tr>\n",
              "      <th>235</th>\n",
              "      <td>21</td>\n",
              "      <td>1</td>\n",
              "      <td>0</td>\n",
              "      <td>4.0</td>\n",
              "      <td>4</td>\n",
              "      <td>2</td>\n",
              "      <td>0</td>\n",
              "      <td>109.1</td>\n",
              "      <td>188.8</td>\n",
              "      <td>68.9</td>\n",
              "      <td>55.5</td>\n",
              "      <td>5</td>\n",
              "      <td>4.0</td>\n",
              "      <td>173.0</td>\n",
              "      <td>5</td>\n",
              "      <td>8.8</td>\n",
              "      <td>134.0</td>\n",
              "      <td>18</td>\n",
              "      <td>23</td>\n",
              "      <td>21485.0</td>\n",
              "    </tr>\n",
              "    <tr>\n",
              "      <th>236</th>\n",
              "      <td>21</td>\n",
              "      <td>0</td>\n",
              "      <td>1</td>\n",
              "      <td>4.0</td>\n",
              "      <td>4</td>\n",
              "      <td>2</td>\n",
              "      <td>0</td>\n",
              "      <td>109.1</td>\n",
              "      <td>188.8</td>\n",
              "      <td>68.9</td>\n",
              "      <td>55.5</td>\n",
              "      <td>3</td>\n",
              "      <td>4.0</td>\n",
              "      <td>145.0</td>\n",
              "      <td>3</td>\n",
              "      <td>23.0</td>\n",
              "      <td>106.0</td>\n",
              "      <td>26</td>\n",
              "      <td>27</td>\n",
              "      <td>22470.0</td>\n",
              "    </tr>\n",
              "    <tr>\n",
              "      <th>237</th>\n",
              "      <td>21</td>\n",
              "      <td>1</td>\n",
              "      <td>1</td>\n",
              "      <td>4.0</td>\n",
              "      <td>4</td>\n",
              "      <td>2</td>\n",
              "      <td>0</td>\n",
              "      <td>109.1</td>\n",
              "      <td>188.8</td>\n",
              "      <td>68.9</td>\n",
              "      <td>55.5</td>\n",
              "      <td>3</td>\n",
              "      <td>4.0</td>\n",
              "      <td>141.0</td>\n",
              "      <td>5</td>\n",
              "      <td>9.5</td>\n",
              "      <td>114.0</td>\n",
              "      <td>19</td>\n",
              "      <td>25</td>\n",
              "      <td>22625.0</td>\n",
              "    </tr>\n",
              "  </tbody>\n",
              "</table>\n",
              "<p>191 rows × 20 columns</p>\n",
              "</div>\n",
              "      <button class=\"colab-df-convert\" onclick=\"convertToInteractive('df-f78715ed-4aa7-4cbc-88c9-ebc1508b35ea')\"\n",
              "              title=\"Convert this dataframe to an interactive table.\"\n",
              "              style=\"display:none;\">\n",
              "        \n",
              "  <svg xmlns=\"http://www.w3.org/2000/svg\" height=\"24px\"viewBox=\"0 0 24 24\"\n",
              "       width=\"24px\">\n",
              "    <path d=\"M0 0h24v24H0V0z\" fill=\"none\"/>\n",
              "    <path d=\"M18.56 5.44l.94 2.06.94-2.06 2.06-.94-2.06-.94-.94-2.06-.94 2.06-2.06.94zm-11 1L8.5 8.5l.94-2.06 2.06-.94-2.06-.94L8.5 2.5l-.94 2.06-2.06.94zm10 10l.94 2.06.94-2.06 2.06-.94-2.06-.94-.94-2.06-.94 2.06-2.06.94z\"/><path d=\"M17.41 7.96l-1.37-1.37c-.4-.4-.92-.59-1.43-.59-.52 0-1.04.2-1.43.59L10.3 9.45l-7.72 7.72c-.78.78-.78 2.05 0 2.83L4 21.41c.39.39.9.59 1.41.59.51 0 1.02-.2 1.41-.59l7.78-7.78 2.81-2.81c.8-.78.8-2.07 0-2.86zM5.41 20L4 18.59l7.72-7.72 1.47 1.35L5.41 20z\"/>\n",
              "  </svg>\n",
              "      </button>\n",
              "      \n",
              "  <style>\n",
              "    .colab-df-container {\n",
              "      display:flex;\n",
              "      flex-wrap:wrap;\n",
              "      gap: 12px;\n",
              "    }\n",
              "\n",
              "    .colab-df-convert {\n",
              "      background-color: #E8F0FE;\n",
              "      border: none;\n",
              "      border-radius: 50%;\n",
              "      cursor: pointer;\n",
              "      display: none;\n",
              "      fill: #1967D2;\n",
              "      height: 32px;\n",
              "      padding: 0 0 0 0;\n",
              "      width: 32px;\n",
              "    }\n",
              "\n",
              "    .colab-df-convert:hover {\n",
              "      background-color: #E2EBFA;\n",
              "      box-shadow: 0px 1px 2px rgba(60, 64, 67, 0.3), 0px 1px 3px 1px rgba(60, 64, 67, 0.15);\n",
              "      fill: #174EA6;\n",
              "    }\n",
              "\n",
              "    [theme=dark] .colab-df-convert {\n",
              "      background-color: #3B4455;\n",
              "      fill: #D2E3FC;\n",
              "    }\n",
              "\n",
              "    [theme=dark] .colab-df-convert:hover {\n",
              "      background-color: #434B5C;\n",
              "      box-shadow: 0px 1px 3px 1px rgba(0, 0, 0, 0.15);\n",
              "      filter: drop-shadow(0px 1px 2px rgba(0, 0, 0, 0.3));\n",
              "      fill: #FFFFFF;\n",
              "    }\n",
              "  </style>\n",
              "\n",
              "      <script>\n",
              "        const buttonEl =\n",
              "          document.querySelector('#df-f78715ed-4aa7-4cbc-88c9-ebc1508b35ea button.colab-df-convert');\n",
              "        buttonEl.style.display =\n",
              "          google.colab.kernel.accessAllowed ? 'block' : 'none';\n",
              "\n",
              "        async function convertToInteractive(key) {\n",
              "          const element = document.querySelector('#df-f78715ed-4aa7-4cbc-88c9-ebc1508b35ea');\n",
              "          const dataTable =\n",
              "            await google.colab.kernel.invokeFunction('convertToInteractive',\n",
              "                                                     [key], {});\n",
              "          if (!dataTable) return;\n",
              "\n",
              "          const docLinkHtml = 'Like what you see? Visit the ' +\n",
              "            '<a target=\"_blank\" href=https://colab.research.google.com/notebooks/data_table.ipynb>data table notebook</a>'\n",
              "            + ' to learn more about interactive tables.';\n",
              "          element.innerHTML = '';\n",
              "          dataTable['output_type'] = 'display_data';\n",
              "          await google.colab.output.renderOutput(dataTable, element);\n",
              "          const docLink = document.createElement('div');\n",
              "          docLink.innerHTML = docLinkHtml;\n",
              "          element.appendChild(docLink);\n",
              "        }\n",
              "      </script>\n",
              "    </div>\n",
              "  </div>\n",
              "  "
            ]
          },
          "metadata": {}
        }
      ]
    },
    {
      "cell_type": "markdown",
      "metadata": {
        "id": "PKskkBe55OBI"
      },
      "source": [
        "### **SOAL 3**\n",
        "\n",
        "(a) Lakukan normalisasi pada X. Implementasikan dengan code! Hint: [Dokumentasi Preprocessing Data](https://scikit-learn.org/stable/modules/preprocessing.html#standardization-or-mean-removal-and-variance-scaling)"
      ]
    },
    {
      "cell_type": "code",
      "metadata": {
        "id": "WmTNVF8kwQcC",
        "colab": {
          "base_uri": "https://localhost:8080/",
          "height": 1000
        },
        "outputId": "39d44390-232f-4d3f-9812-e7df7dec1335"
      },
      "source": [
        "# 3(a) Implementasi code di sini\n",
        "from sklearn.preprocessing import StandardScaler\n",
        "# normalized data using StandardScaler\n",
        "sc = StandardScaler()\n",
        "sc.fit(X)\n",
        "x_normalized = sc.transform(X)\n",
        "x_normalized_df = pd.DataFrame(x_normalized)\n",
        "\n",
        "\n",
        "\n",
        "# view normalized data\n",
        "display(x_normalized_df)\n",
        "x_normalized_df.plot(kind='bar', figsize=(20,20))"
      ],
      "execution_count": null,
      "outputs": [
        {
          "output_type": "display_data",
          "data": {
            "text/plain": [
              "           0         1         2         3         4         5         6   \\\n",
              "0   -1.534467  0.341993 -0.457013 -1.165343 -2.962888  1.184073 -0.126323   \n",
              "1   -1.534467  0.341993 -0.457013 -1.165343 -2.962888  1.184073 -0.126323   \n",
              "2   -1.534467  0.341993 -0.457013 -1.165343 -0.699242  1.184073 -0.126323   \n",
              "3   -1.389088  0.341993 -0.457013  0.858116  0.432582 -0.386468 -0.126323   \n",
              "4   -1.389088  0.341993 -0.457013  0.858116  0.432582 -1.957009 -0.126323   \n",
              "..        ...       ...       ...       ...       ...       ...       ...   \n",
              "186  1.373104  0.341993 -0.457013  0.858116  0.432582  1.184073 -0.126323   \n",
              "187  1.373104  0.341993  2.188122  0.858116  0.432582  1.184073 -0.126323   \n",
              "188  1.373104  0.341993 -0.457013  0.858116  0.432582  1.184073 -0.126323   \n",
              "189  1.373104 -2.924038  2.188122  0.858116  0.432582  1.184073 -0.126323   \n",
              "190  1.373104  0.341993  2.188122  0.858116  0.432582  1.184073 -0.126323   \n",
              "\n",
              "           7         8         9         10        11        12        13  \\\n",
              "0   -1.648793 -0.397337 -0.819696 -2.148384 -3.050509  0.159951  0.127957   \n",
              "1   -1.648793 -0.397337 -0.819696 -2.148384 -3.050509  0.159951  0.127957   \n",
              "2   -0.686385 -0.204331 -0.189849 -0.599114  1.955051  0.159951  0.658735   \n",
              "3    0.178151  0.229931  0.125074  0.218556 -0.047173  0.159951 -0.378693   \n",
              "4    0.112903  0.229931  0.215053  0.218556 -0.047173  0.159951  0.272715   \n",
              "..        ...       ...       ...       ...       ...       ...       ...   \n",
              "186  1.695167  1.211041  1.339780  0.734979 -0.047173  0.159951  0.393346   \n",
              "187  1.695167  1.211041  1.294791  0.734979 -0.047173  0.159951  0.393346   \n",
              "188  1.695167  1.211041  1.339780  0.734979  1.955051  0.159951  1.165385   \n",
              "189  1.695167  1.211041  1.339780  0.734979 -0.047173  0.159951  0.489851   \n",
              "190  1.695167  1.211041  1.339780  0.734979 -0.047173  0.159951  0.393346   \n",
              "\n",
              "           14        15        16        17        18  \n",
              "0    0.923723 -0.316241  0.240841 -0.701706 -0.598126  \n",
              "1    0.923723 -0.316241  0.240841 -0.701706 -0.598126  \n",
              "2    0.923723 -0.316241  1.351469 -1.007353 -0.743287  \n",
              "3    0.923723 -0.070124  0.008384 -0.243237 -0.162642  \n",
              "4    0.923723 -0.562358  0.344155 -1.160176 -1.323933  \n",
              "..        ...       ...       ...       ...       ...  \n",
              "186  0.923723 -0.193183  0.318327 -0.396060 -0.452964  \n",
              "187  0.923723 -0.390076  1.506440 -1.007353 -0.888449  \n",
              "188  0.923723 -0.365464  0.834898 -1.160176 -1.178772  \n",
              "189 -0.075887  3.129398  0.111698  0.062409 -0.598126  \n",
              "190  0.923723 -0.193183  0.318327 -1.007353 -0.888449  \n",
              "\n",
              "[191 rows x 19 columns]"
            ],
            "text/html": [
              "\n",
              "  <div id=\"df-99d89952-3021-4380-892a-06f987e6fe93\">\n",
              "    <div class=\"colab-df-container\">\n",
              "      <div>\n",
              "<style scoped>\n",
              "    .dataframe tbody tr th:only-of-type {\n",
              "        vertical-align: middle;\n",
              "    }\n",
              "\n",
              "    .dataframe tbody tr th {\n",
              "        vertical-align: top;\n",
              "    }\n",
              "\n",
              "    .dataframe thead th {\n",
              "        text-align: right;\n",
              "    }\n",
              "</style>\n",
              "<table border=\"1\" class=\"dataframe\">\n",
              "  <thead>\n",
              "    <tr style=\"text-align: right;\">\n",
              "      <th></th>\n",
              "      <th>0</th>\n",
              "      <th>1</th>\n",
              "      <th>2</th>\n",
              "      <th>3</th>\n",
              "      <th>4</th>\n",
              "      <th>5</th>\n",
              "      <th>6</th>\n",
              "      <th>7</th>\n",
              "      <th>8</th>\n",
              "      <th>9</th>\n",
              "      <th>10</th>\n",
              "      <th>11</th>\n",
              "      <th>12</th>\n",
              "      <th>13</th>\n",
              "      <th>14</th>\n",
              "      <th>15</th>\n",
              "      <th>16</th>\n",
              "      <th>17</th>\n",
              "      <th>18</th>\n",
              "    </tr>\n",
              "  </thead>\n",
              "  <tbody>\n",
              "    <tr>\n",
              "      <th>0</th>\n",
              "      <td>-1.534467</td>\n",
              "      <td>0.341993</td>\n",
              "      <td>-0.457013</td>\n",
              "      <td>-1.165343</td>\n",
              "      <td>-2.962888</td>\n",
              "      <td>1.184073</td>\n",
              "      <td>-0.126323</td>\n",
              "      <td>-1.648793</td>\n",
              "      <td>-0.397337</td>\n",
              "      <td>-0.819696</td>\n",
              "      <td>-2.148384</td>\n",
              "      <td>-3.050509</td>\n",
              "      <td>0.159951</td>\n",
              "      <td>0.127957</td>\n",
              "      <td>0.923723</td>\n",
              "      <td>-0.316241</td>\n",
              "      <td>0.240841</td>\n",
              "      <td>-0.701706</td>\n",
              "      <td>-0.598126</td>\n",
              "    </tr>\n",
              "    <tr>\n",
              "      <th>1</th>\n",
              "      <td>-1.534467</td>\n",
              "      <td>0.341993</td>\n",
              "      <td>-0.457013</td>\n",
              "      <td>-1.165343</td>\n",
              "      <td>-2.962888</td>\n",
              "      <td>1.184073</td>\n",
              "      <td>-0.126323</td>\n",
              "      <td>-1.648793</td>\n",
              "      <td>-0.397337</td>\n",
              "      <td>-0.819696</td>\n",
              "      <td>-2.148384</td>\n",
              "      <td>-3.050509</td>\n",
              "      <td>0.159951</td>\n",
              "      <td>0.127957</td>\n",
              "      <td>0.923723</td>\n",
              "      <td>-0.316241</td>\n",
              "      <td>0.240841</td>\n",
              "      <td>-0.701706</td>\n",
              "      <td>-0.598126</td>\n",
              "    </tr>\n",
              "    <tr>\n",
              "      <th>2</th>\n",
              "      <td>-1.534467</td>\n",
              "      <td>0.341993</td>\n",
              "      <td>-0.457013</td>\n",
              "      <td>-1.165343</td>\n",
              "      <td>-0.699242</td>\n",
              "      <td>1.184073</td>\n",
              "      <td>-0.126323</td>\n",
              "      <td>-0.686385</td>\n",
              "      <td>-0.204331</td>\n",
              "      <td>-0.189849</td>\n",
              "      <td>-0.599114</td>\n",
              "      <td>1.955051</td>\n",
              "      <td>0.159951</td>\n",
              "      <td>0.658735</td>\n",
              "      <td>0.923723</td>\n",
              "      <td>-0.316241</td>\n",
              "      <td>1.351469</td>\n",
              "      <td>-1.007353</td>\n",
              "      <td>-0.743287</td>\n",
              "    </tr>\n",
              "    <tr>\n",
              "      <th>3</th>\n",
              "      <td>-1.389088</td>\n",
              "      <td>0.341993</td>\n",
              "      <td>-0.457013</td>\n",
              "      <td>0.858116</td>\n",
              "      <td>0.432582</td>\n",
              "      <td>-0.386468</td>\n",
              "      <td>-0.126323</td>\n",
              "      <td>0.178151</td>\n",
              "      <td>0.229931</td>\n",
              "      <td>0.125074</td>\n",
              "      <td>0.218556</td>\n",
              "      <td>-0.047173</td>\n",
              "      <td>0.159951</td>\n",
              "      <td>-0.378693</td>\n",
              "      <td>0.923723</td>\n",
              "      <td>-0.070124</td>\n",
              "      <td>0.008384</td>\n",
              "      <td>-0.243237</td>\n",
              "      <td>-0.162642</td>\n",
              "    </tr>\n",
              "    <tr>\n",
              "      <th>4</th>\n",
              "      <td>-1.389088</td>\n",
              "      <td>0.341993</td>\n",
              "      <td>-0.457013</td>\n",
              "      <td>0.858116</td>\n",
              "      <td>0.432582</td>\n",
              "      <td>-1.957009</td>\n",
              "      <td>-0.126323</td>\n",
              "      <td>0.112903</td>\n",
              "      <td>0.229931</td>\n",
              "      <td>0.215053</td>\n",
              "      <td>0.218556</td>\n",
              "      <td>-0.047173</td>\n",
              "      <td>0.159951</td>\n",
              "      <td>0.272715</td>\n",
              "      <td>0.923723</td>\n",
              "      <td>-0.562358</td>\n",
              "      <td>0.344155</td>\n",
              "      <td>-1.160176</td>\n",
              "      <td>-1.323933</td>\n",
              "    </tr>\n",
              "    <tr>\n",
              "      <th>...</th>\n",
              "      <td>...</td>\n",
              "      <td>...</td>\n",
              "      <td>...</td>\n",
              "      <td>...</td>\n",
              "      <td>...</td>\n",
              "      <td>...</td>\n",
              "      <td>...</td>\n",
              "      <td>...</td>\n",
              "      <td>...</td>\n",
              "      <td>...</td>\n",
              "      <td>...</td>\n",
              "      <td>...</td>\n",
              "      <td>...</td>\n",
              "      <td>...</td>\n",
              "      <td>...</td>\n",
              "      <td>...</td>\n",
              "      <td>...</td>\n",
              "      <td>...</td>\n",
              "      <td>...</td>\n",
              "    </tr>\n",
              "    <tr>\n",
              "      <th>186</th>\n",
              "      <td>1.373104</td>\n",
              "      <td>0.341993</td>\n",
              "      <td>-0.457013</td>\n",
              "      <td>0.858116</td>\n",
              "      <td>0.432582</td>\n",
              "      <td>1.184073</td>\n",
              "      <td>-0.126323</td>\n",
              "      <td>1.695167</td>\n",
              "      <td>1.211041</td>\n",
              "      <td>1.339780</td>\n",
              "      <td>0.734979</td>\n",
              "      <td>-0.047173</td>\n",
              "      <td>0.159951</td>\n",
              "      <td>0.393346</td>\n",
              "      <td>0.923723</td>\n",
              "      <td>-0.193183</td>\n",
              "      <td>0.318327</td>\n",
              "      <td>-0.396060</td>\n",
              "      <td>-0.452964</td>\n",
              "    </tr>\n",
              "    <tr>\n",
              "      <th>187</th>\n",
              "      <td>1.373104</td>\n",
              "      <td>0.341993</td>\n",
              "      <td>2.188122</td>\n",
              "      <td>0.858116</td>\n",
              "      <td>0.432582</td>\n",
              "      <td>1.184073</td>\n",
              "      <td>-0.126323</td>\n",
              "      <td>1.695167</td>\n",
              "      <td>1.211041</td>\n",
              "      <td>1.294791</td>\n",
              "      <td>0.734979</td>\n",
              "      <td>-0.047173</td>\n",
              "      <td>0.159951</td>\n",
              "      <td>0.393346</td>\n",
              "      <td>0.923723</td>\n",
              "      <td>-0.390076</td>\n",
              "      <td>1.506440</td>\n",
              "      <td>-1.007353</td>\n",
              "      <td>-0.888449</td>\n",
              "    </tr>\n",
              "    <tr>\n",
              "      <th>188</th>\n",
              "      <td>1.373104</td>\n",
              "      <td>0.341993</td>\n",
              "      <td>-0.457013</td>\n",
              "      <td>0.858116</td>\n",
              "      <td>0.432582</td>\n",
              "      <td>1.184073</td>\n",
              "      <td>-0.126323</td>\n",
              "      <td>1.695167</td>\n",
              "      <td>1.211041</td>\n",
              "      <td>1.339780</td>\n",
              "      <td>0.734979</td>\n",
              "      <td>1.955051</td>\n",
              "      <td>0.159951</td>\n",
              "      <td>1.165385</td>\n",
              "      <td>0.923723</td>\n",
              "      <td>-0.365464</td>\n",
              "      <td>0.834898</td>\n",
              "      <td>-1.160176</td>\n",
              "      <td>-1.178772</td>\n",
              "    </tr>\n",
              "    <tr>\n",
              "      <th>189</th>\n",
              "      <td>1.373104</td>\n",
              "      <td>-2.924038</td>\n",
              "      <td>2.188122</td>\n",
              "      <td>0.858116</td>\n",
              "      <td>0.432582</td>\n",
              "      <td>1.184073</td>\n",
              "      <td>-0.126323</td>\n",
              "      <td>1.695167</td>\n",
              "      <td>1.211041</td>\n",
              "      <td>1.339780</td>\n",
              "      <td>0.734979</td>\n",
              "      <td>-0.047173</td>\n",
              "      <td>0.159951</td>\n",
              "      <td>0.489851</td>\n",
              "      <td>-0.075887</td>\n",
              "      <td>3.129398</td>\n",
              "      <td>0.111698</td>\n",
              "      <td>0.062409</td>\n",
              "      <td>-0.598126</td>\n",
              "    </tr>\n",
              "    <tr>\n",
              "      <th>190</th>\n",
              "      <td>1.373104</td>\n",
              "      <td>0.341993</td>\n",
              "      <td>2.188122</td>\n",
              "      <td>0.858116</td>\n",
              "      <td>0.432582</td>\n",
              "      <td>1.184073</td>\n",
              "      <td>-0.126323</td>\n",
              "      <td>1.695167</td>\n",
              "      <td>1.211041</td>\n",
              "      <td>1.339780</td>\n",
              "      <td>0.734979</td>\n",
              "      <td>-0.047173</td>\n",
              "      <td>0.159951</td>\n",
              "      <td>0.393346</td>\n",
              "      <td>0.923723</td>\n",
              "      <td>-0.193183</td>\n",
              "      <td>0.318327</td>\n",
              "      <td>-1.007353</td>\n",
              "      <td>-0.888449</td>\n",
              "    </tr>\n",
              "  </tbody>\n",
              "</table>\n",
              "<p>191 rows × 19 columns</p>\n",
              "</div>\n",
              "      <button class=\"colab-df-convert\" onclick=\"convertToInteractive('df-99d89952-3021-4380-892a-06f987e6fe93')\"\n",
              "              title=\"Convert this dataframe to an interactive table.\"\n",
              "              style=\"display:none;\">\n",
              "        \n",
              "  <svg xmlns=\"http://www.w3.org/2000/svg\" height=\"24px\"viewBox=\"0 0 24 24\"\n",
              "       width=\"24px\">\n",
              "    <path d=\"M0 0h24v24H0V0z\" fill=\"none\"/>\n",
              "    <path d=\"M18.56 5.44l.94 2.06.94-2.06 2.06-.94-2.06-.94-.94-2.06-.94 2.06-2.06.94zm-11 1L8.5 8.5l.94-2.06 2.06-.94-2.06-.94L8.5 2.5l-.94 2.06-2.06.94zm10 10l.94 2.06.94-2.06 2.06-.94-2.06-.94-.94-2.06-.94 2.06-2.06.94z\"/><path d=\"M17.41 7.96l-1.37-1.37c-.4-.4-.92-.59-1.43-.59-.52 0-1.04.2-1.43.59L10.3 9.45l-7.72 7.72c-.78.78-.78 2.05 0 2.83L4 21.41c.39.39.9.59 1.41.59.51 0 1.02-.2 1.41-.59l7.78-7.78 2.81-2.81c.8-.78.8-2.07 0-2.86zM5.41 20L4 18.59l7.72-7.72 1.47 1.35L5.41 20z\"/>\n",
              "  </svg>\n",
              "      </button>\n",
              "      \n",
              "  <style>\n",
              "    .colab-df-container {\n",
              "      display:flex;\n",
              "      flex-wrap:wrap;\n",
              "      gap: 12px;\n",
              "    }\n",
              "\n",
              "    .colab-df-convert {\n",
              "      background-color: #E8F0FE;\n",
              "      border: none;\n",
              "      border-radius: 50%;\n",
              "      cursor: pointer;\n",
              "      display: none;\n",
              "      fill: #1967D2;\n",
              "      height: 32px;\n",
              "      padding: 0 0 0 0;\n",
              "      width: 32px;\n",
              "    }\n",
              "\n",
              "    .colab-df-convert:hover {\n",
              "      background-color: #E2EBFA;\n",
              "      box-shadow: 0px 1px 2px rgba(60, 64, 67, 0.3), 0px 1px 3px 1px rgba(60, 64, 67, 0.15);\n",
              "      fill: #174EA6;\n",
              "    }\n",
              "\n",
              "    [theme=dark] .colab-df-convert {\n",
              "      background-color: #3B4455;\n",
              "      fill: #D2E3FC;\n",
              "    }\n",
              "\n",
              "    [theme=dark] .colab-df-convert:hover {\n",
              "      background-color: #434B5C;\n",
              "      box-shadow: 0px 1px 3px 1px rgba(0, 0, 0, 0.15);\n",
              "      filter: drop-shadow(0px 1px 2px rgba(0, 0, 0, 0.3));\n",
              "      fill: #FFFFFF;\n",
              "    }\n",
              "  </style>\n",
              "\n",
              "      <script>\n",
              "        const buttonEl =\n",
              "          document.querySelector('#df-99d89952-3021-4380-892a-06f987e6fe93 button.colab-df-convert');\n",
              "        buttonEl.style.display =\n",
              "          google.colab.kernel.accessAllowed ? 'block' : 'none';\n",
              "\n",
              "        async function convertToInteractive(key) {\n",
              "          const element = document.querySelector('#df-99d89952-3021-4380-892a-06f987e6fe93');\n",
              "          const dataTable =\n",
              "            await google.colab.kernel.invokeFunction('convertToInteractive',\n",
              "                                                     [key], {});\n",
              "          if (!dataTable) return;\n",
              "\n",
              "          const docLinkHtml = 'Like what you see? Visit the ' +\n",
              "            '<a target=\"_blank\" href=https://colab.research.google.com/notebooks/data_table.ipynb>data table notebook</a>'\n",
              "            + ' to learn more about interactive tables.';\n",
              "          element.innerHTML = '';\n",
              "          dataTable['output_type'] = 'display_data';\n",
              "          await google.colab.output.renderOutput(dataTable, element);\n",
              "          const docLink = document.createElement('div');\n",
              "          docLink.innerHTML = docLinkHtml;\n",
              "          element.appendChild(docLink);\n",
              "        }\n",
              "      </script>\n",
              "    </div>\n",
              "  </div>\n",
              "  "
            ]
          },
          "metadata": {}
        },
        {
          "output_type": "execute_result",
          "data": {
            "text/plain": [
              "<matplotlib.axes._subplots.AxesSubplot at 0x7f3a2ce5cf50>"
            ]
          },
          "metadata": {},
          "execution_count": 44
        },
        {
          "output_type": "display_data",
          "data": {
            "text/plain": [
              "<Figure size 1440x1440 with 1 Axes>"
            ],
            "image/png": "[encoded data removed]"
          },
          "metadata": {
            "needs_background": "light"
          }
        }
      ]
    },
    {
      "cell_type": "markdown",
      "metadata": {
        "id": "n2F8ksSpz-Rp"
      },
      "source": [
        "(b) Bentuk normalisasi apa yang Anda pilih? Apa alasannya?\n",
        "\n",
        "> Jawab di sini<br>\n",
        "Menurut sumber yang saya dapatkan, sebenarnya menggunakan metode normalisasi manapun bisa saja dan semuanya mengembalikan performa dan hasil yang serupa. Pada kasus ini saya menggunakan metode normalisasi Z-score karena data tersebut sudah bersih dari outliers sehingga Z-score yang memanfaatkan mean akan terbebas dari masalah outliers."
      ]
    },
    {
      "cell_type": "markdown",
      "metadata": {
        "id": "IEdkNNOqz-Rp"
      },
      "source": [
        "(c) Menurut Anda, mengapa normalisasi perlu dilakukan?\n",
        "> Jawab di sini<br>\n",
        "Karena atribut data yang kita terima belum tentu semuanya berada pada skala yang sama, hal ini dapat menyebabkan suatu atribut menjadi jauh lebih dominan dibandingkan dengan atribut lainnya dan terjadi bias pada data yang kita olah."
      ]
    },
    {
      "cell_type": "markdown",
      "source": [
        "## 2. Principal Component Analysis"
      ],
      "metadata": {
        "id": "Af4QY1N0XY0f"
      }
    },
    {
      "cell_type": "markdown",
      "source": [
        "# Dimensionality Reduction (PCA)\n",
        "\n",
        "Library `scikit-learn` telah menyediakan modul `decomposition` yang dapat digunakan untuk melakukan PCA. Cara kerja PCA pada library ini serupa dengan step by step yang telah dilakukan pada bagian sebelumnya.\n",
        "\n",
        "\n",
        "Dokumentasi lebih lanjut dapat dilihat di https://scikit-learn.org/stable/modules/generated/sklearn.decomposition.PCA.html"
      ],
      "metadata": {
        "id": "yfTvFp_RYLjD"
      }
    },
    {
      "cell_type": "code",
      "source": [
        "# Import modul PCA\n",
        "from sklearn.decomposition import PCA"
      ],
      "metadata": {
        "id": "8hy1JDdqXYlb"
      },
      "execution_count": null,
      "outputs": []
    },
    {
      "cell_type": "code",
      "source": [
        "# gunakan data iris dari sklearn\n",
        "from sklearn.datasets import load_iris\n",
        "iris = load_iris()\n",
        "\n",
        "\n",
        "iris_df = pd.DataFrame(iris['data'],columns=iris['feature_names'])"
      ],
      "metadata": {
        "id": "MIM5iBTSZDQp"
      },
      "execution_count": null,
      "outputs": []
    },
    {
      "cell_type": "code",
      "source": [
        "# features=['sepal_length','sepal_width','petal_length','petal_width']\n",
        "# x=iris['feature_names']\n",
        "# y=iris.species\n",
        "\n",
        "iris_df.shape"
      ],
      "metadata": {
        "colab": {
          "base_uri": "https://localhost:8080/"
        },
        "id": "t4UpdghMxwFO",
        "outputId": "926e427e-ce62-4dd2-b268-d8528e343ee4"
      },
      "execution_count": null,
      "outputs": [
        {
          "output_type": "execute_result",
          "data": {
            "text/plain": [
              "(150, 4)"
            ]
          },
          "metadata": {},
          "execution_count": 47
        }
      ]
    },
    {
      "cell_type": "markdown",
      "source": [
        "### Scaling"
      ],
      "metadata": {
        "id": "AsF1FYRPZiQh"
      }
    },
    {
      "cell_type": "code",
      "source": [
        "# initialize PCA\n",
        "pca = PCA()"
      ],
      "metadata": {
        "id": "nfWDbvqCZhrF"
      },
      "execution_count": null,
      "outputs": []
    },
    {
      "cell_type": "code",
      "source": [
        "from sklearn.preprocessing import StandardScaler\n",
        "scaler = StandardScaler()\n",
        "scaler.fit(iris_df)"
      ],
      "metadata": {
        "colab": {
          "base_uri": "https://localhost:8080/"
        },
        "id": "Xt6C-xaPtPrD",
        "outputId": "ca326e6f-7f73-4869-bff3-0bb09b40a9b3"
      },
      "execution_count": null,
      "outputs": [
        {
          "output_type": "execute_result",
          "data": {
            "text/plain": [
              "StandardScaler()"
            ]
          },
          "metadata": {},
          "execution_count": 49
        }
      ]
    },
    {
      "cell_type": "code",
      "source": [
        "scaled_data = scaler.transform(iris_df)"
      ],
      "metadata": {
        "id": "7_8Og_bWtQG7"
      },
      "execution_count": null,
      "outputs": []
    },
    {
      "cell_type": "code",
      "source": [
        "# Fit the model with \"scaled_data\".\n",
        "pca.fit(scaled_data)"
      ],
      "metadata": {
        "id": "treIUVD_ZqJ3",
        "colab": {
          "base_uri": "https://localhost:8080/"
        },
        "outputId": "4906b4c1-6a0a-42a5-ed8a-acca9a36a1a0"
      },
      "execution_count": null,
      "outputs": [
        {
          "output_type": "execute_result",
          "data": {
            "text/plain": [
              "PCA()"
            ]
          },
          "metadata": {},
          "execution_count": 51
        }
      ]
    },
    {
      "cell_type": "code",
      "source": [
        "trans_pca = pca.transform(scaled_data)"
      ],
      "metadata": {
        "id": "mWgnzSuPwmmZ"
      },
      "execution_count": null,
      "outputs": []
    },
    {
      "cell_type": "code",
      "source": [
        "trans_pca.shape"
      ],
      "metadata": {
        "colab": {
          "base_uri": "https://localhost:8080/"
        },
        "id": "yXM5nnOxwhIf",
        "outputId": "25260e6f-f036-45dd-f32c-78b33fca3bfb"
      },
      "execution_count": null,
      "outputs": [
        {
          "output_type": "execute_result",
          "data": {
            "text/plain": [
              "(150, 4)"
            ]
          },
          "metadata": {},
          "execution_count": 53
        }
      ]
    },
    {
      "cell_type": "code",
      "source": [
        "# explained variants\n",
        "explained_variants = pca.explained_variance_ratio_\n",
        "explained_variants"
      ],
      "metadata": {
        "colab": {
          "base_uri": "https://localhost:8080/"
        },
        "id": "cAzCXbSZ0qtE",
        "outputId": "63c7f83f-3cb2-4bc2-c7b4-a26718242415"
      },
      "execution_count": null,
      "outputs": [
        {
          "output_type": "execute_result",
          "data": {
            "text/plain": [
              "array([0.72962445, 0.22850762, 0.03668922, 0.00517871])"
            ]
          },
          "metadata": {},
          "execution_count": 54
        }
      ]
    },
    {
      "cell_type": "code",
      "source": [
        "\n",
        "plt.plot(range(0,4), explained_variants)\n",
        "plt.ylabel('Explained Variance')\n",
        "plt.xlabel('Principal Components')\n",
        "plt.xticks(range(0,4),\n",
        "           [\"1st comp\", \"2nd comp\", \"3rd comp\", \"4th comp\"], rotation=60)\n",
        "plt.title('Explained Variance Ratio')\n",
        "plt.show()"
      ],
      "metadata": {
        "colab": {
          "base_uri": "https://localhost:8080/",
          "height": 333
        },
        "id": "PCoMy-nd1He6",
        "outputId": "5c03e8fe-d95a-4891-95f6-ad997a3bc002"
      },
      "execution_count": null,
      "outputs": [
        {
          "output_type": "display_data",
          "data": {
            "text/plain": [
              "<Figure size 432x288 with 1 Axes>"
            ],
            "image/png": "[encoded data removed]"
          },
          "metadata": {
            "needs_background": "light"
          }
        }
      ]
    },
    {
      "cell_type": "markdown",
      "source": [
        "Dari grafik, dapat terlihat Principle Components sudah merangkap 95% variance data"
      ],
      "metadata": {
        "id": "Exs-NM8v713E"
      }
    },
    {
      "cell_type": "code",
      "source": [
        "\n",
        "\n",
        "from numpy.random import rand\n",
        "\n",
        "# Inverse PCA menggunakan satu component saja\n",
        "def inverse_pca(pca_data, pca, remove_n):\n",
        "    transformed = pca_data.copy()\n",
        "    transformed[:, -remove_n:] = 0\n",
        "    return pca.inverse_transform(transformed)\n",
        "\n",
        "LL = inverse_pca(trans_pca, pca, 1)\n",
        "\n"
      ],
      "metadata": {
        "id": "9CB1jjsj2n8z"
      },
      "execution_count": null,
      "outputs": []
    },
    {
      "cell_type": "code",
      "source": [
        "plt.figure(figsize=(8,6))\n",
        "scatter = plt.scatter(scaled_data[:,0],scaled_data[:,1],c=iris['target'], cmap='plasma')\n",
        "plt.legend(*scatter.legend_elements())\n",
        "plt.xlabel('Original sepal length')\n",
        "plt.ylabel('Original sepal width')\n",
        "\n",
        "# Blue: Setosa\n",
        "# Pink: Versicolor\n",
        "# Yellow: Virginica"
      ],
      "metadata": {
        "colab": {
          "base_uri": "https://localhost:8080/",
          "height": 406
        },
        "id": "SMGhehiq20Wn",
        "outputId": "969b4e2b-876c-4b78-8fb4-58d0dcfd1ee4"
      },
      "execution_count": null,
      "outputs": [
        {
          "output_type": "execute_result",
          "data": {
            "text/plain": [
              "Text(0, 0.5, 'Original sepal width')"
            ]
          },
          "metadata": {},
          "execution_count": 57
        },
        {
          "output_type": "display_data",
          "data": {
            "text/plain": [
              "<Figure size 576x432 with 1 Axes>"
            ],
            "image/png": "[encoded data removed]"
          },
          "metadata": {
            "needs_background": "light"
          }
        }
      ]
    },
    {
      "cell_type": "code",
      "source": [
        "plt.figure(figsize=(8,6))\n",
        "scatter = plt.scatter(LL[:,0],LL[:,1],c=iris['target'], cmap='plasma')\n",
        "plt.legend(*scatter.legend_elements())\n",
        "plt.xlabel('LL sepal length')\n",
        "plt.ylabel('LL sepal width')\n",
        "\n",
        "# Blue: Setosa\n",
        "# Pink: Versicolor\n",
        "# Yellow: Virginica"
      ],
      "metadata": {
        "colab": {
          "base_uri": "https://localhost:8080/",
          "height": 406
        },
        "id": "iWviI5iF3T0Q",
        "outputId": "9b429238-af8e-49a1-e69f-9f752b536a94"
      },
      "execution_count": null,
      "outputs": [
        {
          "output_type": "execute_result",
          "data": {
            "text/plain": [
              "Text(0, 0.5, 'LL sepal width')"
            ]
          },
          "metadata": {},
          "execution_count": 58
        },
        {
          "output_type": "display_data",
          "data": {
            "text/plain": [
              "<Figure size 576x432 with 1 Axes>"
            ],
            "image/png": "[encoded data removed]"
          },
          "metadata": {
            "needs_background": "light"
          }
        }
      ]
    },
    {
      "cell_type": "code",
      "source": [
        "plt.figure(figsize=(8,6))\n",
        "scatter = plt.scatter(scaled_data[:,2],scaled_data[:,3],c=iris['target'], cmap='plasma')\n",
        "plt.legend(*scatter.legend_elements())\n",
        "plt.xlabel('Original petal length')\n",
        "plt.ylabel('Original petal width')\n",
        "\n",
        "# Blue: Setosa\n",
        "# Pink: Versicolor\n",
        "# Yellow: Virginica"
      ],
      "metadata": {
        "colab": {
          "base_uri": "https://localhost:8080/",
          "height": 406
        },
        "id": "kh2MscrO8ZzN",
        "outputId": "08dd2224-8a53-4c97-941e-7d46123ba767"
      },
      "execution_count": null,
      "outputs": [
        {
          "output_type": "execute_result",
          "data": {
            "text/plain": [
              "Text(0, 0.5, 'Original petal width')"
            ]
          },
          "metadata": {},
          "execution_count": 59
        },
        {
          "output_type": "display_data",
          "data": {
            "text/plain": [
              "<Figure size 576x432 with 1 Axes>"
            ],
            "image/png": "[encoded data removed]"
          },
          "metadata": {
            "needs_background": "light"
          }
        }
      ]
    },
    {
      "cell_type": "code",
      "source": [
        "plt.figure(figsize=(8,6))\n",
        "scatter = plt.scatter(LL[:,2],LL[:,3],c=iris['target'], cmap='plasma')\n",
        "plt.legend(*scatter.legend_elements())\n",
        "plt.xlabel('LL petal length')\n",
        "plt.ylabel('LL petal width')\n",
        "\n",
        "# Blue: Setosa\n",
        "# Pink: Versicolor\n",
        "# Yellow: Virginica"
      ],
      "metadata": {
        "colab": {
          "base_uri": "https://localhost:8080/",
          "height": 406
        },
        "id": "NYF6gy9k8eva",
        "outputId": "8e7dd6db-b501-4524-c701-4c8214faddc4"
      },
      "execution_count": null,
      "outputs": [
        {
          "output_type": "execute_result",
          "data": {
            "text/plain": [
              "Text(0, 0.5, 'LL petal width')"
            ]
          },
          "metadata": {},
          "execution_count": 60
        },
        {
          "output_type": "display_data",
          "data": {
            "text/plain": [
              "<Figure size 576x432 with 1 Axes>"
            ],
            "image/png": "[encoded data removed]"
          },
          "metadata": {
            "needs_background": "light"
          }
        }
      ]
    },
    {
      "cell_type": "markdown",
      "source": [
        "Dari keempat scatter plot, kita dapat lihat bahwa grafik original data dan LL relatif mirip. Hal ini dikarenakan data yang hilang setelah melakukan PCA tidak terlalu signifikan."
      ],
      "metadata": {
        "id": "-VtIkTJC4qqo"
      }
    },
    {
      "cell_type": "code",
      "source": [
        "plt.figure(figsize=(8,6))\n",
        "scatter = plt.scatter(trans_pca[:,0],trans_pca[:,1],c=iris['target'], cmap='plasma')\n",
        "plt.legend(*scatter.legend_elements())\n",
        "plt.xlabel('PCA sepal length')\n",
        "plt.ylabel('PCA sepal width')\n",
        "\n",
        "# Blue: Setosa\n",
        "# Pink: Versicolor\n",
        "# Yellow: Virginica"
      ],
      "metadata": {
        "colab": {
          "base_uri": "https://localhost:8080/",
          "height": 406
        },
        "id": "HA72FRs14YIu",
        "outputId": "b741b132-9191-4c07-e7c4-0c0aa378d065"
      },
      "execution_count": null,
      "outputs": [
        {
          "output_type": "execute_result",
          "data": {
            "text/plain": [
              "Text(0, 0.5, 'PCA sepal width')"
            ]
          },
          "metadata": {},
          "execution_count": 61
        },
        {
          "output_type": "display_data",
          "data": {
            "text/plain": [
              "<Figure size 576x432 with 1 Axes>"
            ],
            "image/png": "[encoded data removed]"
          },
          "metadata": {
            "needs_background": "light"
          }
        }
      ]
    },
    {
      "cell_type": "code",
      "source": [
        "plt.figure(figsize=(8,6))\n",
        "scatter = plt.scatter(trans_pca[:,0],trans_pca[:,0],c=iris['target'], cmap='plasma')\n",
        "plt.legend(*scatter.legend_elements())\n",
        "plt.xlabel('PCA sepal length')\n",
        "plt.ylabel('PCA sepal width')\n",
        "\n",
        "# Blue: Setosa\n",
        "# Pink: Versicolor\n",
        "# Yellow: Virginica"
      ],
      "metadata": {
        "colab": {
          "base_uri": "https://localhost:8080/",
          "height": 406
        },
        "id": "bvEzoZXfDoqy",
        "outputId": "d1ce6a7f-7a81-4e40-b100-c59206769036"
      },
      "execution_count": null,
      "outputs": [
        {
          "output_type": "execute_result",
          "data": {
            "text/plain": [
              "Text(0, 0.5, 'PCA sepal width')"
            ]
          },
          "metadata": {},
          "execution_count": 62
        },
        {
          "output_type": "display_data",
          "data": {
            "text/plain": [
              "<Figure size 576x432 with 1 Axes>"
            ],
            "image/png": "[encoded data removed]"
          },
          "metadata": {
            "needs_background": "light"
          }
        }
      ]
    },
    {
      "cell_type": "markdown",
      "source": [
        "Sedangkan untuk data yang menggunakan principle components menunjukkan 3 cluster berbeda"
      ],
      "metadata": {
        "id": "Bu3Xdp8P8K-O"
      }
    },
    {
      "cell_type": "markdown",
      "source": [
        "## SOAL 4"
      ],
      "metadata": {
        "id": "xXgpBNvS0wh3"
      }
    },
    {
      "cell_type": "markdown",
      "source": [
        "(a) Berdasarkan contoh implementasi PCA diatas, jelaskan tiap step yang dilakukan\n",
        "> Jawab di sini<br>\n",
        "Pertama digunakan fitur StandardScaler untuk untuk melakukan standarisasi/normalisasi terhadap data tersebut, digunakan fitur StandardScaler.fit untuk menghitung mean dan standard deviasi yang akan digunakan pada fitur tersebut, kemudian kedua nilai tersebut digunakan pada StandardScaler.transform yang menormalisasi data tersebut.<br>\n",
        "Kedua setelah menormalisasi data tersebut, akan dilakukan reduksi dimensi dengan PCA (Principle Component Analysis) yang mana akan mengurangi atribut data tersebut hingga tinggal principal componentsnya saja. Pada contoh diatas hal ini dilakukan dengan pertama pca.fit yang akan menyocokkan data dengan model pca yang akan dibuat. Kemudian digunakan pca.transform yang akan melakukan reduksi berdasarkan principal compontents yang ditemukan (bisa dilihat dengan pca.explained_variance)<br>\n",
        "Tahapan selanjutnya pada contoh diatas hanya membandingkan hasil antara data original, data LL (1 components), dan data setelah PCA. <br>\n",
        "Secara teori berikut merupakan implementasi PCA:<br>\n",
        "\n",
        "\n",
        "1.   Standarisasi data\n",
        "2.   Hitung matriks kovarian\n",
        "3.   Hitung nilai eigen dan vektor eigen dari matriks kovarian\n",
        "4.   Tentukan principal components dengan mengurutkan nilai eigen dan vektor eigen\n",
        "5.   Transformasikan data ke vektor baru berdasarkan principal component\n",
        "\n",
        "\n"
      ],
      "metadata": {
        "id": "VnF3ulQ-1CrK"
      }
    },
    {
      "cell_type": "markdown",
      "source": [
        "(b) Menurut Anda, kapan PCA perlu dilakukan?\n",
        "> Jawab di sini<br>\n",
        "Ketika memiliki data dengan atribut yang sangat banyak. Dengan menggunakan PCA harapannya hasil yang sama bisa didapatkan dengan jumlah atribut yang jauh lebih sedikit sehingga performa menjadi lebih baik."
      ],
      "metadata": {
        "id": "MBGbqWhu03em"
      }
    },
    {
      "cell_type": "markdown",
      "source": [
        "(c) Menurut Anda, bagaimana hasil transformasi PCA menggunakan 1 dan 2 principal component pada dastaset iris ini?\n",
        "> Jawab di sini<br>\n",
        "sepertinya hasil yang akan didapat tidak akan jauh berbeda, karena jika dilihat pada grafik explained variance ratio 1 principal components sudah mewakili ~70% data dan jika ditambah menjadi 2 principal components variance rationya akan menjadi ~90% (70+20)."
      ],
      "metadata": {
        "id": "wRa2ocYV06PT"
      }
    }
  ]
}