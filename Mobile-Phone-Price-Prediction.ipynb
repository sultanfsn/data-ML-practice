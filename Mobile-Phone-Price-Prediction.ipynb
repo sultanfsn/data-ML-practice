{
  "nbformat": 4,
  "nbformat_minor": 0,
  "metadata": {
    "colab": {
      "provenance": [],
      "collapsed_sections": [
        "4Qzu0GmLXLF8",
        "GYjdBnEGXLSt",
        "fgcOGrgNXLOb",
        "0bJvYH9F38uw"
      ],
      "toc_visible": true
    },
    "kernelspec": {
      "name": "python3",
      "display_name": "Python 3"
    },
    "language_info": {
      "name": "python"
    }
  },
  "cells": [
    {
      "cell_type": "markdown",
      "metadata": {
        "id": "0k_j9vD93i96"
      },
      "source": [
        "<center>\n",
        "<img src=\"https://drive.google.com/uc?id=1f1gGVI-rxcHjA90WEGNvvtSXF1pAxQwg\" alt=\"Fasilkom UI\" width=\"300\"/>\n",
        "\n",
        "CSGE603130 • Kecerdasan Artifisial dan Sains Data Dasar\n",
        "\n",
        "Semester Ganjil 2022/2023\n",
        "\n",
        "Fakultas Ilmu Komputer, Universitas Indonesia\n",
        "\n",
        "##**Tugas *2*: *Classification***\n",
        "\n",
        "###**Tenggat Waktu: 19 November 2022, 23.55 WIB**\n",
        "</center>\n",
        "\n",
        "####**Ketentuan:**\n",
        "\n",
        "1. Dataset yang digunakan pada tugas ini beserta deskripsinya telah disediakan di SCeLe.\n",
        "2. Buatlah program Jupyter Notebook yang menjawab pertanyaan sesuai dengan perintah soal yang disediakan.\n",
        "3. Dokumen Jupyter Notebook yang telah dilengkapi dengan jawaban dikumpulkan dengan format penamaan **Kelas_Tugas2_NPM_Nama.ipynb**. Contoh: A_Tugas2_2006123456_Budi.ipynb\n",
        "4. Kumpulkan dokumen tersebut pada submisi yang telah disediakan di SCeLe sesuai dengan kelas masing-masing sebelum **19 November 2022, 23.55 WIB**. Keterlambatan pengumpulan akan dikenakan pinalti.\n",
        "5. Praktikum ini dirancang sebagai **tugas mandiri**. Plagiarisme tidak diperkenankan dalam bentuk apapun. Adapun kolaborasi berupa diskusi (tanpa menyalin) dan literasi masih diperbolehkan dengan mencantumkan kolaborator dan sumber.\n"
      ]
    },
    {
      "cell_type": "markdown",
      "metadata": {
        "id": "JnRUE1Ul62_R"
      },
      "source": [
        "## **Pernyataan Integritas**\n",
        "\n",
        "Wajib diisi. Tanpa pernyataan integritas submisi akan dikenakan pinalti."
      ]
    },
    {
      "cell_type": "code",
      "metadata": {
        "id": "9tnfWWpN7vjq"
      },
      "source": [
        "# Isi dengan data diri Anda\n",
        "NAMA = \"Sultan Fahrezy Syahdwinata Nugraha\"\n",
        "KELAS = \"C\"\n",
        "NPM = \"2006533811\"\n",
        "\n",
        "# Isi dengan NPM teman yang berdiskusi dengan Anda\n",
        "KOLABORATOR = []\n",
        "\n",
        "# Isi dengan sumber referensi yang Anda gunakan dalam mengerjakan\n",
        "REFERENSI = []"
      ],
      "execution_count": null,
      "outputs": []
    },
    {
      "cell_type": "code",
      "metadata": {
        "colab": {
          "base_uri": "https://localhost:8080/"
        },
        "id": "KVEdteyu3hot",
        "outputId": "a2f760da-1c77-445e-c211-293f55e7502a"
      },
      "source": [
        "PERNYATAAN_INTEGRITAS = \"Saya, %s dari kelas %s dengan NPM %s, menyatakan bahwa seluruh jawaban pada pekerjaan ini murni saya kerjakan sendiri.\\n\\\n",
        "Saya tidak mencontek jawaban, memberikan jawaban, maupun menyalin dari sumber manapun.\\n \\\n",
        "\\n\\\n",
        "Jika saya melanggar pernyataan tersebut, saya siap menerima konsekuensi apapun yang diberikan.\\n   \\\n",
        "(%s)\" % (NAMA, KELAS, NPM, NAMA)\n",
        "\n",
        "print(PERNYATAAN_INTEGRITAS)"
      ],
      "execution_count": null,
      "outputs": [
        {
          "output_type": "stream",
          "name": "stdout",
          "text": [
            "Saya, Sultan Fahrezy Syahdwinata Nugraha dari kelas C dengan NPM 2006533811, menyatakan bahwa seluruh jawaban pada pekerjaan ini murni saya kerjakan sendiri.\n",
            "Saya tidak mencontek jawaban, memberikan jawaban, maupun menyalin dari sumber manapun.\n",
            " \n",
            "Jika saya melanggar pernyataan tersebut, saya siap menerima konsekuensi apapun yang diberikan.\n",
            "   (Sultan Fahrezy Syahdwinata Nugraha)\n"
          ]
        }
      ]
    },
    {
      "cell_type": "code",
      "source": [
        "import matplotlib.pyplot as plt\n",
        "import numpy as np\n",
        "import pandas as pd\n",
        "\n",
        "from sklearn.ensemble import RandomForestClassifier\n",
        "from sklearn.feature_selection import SelectKBest\n",
        "from sklearn.metrics import classification_report\n",
        "from sklearn.model_selection import GridSearchCV, train_test_split, KFold, cross_val_score, cross_validate\n",
        "from sklearn.naive_bayes import GaussianNB, MultinomialNB, ComplementNB, BernoulliNB, CategoricalNB\n",
        "from sklearn.neighbors import KNeighborsClassifier\n",
        "from sklearn.preprocessing import MinMaxScaler, LabelEncoder, OneHotEncoder\n",
        "from sklearn.tree import DecisionTreeClassifier\n",
        "import seaborn as sns\n",
        "import scipy.stats as scp\n",
        "from sklearn.preprocessing import MinMaxScaler\n",
        "from sklearn.decomposition import PCA\n",
        "from sklearn.feature_selection import f_classif\n",
        "from sklearn.metrics import mean_absolute_error, mean_squared_error, r2_score\n",
        "from sklearn.model_selection import KFold"
      ],
      "metadata": {
        "id": "PfDooLQpbXRP"
      },
      "execution_count": null,
      "outputs": []
    },
    {
      "cell_type": "markdown",
      "source": [
        "## **Dataset**"
      ],
      "metadata": {
        "id": "whoUqmpRTKVe"
      }
    },
    {
      "cell_type": "markdown",
      "source": [
        "Dataset yang digunakan adalah dataset Mobile Prices dimana kita memklasifikasi handphone lewat harganya, terdapat 21 atribut dan target atributnya adalah price_range.\n",
        "\n",
        "Penjelesan atribut:\n",
        "* battery_power : Total energy a battery can store in one time measured in mAh\n",
        "* blue : Has bluetooth or not\n",
        "* clock_speed : speed at which microprocessor executes instructions\n",
        "* dual_sim : Has dual sim support or not\n",
        "* fc : Front Camera mega pixels\n",
        "* four_g : Has 4G or not\n",
        "* int_memory : Internal Memory in Gigabytes\n",
        "* m_dep : Mobile Depth in cm\n",
        "* mobile_wt : Weight of mobile phone\n",
        "* n_cores : Number of cores of processor\n",
        "* pc : Primary Camera mega pixels\n",
        "* px_height : Pixel Resolution Height\n",
        "* px_width : Pixel Resolution Width\n",
        "* ram : Random Access Memory in Mega Bytes\n",
        "* sc_h : Screen Height of mobile in cm\n",
        "* sc_w : Screen Width of mobile in cm\n",
        "* talk_time : Longest time that a single battery charge will last when you are\n",
        "* three_g : Has 3G or not\n",
        "* touch_screen : Has touch screen or not\n",
        "* wifi : Has wifi or not\n",
        "* price_range : This is the target variable with value of 0(low cost), 1(medium cost), 2(high cost) and 3(very high cost).\n",
        "\n",
        "Sumber: https://www.kaggle.com/datasets/iabhishekofficial/mobile-price-classification (dengan modifikasi)"
      ],
      "metadata": {
        "id": "EK27FheIFqrt"
      }
    },
    {
      "cell_type": "markdown",
      "source": [
        "## [25] **Preprocessing**"
      ],
      "metadata": {
        "id": "PIJ1_2ZIROKV"
      }
    },
    {
      "cell_type": "markdown",
      "source": [
        "**Pada bagian ini Anda akan diminta untuk melakukan preprocessing dan eksplorasi data sebelum data digunakan dalam model klasifikasi.**"
      ],
      "metadata": {
        "id": "-17a8T9R2_15"
      }
    },
    {
      "cell_type": "markdown",
      "source": [
        "1\\. [3] Berikan ringkasan mengenai data tersebut terkait dengan deskripsi setiap atribut, jumlah missing values, jumlah duplikasi data, dan kemungkinan adanya outliers pada data!"
      ],
      "metadata": {
        "id": "rjKw3KxmRbhm"
      }
    },
    {
      "cell_type": "code",
      "source": [
        "df = pd.read_csv('mobile_phone.csv')\n",
        "\n",
        "# Ringkasan data keseluruhan\n",
        "total_rows, total_attributes = df.shape\n",
        "print('Jumlah data:', total_rows)\n",
        "print(\"Jumlah atribut:\", total_attributes)\n",
        "\n",
        "df.head()"
      ],
      "metadata": {
        "id": "77nxbl8ZiLai",
        "colab": {
          "base_uri": "https://localhost:8080/",
          "height": 336
        },
        "outputId": "3e3f8182-273b-4a75-d728-6ba92cb469f7"
      },
      "execution_count": null,
      "outputs": [
        {
          "output_type": "stream",
          "name": "stdout",
          "text": [
            "Jumlah data: 2021\n",
            "Jumlah atribut: 21\n"
          ]
        },
        {
          "output_type": "execute_result",
          "data": {
            "text/plain": [
              "   battery_power  blue  clock_speed  dual_sim  fc  four_g  int_memory  m_dep  \\\n",
              "0            842     0          2.2         0   1       0         7.0    0.6   \n",
              "1           1021     1          0.5         1   0       1        53.0    0.7   \n",
              "2            563     1          0.5         1   2       1        41.0    0.9   \n",
              "3            615     1          2.5         0   0       0        10.0    0.8   \n",
              "4           1821     1          1.2         0  13       1        44.0    NaN   \n",
              "\n",
              "   mobile_wt  n_cores  ...  px_height  px_width     ram  sc_h  sc_w  \\\n",
              "0        188        2  ...         20       756  2549.0     9     7   \n",
              "1        136        3  ...        905      1988  2631.0    17     3   \n",
              "2        145        5  ...       1263      1716  2603.0    11     2   \n",
              "3        131        6  ...       1216      1786  2769.0    16     8   \n",
              "4        141        2  ...       1208      1212  1411.0     8     2   \n",
              "\n",
              "   talk_time  three_g  touch_screen  wifi  price_range  \n",
              "0        NaN        0           0.0   1.0            1  \n",
              "1        7.0        1           1.0   0.0            2  \n",
              "2        9.0        1           1.0   0.0            2  \n",
              "3       11.0        1           0.0   0.0            2  \n",
              "4       15.0        1           1.0   0.0            1  \n",
              "\n",
              "[5 rows x 21 columns]"
            ],
            "text/html": [
              "\n",
              "  <div id=\"df-6c9b9394-43f4-4b0f-91cd-8778460bbccc\">\n",
              "    <div class=\"colab-df-container\">\n",
              "      <div>\n",
              "<style scoped>\n",
              "    .dataframe tbody tr th:only-of-type {\n",
              "        vertical-align: middle;\n",
              "    }\n",
              "\n",
              "    .dataframe tbody tr th {\n",
              "        vertical-align: top;\n",
              "    }\n",
              "\n",
              "    .dataframe thead th {\n",
              "        text-align: right;\n",
              "    }\n",
              "</style>\n",
              "<table border=\"1\" class=\"dataframe\">\n",
              "  <thead>\n",
              "    <tr style=\"text-align: right;\">\n",
              "      <th></th>\n",
              "      <th>battery_power</th>\n",
              "      <th>blue</th>\n",
              "      <th>clock_speed</th>\n",
              "      <th>dual_sim</th>\n",
              "      <th>fc</th>\n",
              "      <th>four_g</th>\n",
              "      <th>int_memory</th>\n",
              "      <th>m_dep</th>\n",
              "      <th>mobile_wt</th>\n",
              "      <th>n_cores</th>\n",
              "      <th>...</th>\n",
              "      <th>px_height</th>\n",
              "      <th>px_width</th>\n",
              "      <th>ram</th>\n",
              "      <th>sc_h</th>\n",
              "      <th>sc_w</th>\n",
              "      <th>talk_time</th>\n",
              "      <th>three_g</th>\n",
              "      <th>touch_screen</th>\n",
              "      <th>wifi</th>\n",
              "      <th>price_range</th>\n",
              "    </tr>\n",
              "  </thead>\n",
              "  <tbody>\n",
              "    <tr>\n",
              "      <th>0</th>\n",
              "      <td>842</td>\n",
              "      <td>0</td>\n",
              "      <td>2.2</td>\n",
              "      <td>0</td>\n",
              "      <td>1</td>\n",
              "      <td>0</td>\n",
              "      <td>7.0</td>\n",
              "      <td>0.6</td>\n",
              "      <td>188</td>\n",
              "      <td>2</td>\n",
              "      <td>...</td>\n",
              "      <td>20</td>\n",
              "      <td>756</td>\n",
              "      <td>2549.0</td>\n",
              "      <td>9</td>\n",
              "      <td>7</td>\n",
              "      <td>NaN</td>\n",
              "      <td>0</td>\n",
              "      <td>0.0</td>\n",
              "      <td>1.0</td>\n",
              "      <td>1</td>\n",
              "    </tr>\n",
              "    <tr>\n",
              "      <th>1</th>\n",
              "      <td>1021</td>\n",
              "      <td>1</td>\n",
              "      <td>0.5</td>\n",
              "      <td>1</td>\n",
              "      <td>0</td>\n",
              "      <td>1</td>\n",
              "      <td>53.0</td>\n",
              "      <td>0.7</td>\n",
              "      <td>136</td>\n",
              "      <td>3</td>\n",
              "      <td>...</td>\n",
              "      <td>905</td>\n",
              "      <td>1988</td>\n",
              "      <td>2631.0</td>\n",
              "      <td>17</td>\n",
              "      <td>3</td>\n",
              "      <td>7.0</td>\n",
              "      <td>1</td>\n",
              "      <td>1.0</td>\n",
              "      <td>0.0</td>\n",
              "      <td>2</td>\n",
              "    </tr>\n",
              "    <tr>\n",
              "      <th>2</th>\n",
              "      <td>563</td>\n",
              "      <td>1</td>\n",
              "      <td>0.5</td>\n",
              "      <td>1</td>\n",
              "      <td>2</td>\n",
              "      <td>1</td>\n",
              "      <td>41.0</td>\n",
              "      <td>0.9</td>\n",
              "      <td>145</td>\n",
              "      <td>5</td>\n",
              "      <td>...</td>\n",
              "      <td>1263</td>\n",
              "      <td>1716</td>\n",
              "      <td>2603.0</td>\n",
              "      <td>11</td>\n",
              "      <td>2</td>\n",
              "      <td>9.0</td>\n",
              "      <td>1</td>\n",
              "      <td>1.0</td>\n",
              "      <td>0.0</td>\n",
              "      <td>2</td>\n",
              "    </tr>\n",
              "    <tr>\n",
              "      <th>3</th>\n",
              "      <td>615</td>\n",
              "      <td>1</td>\n",
              "      <td>2.5</td>\n",
              "      <td>0</td>\n",
              "      <td>0</td>\n",
              "      <td>0</td>\n",
              "      <td>10.0</td>\n",
              "      <td>0.8</td>\n",
              "      <td>131</td>\n",
              "      <td>6</td>\n",
              "      <td>...</td>\n",
              "      <td>1216</td>\n",
              "      <td>1786</td>\n",
              "      <td>2769.0</td>\n",
              "      <td>16</td>\n",
              "      <td>8</td>\n",
              "      <td>11.0</td>\n",
              "      <td>1</td>\n",
              "      <td>0.0</td>\n",
              "      <td>0.0</td>\n",
              "      <td>2</td>\n",
              "    </tr>\n",
              "    <tr>\n",
              "      <th>4</th>\n",
              "      <td>1821</td>\n",
              "      <td>1</td>\n",
              "      <td>1.2</td>\n",
              "      <td>0</td>\n",
              "      <td>13</td>\n",
              "      <td>1</td>\n",
              "      <td>44.0</td>\n",
              "      <td>NaN</td>\n",
              "      <td>141</td>\n",
              "      <td>2</td>\n",
              "      <td>...</td>\n",
              "      <td>1208</td>\n",
              "      <td>1212</td>\n",
              "      <td>1411.0</td>\n",
              "      <td>8</td>\n",
              "      <td>2</td>\n",
              "      <td>15.0</td>\n",
              "      <td>1</td>\n",
              "      <td>1.0</td>\n",
              "      <td>0.0</td>\n",
              "      <td>1</td>\n",
              "    </tr>\n",
              "  </tbody>\n",
              "</table>\n",
              "<p>5 rows × 21 columns</p>\n",
              "</div>\n",
              "      <button class=\"colab-df-convert\" onclick=\"convertToInteractive('df-6c9b9394-43f4-4b0f-91cd-8778460bbccc')\"\n",
              "              title=\"Convert this dataframe to an interactive table.\"\n",
              "              style=\"display:none;\">\n",
              "        \n",
              "  <svg xmlns=\"http://www.w3.org/2000/svg\" height=\"24px\"viewBox=\"0 0 24 24\"\n",
              "       width=\"24px\">\n",
              "    <path d=\"M0 0h24v24H0V0z\" fill=\"none\"/>\n",
              "    <path d=\"M18.56 5.44l.94 2.06.94-2.06 2.06-.94-2.06-.94-.94-2.06-.94 2.06-2.06.94zm-11 1L8.5 8.5l.94-2.06 2.06-.94-2.06-.94L8.5 2.5l-.94 2.06-2.06.94zm10 10l.94 2.06.94-2.06 2.06-.94-2.06-.94-.94-2.06-.94 2.06-2.06.94z\"/><path d=\"M17.41 7.96l-1.37-1.37c-.4-.4-.92-.59-1.43-.59-.52 0-1.04.2-1.43.59L10.3 9.45l-7.72 7.72c-.78.78-.78 2.05 0 2.83L4 21.41c.39.39.9.59 1.41.59.51 0 1.02-.2 1.41-.59l7.78-7.78 2.81-2.81c.8-.78.8-2.07 0-2.86zM5.41 20L4 18.59l7.72-7.72 1.47 1.35L5.41 20z\"/>\n",
              "  </svg>\n",
              "      </button>\n",
              "      \n",
              "  <style>\n",
              "    .colab-df-container {\n",
              "      display:flex;\n",
              "      flex-wrap:wrap;\n",
              "      gap: 12px;\n",
              "    }\n",
              "\n",
              "    .colab-df-convert {\n",
              "      background-color: #E8F0FE;\n",
              "      border: none;\n",
              "      border-radius: 50%;\n",
              "      cursor: pointer;\n",
              "      display: none;\n",
              "      fill: #1967D2;\n",
              "      height: 32px;\n",
              "      padding: 0 0 0 0;\n",
              "      width: 32px;\n",
              "    }\n",
              "\n",
              "    .colab-df-convert:hover {\n",
              "      background-color: #E2EBFA;\n",
              "      box-shadow: 0px 1px 2px rgba(60, 64, 67, 0.3), 0px 1px 3px 1px rgba(60, 64, 67, 0.15);\n",
              "      fill: #174EA6;\n",
              "    }\n",
              "\n",
              "    [theme=dark] .colab-df-convert {\n",
              "      background-color: #3B4455;\n",
              "      fill: #D2E3FC;\n",
              "    }\n",
              "\n",
              "    [theme=dark] .colab-df-convert:hover {\n",
              "      background-color: #434B5C;\n",
              "      box-shadow: 0px 1px 3px 1px rgba(0, 0, 0, 0.15);\n",
              "      filter: drop-shadow(0px 1px 2px rgba(0, 0, 0, 0.3));\n",
              "      fill: #FFFFFF;\n",
              "    }\n",
              "  </style>\n",
              "\n",
              "      <script>\n",
              "        const buttonEl =\n",
              "          document.querySelector('#df-6c9b9394-43f4-4b0f-91cd-8778460bbccc button.colab-df-convert');\n",
              "        buttonEl.style.display =\n",
              "          google.colab.kernel.accessAllowed ? 'block' : 'none';\n",
              "\n",
              "        async function convertToInteractive(key) {\n",
              "          const element = document.querySelector('#df-6c9b9394-43f4-4b0f-91cd-8778460bbccc');\n",
              "          const dataTable =\n",
              "            await google.colab.kernel.invokeFunction('convertToInteractive',\n",
              "                                                     [key], {});\n",
              "          if (!dataTable) return;\n",
              "\n",
              "          const docLinkHtml = 'Like what you see? Visit the ' +\n",
              "            '<a target=\"_blank\" href=https://colab.research.google.com/notebooks/data_table.ipynb>data table notebook</a>'\n",
              "            + ' to learn more about interactive tables.';\n",
              "          element.innerHTML = '';\n",
              "          dataTable['output_type'] = 'display_data';\n",
              "          await google.colab.output.renderOutput(dataTable, element);\n",
              "          const docLink = document.createElement('div');\n",
              "          docLink.innerHTML = docLinkHtml;\n",
              "          element.appendChild(docLink);\n",
              "        }\n",
              "      </script>\n",
              "    </div>\n",
              "  </div>\n",
              "  "
            ]
          },
          "metadata": {},
          "execution_count": 7
        }
      ]
    },
    {
      "cell_type": "code",
      "source": [
        "# Melihat kolom-kolom pada dataframe\n",
        "df.info()"
      ],
      "metadata": {
        "colab": {
          "base_uri": "https://localhost:8080/"
        },
        "id": "iCaViIgJ1W8g",
        "outputId": "236be4f6-f5cc-4391-bee0-0668ca787348"
      },
      "execution_count": null,
      "outputs": [
        {
          "output_type": "stream",
          "name": "stdout",
          "text": [
            "<class 'pandas.core.frame.DataFrame'>\n",
            "RangeIndex: 2021 entries, 0 to 2020\n",
            "Data columns (total 21 columns):\n",
            " #   Column         Non-Null Count  Dtype  \n",
            "---  ------         --------------  -----  \n",
            " 0   battery_power  2021 non-null   int64  \n",
            " 1   blue           2021 non-null   int64  \n",
            " 2   clock_speed    1920 non-null   float64\n",
            " 3   dual_sim       2021 non-null   int64  \n",
            " 4   fc             2021 non-null   int64  \n",
            " 5   four_g         2021 non-null   int64  \n",
            " 6   int_memory     1915 non-null   float64\n",
            " 7   m_dep          1928 non-null   float64\n",
            " 8   mobile_wt      2021 non-null   int64  \n",
            " 9   n_cores        2021 non-null   int64  \n",
            " 10  pc             2021 non-null   int64  \n",
            " 11  px_height      2021 non-null   int64  \n",
            " 12  px_width       2021 non-null   int64  \n",
            " 13  ram            1927 non-null   float64\n",
            " 14  sc_h           2021 non-null   int64  \n",
            " 15  sc_w           2021 non-null   int64  \n",
            " 16  talk_time      1937 non-null   float64\n",
            " 17  three_g        2021 non-null   int64  \n",
            " 18  touch_screen   1925 non-null   float64\n",
            " 19  wifi           1922 non-null   float64\n",
            " 20  price_range    2021 non-null   int64  \n",
            "dtypes: float64(7), int64(14)\n",
            "memory usage: 331.7 KB\n"
          ]
        }
      ]
    },
    {
      "cell_type": "code",
      "source": [
        "# Melihat statistik deskriptif dari masing-masing kolom numerik\n",
        "# Karena semua atribut telah diencode maka tidak ada lagi kolom kategorikal\n",
        "# Kita akan meng-exclude atribut yang sebenarnya merupakan kategorikal namun telah diubah dengan encode\n",
        "# atribut tersebut adalah ['blue', 'dual_sim', 'four_g', 'three_g', 'touch_screen', 'wifi', 'price_range']\n",
        "df_numerical = df.drop(columns=['blue', 'dual_sim', 'four_g', 'three_g', 'touch_screen', 'wifi', 'price_range'])\n",
        "df_numerical.describe()"
      ],
      "metadata": {
        "colab": {
          "base_uri": "https://localhost:8080/",
          "height": 364
        },
        "id": "JF4ePk2y1lRq",
        "outputId": "fbb65f33-038c-4645-f4c5-43c322454304"
      },
      "execution_count": null,
      "outputs": [
        {
          "output_type": "execute_result",
          "data": {
            "text/plain": [
              "       battery_power  clock_speed           fc   int_memory        m_dep  \\\n",
              "count    2021.000000  1920.000000  2021.000000  1915.000000  1928.000000   \n",
              "mean     1239.205344     1.521302     4.303810    32.086162     0.501556   \n",
              "std       439.916748     0.816020     4.330382    18.198040     0.289261   \n",
              "min       501.000000     0.500000     0.000000     2.000000     0.100000   \n",
              "25%       852.000000     0.700000     1.000000    16.000000     0.200000   \n",
              "50%      1230.000000     1.500000     3.000000    32.000000     0.500000   \n",
              "75%      1617.000000     2.200000     7.000000    48.000000     0.800000   \n",
              "max      1998.000000     3.000000    19.000000    64.000000     1.000000   \n",
              "\n",
              "         mobile_wt      n_cores           pc    px_height     px_width  \\\n",
              "count  2021.000000  2021.000000  2021.000000  2021.000000  2021.000000   \n",
              "mean    140.272143     4.532905     9.938149   646.858981  1249.240970   \n",
              "std      35.393281     2.291511     6.054671   445.159739   433.141437   \n",
              "min      80.000000     1.000000     0.000000     0.000000   500.000000   \n",
              "25%     109.000000     3.000000     5.000000   284.000000   874.000000   \n",
              "50%     141.000000     4.000000    10.000000   567.000000  1245.000000   \n",
              "75%     170.000000     7.000000    15.000000   947.000000  1633.000000   \n",
              "max     200.000000     8.000000    20.000000  1960.000000  1998.000000   \n",
              "\n",
              "               ram         sc_h         sc_w    talk_time  \n",
              "count  1927.000000  2021.000000  2021.000000  1937.000000  \n",
              "mean   2120.320187    12.323602     5.790203    11.022716  \n",
              "std    1079.774853     4.213155     4.369054     5.459042  \n",
              "min     256.000000     5.000000     0.000000     2.000000  \n",
              "25%    1210.500000     9.000000     2.000000     6.000000  \n",
              "50%    2130.000000    12.000000     5.000000    11.000000  \n",
              "75%    3033.500000    16.000000     9.000000    16.000000  \n",
              "max    3998.000000    19.000000    18.000000    20.000000  "
            ],
            "text/html": [
              "\n",
              "  <div id=\"df-42c7a1cd-7482-4780-9758-0c99eef5f200\">\n",
              "    <div class=\"colab-df-container\">\n",
              "      <div>\n",
              "<style scoped>\n",
              "    .dataframe tbody tr th:only-of-type {\n",
              "        vertical-align: middle;\n",
              "    }\n",
              "\n",
              "    .dataframe tbody tr th {\n",
              "        vertical-align: top;\n",
              "    }\n",
              "\n",
              "    .dataframe thead th {\n",
              "        text-align: right;\n",
              "    }\n",
              "</style>\n",
              "<table border=\"1\" class=\"dataframe\">\n",
              "  <thead>\n",
              "    <tr style=\"text-align: right;\">\n",
              "      <th></th>\n",
              "      <th>battery_power</th>\n",
              "      <th>clock_speed</th>\n",
              "      <th>fc</th>\n",
              "      <th>int_memory</th>\n",
              "      <th>m_dep</th>\n",
              "      <th>mobile_wt</th>\n",
              "      <th>n_cores</th>\n",
              "      <th>pc</th>\n",
              "      <th>px_height</th>\n",
              "      <th>px_width</th>\n",
              "      <th>ram</th>\n",
              "      <th>sc_h</th>\n",
              "      <th>sc_w</th>\n",
              "      <th>talk_time</th>\n",
              "    </tr>\n",
              "  </thead>\n",
              "  <tbody>\n",
              "    <tr>\n",
              "      <th>count</th>\n",
              "      <td>2021.000000</td>\n",
              "      <td>1920.000000</td>\n",
              "      <td>2021.000000</td>\n",
              "      <td>1915.000000</td>\n",
              "      <td>1928.000000</td>\n",
              "      <td>2021.000000</td>\n",
              "      <td>2021.000000</td>\n",
              "      <td>2021.000000</td>\n",
              "      <td>2021.000000</td>\n",
              "      <td>2021.000000</td>\n",
              "      <td>1927.000000</td>\n",
              "      <td>2021.000000</td>\n",
              "      <td>2021.000000</td>\n",
              "      <td>1937.000000</td>\n",
              "    </tr>\n",
              "    <tr>\n",
              "      <th>mean</th>\n",
              "      <td>1239.205344</td>\n",
              "      <td>1.521302</td>\n",
              "      <td>4.303810</td>\n",
              "      <td>32.086162</td>\n",
              "      <td>0.501556</td>\n",
              "      <td>140.272143</td>\n",
              "      <td>4.532905</td>\n",
              "      <td>9.938149</td>\n",
              "      <td>646.858981</td>\n",
              "      <td>1249.240970</td>\n",
              "      <td>2120.320187</td>\n",
              "      <td>12.323602</td>\n",
              "      <td>5.790203</td>\n",
              "      <td>11.022716</td>\n",
              "    </tr>\n",
              "    <tr>\n",
              "      <th>std</th>\n",
              "      <td>439.916748</td>\n",
              "      <td>0.816020</td>\n",
              "      <td>4.330382</td>\n",
              "      <td>18.198040</td>\n",
              "      <td>0.289261</td>\n",
              "      <td>35.393281</td>\n",
              "      <td>2.291511</td>\n",
              "      <td>6.054671</td>\n",
              "      <td>445.159739</td>\n",
              "      <td>433.141437</td>\n",
              "      <td>1079.774853</td>\n",
              "      <td>4.213155</td>\n",
              "      <td>4.369054</td>\n",
              "      <td>5.459042</td>\n",
              "    </tr>\n",
              "    <tr>\n",
              "      <th>min</th>\n",
              "      <td>501.000000</td>\n",
              "      <td>0.500000</td>\n",
              "      <td>0.000000</td>\n",
              "      <td>2.000000</td>\n",
              "      <td>0.100000</td>\n",
              "      <td>80.000000</td>\n",
              "      <td>1.000000</td>\n",
              "      <td>0.000000</td>\n",
              "      <td>0.000000</td>\n",
              "      <td>500.000000</td>\n",
              "      <td>256.000000</td>\n",
              "      <td>5.000000</td>\n",
              "      <td>0.000000</td>\n",
              "      <td>2.000000</td>\n",
              "    </tr>\n",
              "    <tr>\n",
              "      <th>25%</th>\n",
              "      <td>852.000000</td>\n",
              "      <td>0.700000</td>\n",
              "      <td>1.000000</td>\n",
              "      <td>16.000000</td>\n",
              "      <td>0.200000</td>\n",
              "      <td>109.000000</td>\n",
              "      <td>3.000000</td>\n",
              "      <td>5.000000</td>\n",
              "      <td>284.000000</td>\n",
              "      <td>874.000000</td>\n",
              "      <td>1210.500000</td>\n",
              "      <td>9.000000</td>\n",
              "      <td>2.000000</td>\n",
              "      <td>6.000000</td>\n",
              "    </tr>\n",
              "    <tr>\n",
              "      <th>50%</th>\n",
              "      <td>1230.000000</td>\n",
              "      <td>1.500000</td>\n",
              "      <td>3.000000</td>\n",
              "      <td>32.000000</td>\n",
              "      <td>0.500000</td>\n",
              "      <td>141.000000</td>\n",
              "      <td>4.000000</td>\n",
              "      <td>10.000000</td>\n",
              "      <td>567.000000</td>\n",
              "      <td>1245.000000</td>\n",
              "      <td>2130.000000</td>\n",
              "      <td>12.000000</td>\n",
              "      <td>5.000000</td>\n",
              "      <td>11.000000</td>\n",
              "    </tr>\n",
              "    <tr>\n",
              "      <th>75%</th>\n",
              "      <td>1617.000000</td>\n",
              "      <td>2.200000</td>\n",
              "      <td>7.000000</td>\n",
              "      <td>48.000000</td>\n",
              "      <td>0.800000</td>\n",
              "      <td>170.000000</td>\n",
              "      <td>7.000000</td>\n",
              "      <td>15.000000</td>\n",
              "      <td>947.000000</td>\n",
              "      <td>1633.000000</td>\n",
              "      <td>3033.500000</td>\n",
              "      <td>16.000000</td>\n",
              "      <td>9.000000</td>\n",
              "      <td>16.000000</td>\n",
              "    </tr>\n",
              "    <tr>\n",
              "      <th>max</th>\n",
              "      <td>1998.000000</td>\n",
              "      <td>3.000000</td>\n",
              "      <td>19.000000</td>\n",
              "      <td>64.000000</td>\n",
              "      <td>1.000000</td>\n",
              "      <td>200.000000</td>\n",
              "      <td>8.000000</td>\n",
              "      <td>20.000000</td>\n",
              "      <td>1960.000000</td>\n",
              "      <td>1998.000000</td>\n",
              "      <td>3998.000000</td>\n",
              "      <td>19.000000</td>\n",
              "      <td>18.000000</td>\n",
              "      <td>20.000000</td>\n",
              "    </tr>\n",
              "  </tbody>\n",
              "</table>\n",
              "</div>\n",
              "      <button class=\"colab-df-convert\" onclick=\"convertToInteractive('df-42c7a1cd-7482-4780-9758-0c99eef5f200')\"\n",
              "              title=\"Convert this dataframe to an interactive table.\"\n",
              "              style=\"display:none;\">\n",
              "        \n",
              "  <svg xmlns=\"http://www.w3.org/2000/svg\" height=\"24px\"viewBox=\"0 0 24 24\"\n",
              "       width=\"24px\">\n",
              "    <path d=\"M0 0h24v24H0V0z\" fill=\"none\"/>\n",
              "    <path d=\"M18.56 5.44l.94 2.06.94-2.06 2.06-.94-2.06-.94-.94-2.06-.94 2.06-2.06.94zm-11 1L8.5 8.5l.94-2.06 2.06-.94-2.06-.94L8.5 2.5l-.94 2.06-2.06.94zm10 10l.94 2.06.94-2.06 2.06-.94-2.06-.94-.94-2.06-.94 2.06-2.06.94z\"/><path d=\"M17.41 7.96l-1.37-1.37c-.4-.4-.92-.59-1.43-.59-.52 0-1.04.2-1.43.59L10.3 9.45l-7.72 7.72c-.78.78-.78 2.05 0 2.83L4 21.41c.39.39.9.59 1.41.59.51 0 1.02-.2 1.41-.59l7.78-7.78 2.81-2.81c.8-.78.8-2.07 0-2.86zM5.41 20L4 18.59l7.72-7.72 1.47 1.35L5.41 20z\"/>\n",
              "  </svg>\n",
              "      </button>\n",
              "      \n",
              "  <style>\n",
              "    .colab-df-container {\n",
              "      display:flex;\n",
              "      flex-wrap:wrap;\n",
              "      gap: 12px;\n",
              "    }\n",
              "\n",
              "    .colab-df-convert {\n",
              "      background-color: #E8F0FE;\n",
              "      border: none;\n",
              "      border-radius: 50%;\n",
              "      cursor: pointer;\n",
              "      display: none;\n",
              "      fill: #1967D2;\n",
              "      height: 32px;\n",
              "      padding: 0 0 0 0;\n",
              "      width: 32px;\n",
              "    }\n",
              "\n",
              "    .colab-df-convert:hover {\n",
              "      background-color: #E2EBFA;\n",
              "      box-shadow: 0px 1px 2px rgba(60, 64, 67, 0.3), 0px 1px 3px 1px rgba(60, 64, 67, 0.15);\n",
              "      fill: #174EA6;\n",
              "    }\n",
              "\n",
              "    [theme=dark] .colab-df-convert {\n",
              "      background-color: #3B4455;\n",
              "      fill: #D2E3FC;\n",
              "    }\n",
              "\n",
              "    [theme=dark] .colab-df-convert:hover {\n",
              "      background-color: #434B5C;\n",
              "      box-shadow: 0px 1px 3px 1px rgba(0, 0, 0, 0.15);\n",
              "      filter: drop-shadow(0px 1px 2px rgba(0, 0, 0, 0.3));\n",
              "      fill: #FFFFFF;\n",
              "    }\n",
              "  </style>\n",
              "\n",
              "      <script>\n",
              "        const buttonEl =\n",
              "          document.querySelector('#df-42c7a1cd-7482-4780-9758-0c99eef5f200 button.colab-df-convert');\n",
              "        buttonEl.style.display =\n",
              "          google.colab.kernel.accessAllowed ? 'block' : 'none';\n",
              "\n",
              "        async function convertToInteractive(key) {\n",
              "          const element = document.querySelector('#df-42c7a1cd-7482-4780-9758-0c99eef5f200');\n",
              "          const dataTable =\n",
              "            await google.colab.kernel.invokeFunction('convertToInteractive',\n",
              "                                                     [key], {});\n",
              "          if (!dataTable) return;\n",
              "\n",
              "          const docLinkHtml = 'Like what you see? Visit the ' +\n",
              "            '<a target=\"_blank\" href=https://colab.research.google.com/notebooks/data_table.ipynb>data table notebook</a>'\n",
              "            + ' to learn more about interactive tables.';\n",
              "          element.innerHTML = '';\n",
              "          dataTable['output_type'] = 'display_data';\n",
              "          await google.colab.output.renderOutput(dataTable, element);\n",
              "          const docLink = document.createElement('div');\n",
              "          docLink.innerHTML = docLinkHtml;\n",
              "          element.appendChild(docLink);\n",
              "        }\n",
              "      </script>\n",
              "    </div>\n",
              "  </div>\n",
              "  "
            ]
          },
          "metadata": {},
          "execution_count": 9
        }
      ]
    },
    {
      "cell_type": "code",
      "source": [
        "# Melihat statistik deskriptif atribut yang di-exclude pada sebelumnya\n",
        "def categorical_desc_statistics(column):\n",
        "  count = df[column].count()\n",
        "  unique = df[column].unique()\n",
        "  top = df[column].mode()\n",
        "  print(column)\n",
        "  print(\"count: \" + str(count))\n",
        "  print(\"unique: \" + str(unique))\n",
        "  print(\"top: \" + str(top))\n",
        "  display(df[column].value_counts())\n",
        "  print(\"\\n\")\n",
        "\n",
        "categorical_attr = ['blue', 'dual_sim', 'four_g', 'three_g', 'touch_screen', 'wifi', 'price_range']\n",
        "for i in categorical_attr:\n",
        "  categorical_desc_statistics(i)\n"
      ],
      "metadata": {
        "colab": {
          "base_uri": "https://localhost:8080/",
          "height": 1000
        },
        "id": "qoYfMno-3l1A",
        "outputId": "fde8b4c6-7549-48e0-de51-ccbcc3d5ce90"
      },
      "execution_count": null,
      "outputs": [
        {
          "output_type": "stream",
          "name": "stdout",
          "text": [
            "blue\n",
            "count: 2021\n",
            "unique: [0 1]\n",
            "top: 0    0\n",
            "dtype: int64\n"
          ]
        },
        {
          "output_type": "display_data",
          "data": {
            "text/plain": [
              "0    1026\n",
              "1     995\n",
              "Name: blue, dtype: int64"
            ]
          },
          "metadata": {}
        },
        {
          "output_type": "stream",
          "name": "stdout",
          "text": [
            "\n",
            "\n",
            "dual_sim\n",
            "count: 2021\n",
            "unique: [0 1]\n",
            "top: 0    1\n",
            "dtype: int64\n"
          ]
        },
        {
          "output_type": "display_data",
          "data": {
            "text/plain": [
              "1    1022\n",
              "0     999\n",
              "Name: dual_sim, dtype: int64"
            ]
          },
          "metadata": {}
        },
        {
          "output_type": "stream",
          "name": "stdout",
          "text": [
            "\n",
            "\n",
            "four_g\n",
            "count: 2021\n",
            "unique: [0 1]\n",
            "top: 0    1\n",
            "dtype: int64\n"
          ]
        },
        {
          "output_type": "display_data",
          "data": {
            "text/plain": [
              "1    1059\n",
              "0     962\n",
              "Name: four_g, dtype: int64"
            ]
          },
          "metadata": {}
        },
        {
          "output_type": "stream",
          "name": "stdout",
          "text": [
            "\n",
            "\n",
            "three_g\n",
            "count: 2021\n",
            "unique: [0 1]\n",
            "top: 0    1\n",
            "dtype: int64\n"
          ]
        },
        {
          "output_type": "display_data",
          "data": {
            "text/plain": [
              "1    1541\n",
              "0     480\n",
              "Name: three_g, dtype: int64"
            ]
          },
          "metadata": {}
        },
        {
          "output_type": "stream",
          "name": "stdout",
          "text": [
            "\n",
            "\n",
            "touch_screen\n",
            "count: 1925\n",
            "unique: [ 0.  1. nan]\n",
            "top: 0    1.0\n",
            "dtype: float64\n"
          ]
        },
        {
          "output_type": "display_data",
          "data": {
            "text/plain": [
              "1.0    972\n",
              "0.0    953\n",
              "Name: touch_screen, dtype: int64"
            ]
          },
          "metadata": {}
        },
        {
          "output_type": "stream",
          "name": "stdout",
          "text": [
            "\n",
            "\n",
            "wifi\n",
            "count: 1922\n",
            "unique: [ 1.  0. nan]\n",
            "top: 0    1.0\n",
            "dtype: float64\n"
          ]
        },
        {
          "output_type": "display_data",
          "data": {
            "text/plain": [
              "1.0    973\n",
              "0.0    949\n",
              "Name: wifi, dtype: int64"
            ]
          },
          "metadata": {}
        },
        {
          "output_type": "stream",
          "name": "stdout",
          "text": [
            "\n",
            "\n",
            "price_range\n",
            "count: 2021\n",
            "unique: [1 2 3 0]\n",
            "top: 0    2\n",
            "dtype: int64\n"
          ]
        },
        {
          "output_type": "display_data",
          "data": {
            "text/plain": [
              "2    513\n",
              "1    506\n",
              "3    502\n",
              "0    500\n",
              "Name: price_range, dtype: int64"
            ]
          },
          "metadata": {}
        },
        {
          "output_type": "stream",
          "name": "stdout",
          "text": [
            "\n",
            "\n"
          ]
        }
      ]
    },
    {
      "cell_type": "code",
      "source": [
        "# Menghitung jumlah missing values\n",
        "def cek_null(df):\n",
        "    col_na = df.isnull().sum().sort_values(ascending=False)\n",
        "    percent = col_na / len(df)\n",
        "\n",
        "    missing_data = pd.concat([col_na, percent], axis=1, keys=['Total', 'Percent'])\n",
        "    print(missing_data[missing_data['Total'] > 0])\n",
        "\n",
        "cek_null(df)"
      ],
      "metadata": {
        "colab": {
          "base_uri": "https://localhost:8080/"
        },
        "id": "yYaB85XV8BQ2",
        "outputId": "45b1b77a-ff8a-42f1-af7e-41e6379b3222"
      },
      "execution_count": null,
      "outputs": [
        {
          "output_type": "stream",
          "name": "stdout",
          "text": [
            "              Total   Percent\n",
            "int_memory      106  0.052449\n",
            "clock_speed     101  0.049975\n",
            "wifi             99  0.048986\n",
            "touch_screen     96  0.047501\n",
            "ram              94  0.046512\n",
            "m_dep            93  0.046017\n",
            "talk_time        84  0.041564\n"
          ]
        }
      ]
    },
    {
      "cell_type": "code",
      "source": [
        "# Menghitung jumlah duplikasi data\n",
        "df_duplicated_counts = df.duplicated().sum()\n",
        "print(\"Jumlah duplicated data adalah: \" + str(df_duplicated_counts))"
      ],
      "metadata": {
        "colab": {
          "base_uri": "https://localhost:8080/"
        },
        "id": "LGbHoZCc92xk",
        "outputId": "5e705d1e-6322-410a-810a-80953f725198"
      },
      "execution_count": null,
      "outputs": [
        {
          "output_type": "stream",
          "name": "stdout",
          "text": [
            "Jumlah duplicated data adalah: 21\n"
          ]
        }
      ]
    },
    {
      "cell_type": "code",
      "source": [
        "# Melakukan pengecekan terhadap outliers\n",
        "#cek outlier dengan boxplot\n",
        "list_tmp = []\n",
        "for cols in df.select_dtypes(np.number).columns:\n",
        "    list_tmp.append(cols)\n",
        "\n",
        "plt.figure(figsize=(15, 10))\n",
        "for i in range(len(list_tmp)):\n",
        "    plt.subplot(11, 2, i+1)\n",
        "    sns.boxplot(x=df[list_tmp[i]])\n",
        "    plt.tight_layout()"
      ],
      "metadata": {
        "colab": {
          "base_uri": "https://localhost:8080/",
          "height": 681
        },
        "id": "VYrBUqbN-grU",
        "outputId": "d9a03bb0-0f4f-4050-dc50-b5576660ab5a"
      },
      "execution_count": null,
      "outputs": [
        {
          "output_type": "display_data",
          "data": {
            "text/plain": [
              "<Figure size 1080x720 with 21 Axes>"
            ],
            "image/png": "[encoded data removed]"
          },
          "metadata": {
            "needs_background": "light"
          }
        }
      ]
    },
    {
      "cell_type": "markdown",
      "source": [
        "Dapat dilihat terdapat outliers pada fc dan px_height"
      ],
      "metadata": {
        "id": "UTGg4SKMBdju"
      }
    },
    {
      "cell_type": "markdown",
      "source": [
        "2\\. [3] Berdasarkan eksplorasi anda pada nomor 1, lakukan data preparation hingga data tersebut menurut anda cukup “clean” dan dapat memberikan hasil klasifikasi yang maksimal."
      ],
      "metadata": {
        "id": "GSDnFvDQaHsE"
      }
    },
    {
      "cell_type": "markdown",
      "source": [
        "Akan dicoba lakukan penanganan terhadap missing values, duplicated data, dan outliers."
      ],
      "metadata": {
        "id": "KNB8IYhOEH7C"
      }
    },
    {
      "cell_type": "code",
      "source": [
        "# Penanganan terhadap missing values\n",
        "# Missing values akan digantikan dengan mean\n",
        "missing_col = ['int_memory', 'clock_speed', 'wifi', 'touch_screen', 'ram', 'm_dep', 'talk_time']\n",
        "for i in missing_col:\n",
        "  df[i] = df[i].fillna(df[i].mean())\n",
        "\n",
        "cek_null(df)"
      ],
      "metadata": {
        "id": "JjVBdG3wiLvC",
        "colab": {
          "base_uri": "https://localhost:8080/"
        },
        "outputId": "9b4db41e-d8b5-42fe-d465-72a28b27cbda"
      },
      "execution_count": null,
      "outputs": [
        {
          "output_type": "stream",
          "name": "stdout",
          "text": [
            "Empty DataFrame\n",
            "Columns: [Total, Percent]\n",
            "Index: []\n"
          ]
        }
      ]
    },
    {
      "cell_type": "markdown",
      "source": [
        "Dapat dilihat sudah tidak ada lagi missing value pada dataframe tersebut."
      ],
      "metadata": {
        "id": "HFR2D3iYGDUn"
      }
    },
    {
      "cell_type": "code",
      "source": [
        "# Penanganan terhadap duplicated data\n",
        "# Karena hanya terdapat 21 data saja yang merupakan duplikasi maka data tersebut akan didrop\n",
        "df.drop_duplicates(inplace=True)\n",
        "df = df.reset_index()\n",
        "display(df)"
      ],
      "metadata": {
        "colab": {
          "base_uri": "https://localhost:8080/",
          "height": 487
        },
        "id": "waVdVAz-GbK3",
        "outputId": "97f06f25-217a-4e48-f52b-418e10764490"
      },
      "execution_count": null,
      "outputs": [
        {
          "output_type": "display_data",
          "data": {
            "text/plain": [
              "      index  battery_power  blue  clock_speed  dual_sim  fc  four_g  \\\n",
              "0         0            842     0          2.2         0   1       0   \n",
              "1         1           1021     1          0.5         1   0       1   \n",
              "2         2            563     1          0.5         1   2       1   \n",
              "3         3            615     1          2.5         0   0       0   \n",
              "4         4           1821     1          1.2         0  13       1   \n",
              "...     ...            ...   ...          ...       ...  ..     ...   \n",
              "1995   2016            794     1          0.5         1   0       1   \n",
              "1996   2017           1965     1          2.6         1   0       0   \n",
              "1997   2018           1911     0          0.9         1   1       1   \n",
              "1998   2019           1512     0          0.9         0   4       1   \n",
              "1999   2020            510     1          2.0         1   5       1   \n",
              "\n",
              "      int_memory     m_dep  mobile_wt  ...  px_height  px_width     ram  sc_h  \\\n",
              "0            7.0  0.600000        188  ...         20       756  2549.0     9   \n",
              "1           53.0  0.700000        136  ...        905      1988  2631.0    17   \n",
              "2           41.0  0.900000        145  ...       1263      1716  2603.0    11   \n",
              "3           10.0  0.800000        131  ...       1216      1786  2769.0    16   \n",
              "4           44.0  0.501556        141  ...       1208      1212  1411.0     8   \n",
              "...          ...       ...        ...  ...        ...       ...     ...   ...   \n",
              "1995         2.0  0.800000        106  ...       1222      1890   668.0    13   \n",
              "1996        39.0  0.501556        187  ...        915      1965  2032.0    11   \n",
              "1997        36.0  0.700000        108  ...        868      1632  3057.0     9   \n",
              "1998        46.0  0.501556        145  ...        336       670   869.0    18   \n",
              "1999        45.0  0.900000        168  ...        483       754  3919.0    19   \n",
              "\n",
              "      sc_w  talk_time  three_g  touch_screen  wifi  price_range  \n",
              "0        7  11.022716        0           0.0   1.0            1  \n",
              "1        3   7.000000        1           1.0   0.0            2  \n",
              "2        2   9.000000        1           1.0   0.0            2  \n",
              "3        8  11.000000        1           0.0   0.0            2  \n",
              "4        2  15.000000        1           1.0   0.0            1  \n",
              "...    ...        ...      ...           ...   ...          ...  \n",
              "1995     4  19.000000        1           1.0   0.0            0  \n",
              "1996    10  16.000000        1           1.0   1.0            2  \n",
              "1997     1   5.000000        1           1.0   0.0            3  \n",
              "1998    10  19.000000        1           1.0   1.0            0  \n",
              "1999     4   2.000000        1           1.0   1.0            3  \n",
              "\n",
              "[2000 rows x 22 columns]"
            ],
            "text/html": [
              "\n",
              "  <div id=\"df-19c40cfe-de7c-4b5e-be81-9e7dd4bd4a78\">\n",
              "    <div class=\"colab-df-container\">\n",
              "      <div>\n",
              "<style scoped>\n",
              "    .dataframe tbody tr th:only-of-type {\n",
              "        vertical-align: middle;\n",
              "    }\n",
              "\n",
              "    .dataframe tbody tr th {\n",
              "        vertical-align: top;\n",
              "    }\n",
              "\n",
              "    .dataframe thead th {\n",
              "        text-align: right;\n",
              "    }\n",
              "</style>\n",
              "<table border=\"1\" class=\"dataframe\">\n",
              "  <thead>\n",
              "    <tr style=\"text-align: right;\">\n",
              "      <th></th>\n",
              "      <th>index</th>\n",
              "      <th>battery_power</th>\n",
              "      <th>blue</th>\n",
              "      <th>clock_speed</th>\n",
              "      <th>dual_sim</th>\n",
              "      <th>fc</th>\n",
              "      <th>four_g</th>\n",
              "      <th>int_memory</th>\n",
              "      <th>m_dep</th>\n",
              "      <th>mobile_wt</th>\n",
              "      <th>...</th>\n",
              "      <th>px_height</th>\n",
              "      <th>px_width</th>\n",
              "      <th>ram</th>\n",
              "      <th>sc_h</th>\n",
              "      <th>sc_w</th>\n",
              "      <th>talk_time</th>\n",
              "      <th>three_g</th>\n",
              "      <th>touch_screen</th>\n",
              "      <th>wifi</th>\n",
              "      <th>price_range</th>\n",
              "    </tr>\n",
              "  </thead>\n",
              "  <tbody>\n",
              "    <tr>\n",
              "      <th>0</th>\n",
              "      <td>0</td>\n",
              "      <td>842</td>\n",
              "      <td>0</td>\n",
              "      <td>2.2</td>\n",
              "      <td>0</td>\n",
              "      <td>1</td>\n",
              "      <td>0</td>\n",
              "      <td>7.0</td>\n",
              "      <td>0.600000</td>\n",
              "      <td>188</td>\n",
              "      <td>...</td>\n",
              "      <td>20</td>\n",
              "      <td>756</td>\n",
              "      <td>2549.0</td>\n",
              "      <td>9</td>\n",
              "      <td>7</td>\n",
              "      <td>11.022716</td>\n",
              "      <td>0</td>\n",
              "      <td>0.0</td>\n",
              "      <td>1.0</td>\n",
              "      <td>1</td>\n",
              "    </tr>\n",
              "    <tr>\n",
              "      <th>1</th>\n",
              "      <td>1</td>\n",
              "      <td>1021</td>\n",
              "      <td>1</td>\n",
              "      <td>0.5</td>\n",
              "      <td>1</td>\n",
              "      <td>0</td>\n",
              "      <td>1</td>\n",
              "      <td>53.0</td>\n",
              "      <td>0.700000</td>\n",
              "      <td>136</td>\n",
              "      <td>...</td>\n",
              "      <td>905</td>\n",
              "      <td>1988</td>\n",
              "      <td>2631.0</td>\n",
              "      <td>17</td>\n",
              "      <td>3</td>\n",
              "      <td>7.000000</td>\n",
              "      <td>1</td>\n",
              "      <td>1.0</td>\n",
              "      <td>0.0</td>\n",
              "      <td>2</td>\n",
              "    </tr>\n",
              "    <tr>\n",
              "      <th>2</th>\n",
              "      <td>2</td>\n",
              "      <td>563</td>\n",
              "      <td>1</td>\n",
              "      <td>0.5</td>\n",
              "      <td>1</td>\n",
              "      <td>2</td>\n",
              "      <td>1</td>\n",
              "      <td>41.0</td>\n",
              "      <td>0.900000</td>\n",
              "      <td>145</td>\n",
              "      <td>...</td>\n",
              "      <td>1263</td>\n",
              "      <td>1716</td>\n",
              "      <td>2603.0</td>\n",
              "      <td>11</td>\n",
              "      <td>2</td>\n",
              "      <td>9.000000</td>\n",
              "      <td>1</td>\n",
              "      <td>1.0</td>\n",
              "      <td>0.0</td>\n",
              "      <td>2</td>\n",
              "    </tr>\n",
              "    <tr>\n",
              "      <th>3</th>\n",
              "      <td>3</td>\n",
              "      <td>615</td>\n",
              "      <td>1</td>\n",
              "      <td>2.5</td>\n",
              "      <td>0</td>\n",
              "      <td>0</td>\n",
              "      <td>0</td>\n",
              "      <td>10.0</td>\n",
              "      <td>0.800000</td>\n",
              "      <td>131</td>\n",
              "      <td>...</td>\n",
              "      <td>1216</td>\n",
              "      <td>1786</td>\n",
              "      <td>2769.0</td>\n",
              "      <td>16</td>\n",
              "      <td>8</td>\n",
              "      <td>11.000000</td>\n",
              "      <td>1</td>\n",
              "      <td>0.0</td>\n",
              "      <td>0.0</td>\n",
              "      <td>2</td>\n",
              "    </tr>\n",
              "    <tr>\n",
              "      <th>4</th>\n",
              "      <td>4</td>\n",
              "      <td>1821</td>\n",
              "      <td>1</td>\n",
              "      <td>1.2</td>\n",
              "      <td>0</td>\n",
              "      <td>13</td>\n",
              "      <td>1</td>\n",
              "      <td>44.0</td>\n",
              "      <td>0.501556</td>\n",
              "      <td>141</td>\n",
              "      <td>...</td>\n",
              "      <td>1208</td>\n",
              "      <td>1212</td>\n",
              "      <td>1411.0</td>\n",
              "      <td>8</td>\n",
              "      <td>2</td>\n",
              "      <td>15.000000</td>\n",
              "      <td>1</td>\n",
              "      <td>1.0</td>\n",
              "      <td>0.0</td>\n",
              "      <td>1</td>\n",
              "    </tr>\n",
              "    <tr>\n",
              "      <th>...</th>\n",
              "      <td>...</td>\n",
              "      <td>...</td>\n",
              "      <td>...</td>\n",
              "      <td>...</td>\n",
              "      <td>...</td>\n",
              "      <td>...</td>\n",
              "      <td>...</td>\n",
              "      <td>...</td>\n",
              "      <td>...</td>\n",
              "      <td>...</td>\n",
              "      <td>...</td>\n",
              "      <td>...</td>\n",
              "      <td>...</td>\n",
              "      <td>...</td>\n",
              "      <td>...</td>\n",
              "      <td>...</td>\n",
              "      <td>...</td>\n",
              "      <td>...</td>\n",
              "      <td>...</td>\n",
              "      <td>...</td>\n",
              "      <td>...</td>\n",
              "    </tr>\n",
              "    <tr>\n",
              "      <th>1995</th>\n",
              "      <td>2016</td>\n",
              "      <td>794</td>\n",
              "      <td>1</td>\n",
              "      <td>0.5</td>\n",
              "      <td>1</td>\n",
              "      <td>0</td>\n",
              "      <td>1</td>\n",
              "      <td>2.0</td>\n",
              "      <td>0.800000</td>\n",
              "      <td>106</td>\n",
              "      <td>...</td>\n",
              "      <td>1222</td>\n",
              "      <td>1890</td>\n",
              "      <td>668.0</td>\n",
              "      <td>13</td>\n",
              "      <td>4</td>\n",
              "      <td>19.000000</td>\n",
              "      <td>1</td>\n",
              "      <td>1.0</td>\n",
              "      <td>0.0</td>\n",
              "      <td>0</td>\n",
              "    </tr>\n",
              "    <tr>\n",
              "      <th>1996</th>\n",
              "      <td>2017</td>\n",
              "      <td>1965</td>\n",
              "      <td>1</td>\n",
              "      <td>2.6</td>\n",
              "      <td>1</td>\n",
              "      <td>0</td>\n",
              "      <td>0</td>\n",
              "      <td>39.0</td>\n",
              "      <td>0.501556</td>\n",
              "      <td>187</td>\n",
              "      <td>...</td>\n",
              "      <td>915</td>\n",
              "      <td>1965</td>\n",
              "      <td>2032.0</td>\n",
              "      <td>11</td>\n",
              "      <td>10</td>\n",
              "      <td>16.000000</td>\n",
              "      <td>1</td>\n",
              "      <td>1.0</td>\n",
              "      <td>1.0</td>\n",
              "      <td>2</td>\n",
              "    </tr>\n",
              "    <tr>\n",
              "      <th>1997</th>\n",
              "      <td>2018</td>\n",
              "      <td>1911</td>\n",
              "      <td>0</td>\n",
              "      <td>0.9</td>\n",
              "      <td>1</td>\n",
              "      <td>1</td>\n",
              "      <td>1</td>\n",
              "      <td>36.0</td>\n",
              "      <td>0.700000</td>\n",
              "      <td>108</td>\n",
              "      <td>...</td>\n",
              "      <td>868</td>\n",
              "      <td>1632</td>\n",
              "      <td>3057.0</td>\n",
              "      <td>9</td>\n",
              "      <td>1</td>\n",
              "      <td>5.000000</td>\n",
              "      <td>1</td>\n",
              "      <td>1.0</td>\n",
              "      <td>0.0</td>\n",
              "      <td>3</td>\n",
              "    </tr>\n",
              "    <tr>\n",
              "      <th>1998</th>\n",
              "      <td>2019</td>\n",
              "      <td>1512</td>\n",
              "      <td>0</td>\n",
              "      <td>0.9</td>\n",
              "      <td>0</td>\n",
              "      <td>4</td>\n",
              "      <td>1</td>\n",
              "      <td>46.0</td>\n",
              "      <td>0.501556</td>\n",
              "      <td>145</td>\n",
              "      <td>...</td>\n",
              "      <td>336</td>\n",
              "      <td>670</td>\n",
              "      <td>869.0</td>\n",
              "      <td>18</td>\n",
              "      <td>10</td>\n",
              "      <td>19.000000</td>\n",
              "      <td>1</td>\n",
              "      <td>1.0</td>\n",
              "      <td>1.0</td>\n",
              "      <td>0</td>\n",
              "    </tr>\n",
              "    <tr>\n",
              "      <th>1999</th>\n",
              "      <td>2020</td>\n",
              "      <td>510</td>\n",
              "      <td>1</td>\n",
              "      <td>2.0</td>\n",
              "      <td>1</td>\n",
              "      <td>5</td>\n",
              "      <td>1</td>\n",
              "      <td>45.0</td>\n",
              "      <td>0.900000</td>\n",
              "      <td>168</td>\n",
              "      <td>...</td>\n",
              "      <td>483</td>\n",
              "      <td>754</td>\n",
              "      <td>3919.0</td>\n",
              "      <td>19</td>\n",
              "      <td>4</td>\n",
              "      <td>2.000000</td>\n",
              "      <td>1</td>\n",
              "      <td>1.0</td>\n",
              "      <td>1.0</td>\n",
              "      <td>3</td>\n",
              "    </tr>\n",
              "  </tbody>\n",
              "</table>\n",
              "<p>2000 rows × 22 columns</p>\n",
              "</div>\n",
              "      <button class=\"colab-df-convert\" onclick=\"convertToInteractive('df-19c40cfe-de7c-4b5e-be81-9e7dd4bd4a78')\"\n",
              "              title=\"Convert this dataframe to an interactive table.\"\n",
              "              style=\"display:none;\">\n",
              "        \n",
              "  <svg xmlns=\"http://www.w3.org/2000/svg\" height=\"24px\"viewBox=\"0 0 24 24\"\n",
              "       width=\"24px\">\n",
              "    <path d=\"M0 0h24v24H0V0z\" fill=\"none\"/>\n",
              "    <path d=\"M18.56 5.44l.94 2.06.94-2.06 2.06-.94-2.06-.94-.94-2.06-.94 2.06-2.06.94zm-11 1L8.5 8.5l.94-2.06 2.06-.94-2.06-.94L8.5 2.5l-.94 2.06-2.06.94zm10 10l.94 2.06.94-2.06 2.06-.94-2.06-.94-.94-2.06-.94 2.06-2.06.94z\"/><path d=\"M17.41 7.96l-1.37-1.37c-.4-.4-.92-.59-1.43-.59-.52 0-1.04.2-1.43.59L10.3 9.45l-7.72 7.72c-.78.78-.78 2.05 0 2.83L4 21.41c.39.39.9.59 1.41.59.51 0 1.02-.2 1.41-.59l7.78-7.78 2.81-2.81c.8-.78.8-2.07 0-2.86zM5.41 20L4 18.59l7.72-7.72 1.47 1.35L5.41 20z\"/>\n",
              "  </svg>\n",
              "      </button>\n",
              "      \n",
              "  <style>\n",
              "    .colab-df-container {\n",
              "      display:flex;\n",
              "      flex-wrap:wrap;\n",
              "      gap: 12px;\n",
              "    }\n",
              "\n",
              "    .colab-df-convert {\n",
              "      background-color: #E8F0FE;\n",
              "      border: none;\n",
              "      border-radius: 50%;\n",
              "      cursor: pointer;\n",
              "      display: none;\n",
              "      fill: #1967D2;\n",
              "      height: 32px;\n",
              "      padding: 0 0 0 0;\n",
              "      width: 32px;\n",
              "    }\n",
              "\n",
              "    .colab-df-convert:hover {\n",
              "      background-color: #E2EBFA;\n",
              "      box-shadow: 0px 1px 2px rgba(60, 64, 67, 0.3), 0px 1px 3px 1px rgba(60, 64, 67, 0.15);\n",
              "      fill: #174EA6;\n",
              "    }\n",
              "\n",
              "    [theme=dark] .colab-df-convert {\n",
              "      background-color: #3B4455;\n",
              "      fill: #D2E3FC;\n",
              "    }\n",
              "\n",
              "    [theme=dark] .colab-df-convert:hover {\n",
              "      background-color: #434B5C;\n",
              "      box-shadow: 0px 1px 3px 1px rgba(0, 0, 0, 0.15);\n",
              "      filter: drop-shadow(0px 1px 2px rgba(0, 0, 0, 0.3));\n",
              "      fill: #FFFFFF;\n",
              "    }\n",
              "  </style>\n",
              "\n",
              "      <script>\n",
              "        const buttonEl =\n",
              "          document.querySelector('#df-19c40cfe-de7c-4b5e-be81-9e7dd4bd4a78 button.colab-df-convert');\n",
              "        buttonEl.style.display =\n",
              "          google.colab.kernel.accessAllowed ? 'block' : 'none';\n",
              "\n",
              "        async function convertToInteractive(key) {\n",
              "          const element = document.querySelector('#df-19c40cfe-de7c-4b5e-be81-9e7dd4bd4a78');\n",
              "          const dataTable =\n",
              "            await google.colab.kernel.invokeFunction('convertToInteractive',\n",
              "                                                     [key], {});\n",
              "          if (!dataTable) return;\n",
              "\n",
              "          const docLinkHtml = 'Like what you see? Visit the ' +\n",
              "            '<a target=\"_blank\" href=https://colab.research.google.com/notebooks/data_table.ipynb>data table notebook</a>'\n",
              "            + ' to learn more about interactive tables.';\n",
              "          element.innerHTML = '';\n",
              "          dataTable['output_type'] = 'display_data';\n",
              "          await google.colab.output.renderOutput(dataTable, element);\n",
              "          const docLink = document.createElement('div');\n",
              "          docLink.innerHTML = docLinkHtml;\n",
              "          element.appendChild(docLink);\n",
              "        }\n",
              "      </script>\n",
              "    </div>\n",
              "  </div>\n",
              "  "
            ]
          },
          "metadata": {}
        }
      ]
    },
    {
      "cell_type": "code",
      "source": [
        "df_duplicated_counts = df.duplicated().sum()\n",
        "print(\"Jumlah duplicated data adalah: \" + str(df_duplicated_counts))"
      ],
      "metadata": {
        "colab": {
          "base_uri": "https://localhost:8080/"
        },
        "id": "bztLA1MvIeVN",
        "outputId": "c3c3734d-e89f-4f16-fd01-0186cdf03da2"
      },
      "execution_count": null,
      "outputs": [
        {
          "output_type": "stream",
          "name": "stdout",
          "text": [
            "Jumlah duplicated data adalah: 0\n"
          ]
        }
      ]
    },
    {
      "cell_type": "markdown",
      "source": [
        "Semua duplicated data telah ditangani."
      ],
      "metadata": {
        "id": "cpiOE887IcON"
      }
    },
    {
      "cell_type": "code",
      "source": [
        "# Akan dilakukan penanganan terhadap outliers data\n",
        "# Dapat dilihat dari boxplot baik fc dan px_hieght memiliki persebaran data yang skewed\n",
        "# oleh karena itu akan digunakan median untuk menggantikan outliers\n",
        "def outlier_median(variable):\n",
        "  Q1 = df[variable].quantile(0.25)\n",
        "  Q3 = df[variable].quantile(0.75)\n",
        "  IQR = Q3 - Q1\n",
        "  before = ((df[variable] < (Q1 - 1.5 * IQR)) | (df[variable] > (Q3 + 1.5 * IQR))).sum()\n",
        "  # untuk mencari outliers\n",
        "  outliers = (df[variable] < (Q1 - 1.5 * IQR)) | (df[variable] > (Q3 + 1.5 * IQR)).to_frame('Outliers?')\n",
        "\n",
        "  # untuk mencari median cylindernumbers\n",
        "  # median dipilih karena jumlah outliers yang sangat besar sehingga mean tidak akan bagus\n",
        "  median = df[variable].median()\n",
        "\n",
        "  # untuk mencari index dari outliers untuk keperluan loc\n",
        "  index_outlier = outliers.index[outliers['Outliers?'] == True].tolist()\n",
        "  # mengganti nilai outliers dengan median\n",
        "  df.loc[index_outlier,variable] = median\n",
        "\n",
        "  after = ((df[variable] < (Q1 - 1.5 * IQR)) | (df[variable] > (Q3 + 1.5 * IQR))).sum()\n",
        "\n",
        "  print(variable + ' ' + str(before) + ' vs ' + str(after) )\n",
        "\n",
        "outliers_col = ['fc', 'px_height']\n",
        "for i in outliers_col:\n",
        "  outlier_median(i)\n",
        "\n"
      ],
      "metadata": {
        "colab": {
          "base_uri": "https://localhost:8080/"
        },
        "id": "KK4ALHz3IwVF",
        "outputId": "922a01c7-f6e6-44af-86a0-14b66b434c27"
      },
      "execution_count": null,
      "outputs": [
        {
          "output_type": "stream",
          "name": "stdout",
          "text": [
            "fc 18 vs 0\n",
            "px_height 2 vs 0\n"
          ]
        }
      ]
    },
    {
      "cell_type": "code",
      "source": [
        "plt.figure(figsize=(15, 10))\n",
        "for i in range(len(outliers_col)):\n",
        "    plt.subplot(11, 2, i+1)\n",
        "    sns.boxplot(x=df[outliers_col[i]])\n",
        "    plt.tight_layout()"
      ],
      "metadata": {
        "colab": {
          "base_uri": "https://localhost:8080/",
          "height": 82
        },
        "id": "5BwNpzP8Lg2K",
        "outputId": "91cd97eb-11a9-4085-a32b-03beb1d195f0"
      },
      "execution_count": null,
      "outputs": [
        {
          "output_type": "display_data",
          "data": {
            "text/plain": [
              "<Figure size 1080x720 with 2 Axes>"
            ],
            "image/png": "[encoded data removed]"
          },
          "metadata": {
            "needs_background": "light"
          }
        }
      ]
    },
    {
      "cell_type": "markdown",
      "source": [
        "3\\. [3] Menurut Anda, apakah perlu dilakukan normalisasi terhadap data, atau cukup menggunakan data asli? Jika ya, bentuk normalisasi apa yang tepat digunakan pada data? Jelaskan secara singkat alasan Anda!\n"
      ],
      "metadata": {
        "id": "1Dy5ZSFiaJ-j"
      }
    },
    {
      "cell_type": "code",
      "source": [
        "# Untuk menentukann metode normalisasi mana yang paling tepat digunakan untuk data numerik kita\n",
        "# kita perlu terlebih dahulu melihat karakteristik persebaran data kita\n",
        "df_numerical = df.drop(columns=['blue', 'dual_sim', 'four_g', 'three_g', 'touch_screen', 'wifi', 'price_range'])\n",
        "\n",
        "plt.figure(figsize=(15, 20))\n",
        "for i in range(len(df_numerical.columns)):\n",
        "    plt.subplot(11, 2, i+1)\n",
        "    sns.kdeplot(df[df_numerical.columns[i]], shade=True)\n",
        "    plt.tight_layout()"
      ],
      "metadata": {
        "id": "F8pRxs-JiNjY",
        "colab": {
          "base_uri": "https://localhost:8080/",
          "height": 1000
        },
        "outputId": "7523383f-853e-415e-d582-a641e090ad47"
      },
      "execution_count": null,
      "outputs": [
        {
          "output_type": "display_data",
          "data": {
            "text/plain": [
              "<Figure size 1080x1440 with 15 Axes>"
            ],
            "image/png": "[encoded data removed]"
          },
          "metadata": {
            "needs_background": "light"
          }
        }
      ]
    },
    {
      "cell_type": "markdown",
      "source": [
        "Jawaban:\n",
        "Metode normalisasi yang dipilih adalah min-max scaling atau yang dapat juga disebut scaling to range. Metode ini dipilih karena persebaran data kita mayoritas kurang lebih tersebar secara uniform dan outliers yang kita miliki sudah dibersihkan sehingga metode ini tepat untuk digunakan.\n",
        "\n",
        "Referensi: https://developers.google.com/machine-learning/data-prep/transform/normalization"
      ],
      "metadata": {
        "id": "8M783JrrUZsg"
      }
    },
    {
      "cell_type": "code",
      "source": [
        "scaler = MinMaxScaler()\n",
        "\n",
        "scaler.fit(df_numerical)\n",
        "df_numerical_normalized = scaler.transform(df_numerical)\n",
        "df_numerical_normalized_df = pd.DataFrame(df_numerical_normalized)\n",
        "\n",
        "# view normalized data\n",
        "display(df_numerical_normalized_df)\n",
        "print(\"\\n\")\n",
        "counter = 0\n",
        "\n",
        "for i in df_numerical.columns:\n",
        "  df[i] = df_numerical_normalized_df[counter]\n",
        "  counter+=1"
      ],
      "metadata": {
        "colab": {
          "base_uri": "https://localhost:8080/",
          "height": 524
        },
        "id": "de_3PjpBVVHE",
        "outputId": "2f56d50a-589e-4d0b-c0c4-158b089a1cc7"
      },
      "execution_count": null,
      "outputs": [
        {
          "output_type": "display_data",
          "data": {
            "text/plain": [
              "            0         1     2       3         4         5         6   \\\n",
              "0     0.000000  0.227789  0.68  0.0625  0.080645  0.555556  0.900000   \n",
              "1     0.000495  0.347361  0.00  0.0000  0.822581  0.666667  0.466667   \n",
              "2     0.000990  0.041416  0.00  0.1250  0.629032  0.888889  0.541667   \n",
              "3     0.001485  0.076152  0.80  0.0000  0.129032  0.777778  0.425000   \n",
              "4     0.001980  0.881764  0.28  0.8125  0.677419  0.446173  0.508333   \n",
              "...        ...       ...   ...     ...       ...       ...       ...   \n",
              "1995  0.998020  0.195725  0.00  0.0000  0.000000  0.777778  0.216667   \n",
              "1996  0.998515  0.977956  0.84  0.0000  0.596774  0.446173  0.891667   \n",
              "1997  0.999010  0.941884  0.16  0.0625  0.548387  0.666667  0.233333   \n",
              "1998  0.999505  0.675351  0.16  0.2500  0.709677  0.446173  0.541667   \n",
              "1999  1.000000  0.006012  0.60  0.3125  0.693548  0.888889  0.733333   \n",
              "\n",
              "            7     8         9         10        11        12        13  \\\n",
              "0     0.142857  0.10  0.010417  0.170895  0.612774  0.285714  0.388889   \n",
              "1     0.285714  0.30  0.471354  0.993324  0.634687  0.857143  0.166667   \n",
              "2     0.571429  0.30  0.657813  0.811749  0.627205  0.428571  0.111111   \n",
              "3     0.714286  0.45  0.633333  0.858478  0.671566  0.785714  0.444444   \n",
              "4     0.142857  0.70  0.629167  0.475300  0.308658  0.214286  0.111111   \n",
              "...        ...   ...       ...       ...       ...       ...       ...   \n",
              "1995  0.714286  0.70  0.636458  0.927904  0.110102  0.571429  0.222222   \n",
              "1996  0.428571  0.15  0.476562  0.977971  0.474613  0.428571  0.555556   \n",
              "1997  1.000000  0.15  0.452083  0.755674  0.748530  0.285714  0.055556   \n",
              "1998  0.571429  0.25  0.175000  0.113485  0.163816  0.928571  0.555556   \n",
              "1999  0.714286  0.80  0.251563  0.169559  0.978888  1.000000  0.222222   \n",
              "\n",
              "            14  \n",
              "0     0.501262  \n",
              "1     0.277778  \n",
              "2     0.388889  \n",
              "3     0.500000  \n",
              "4     0.722222  \n",
              "...        ...  \n",
              "1995  0.944444  \n",
              "1996  0.777778  \n",
              "1997  0.166667  \n",
              "1998  0.944444  \n",
              "1999  0.000000  \n",
              "\n",
              "[2000 rows x 15 columns]"
            ],
            "text/html": [
              "\n",
              "  <div id=\"df-043b26fa-0c9b-430d-af67-3735711a9ae3\">\n",
              "    <div class=\"colab-df-container\">\n",
              "      <div>\n",
              "<style scoped>\n",
              "    .dataframe tbody tr th:only-of-type {\n",
              "        vertical-align: middle;\n",
              "    }\n",
              "\n",
              "    .dataframe tbody tr th {\n",
              "        vertical-align: top;\n",
              "    }\n",
              "\n",
              "    .dataframe thead th {\n",
              "        text-align: right;\n",
              "    }\n",
              "</style>\n",
              "<table border=\"1\" class=\"dataframe\">\n",
              "  <thead>\n",
              "    <tr style=\"text-align: right;\">\n",
              "      <th></th>\n",
              "      <th>0</th>\n",
              "      <th>1</th>\n",
              "      <th>2</th>\n",
              "      <th>3</th>\n",
              "      <th>4</th>\n",
              "      <th>5</th>\n",
              "      <th>6</th>\n",
              "      <th>7</th>\n",
              "      <th>8</th>\n",
              "      <th>9</th>\n",
              "      <th>10</th>\n",
              "      <th>11</th>\n",
              "      <th>12</th>\n",
              "      <th>13</th>\n",
              "      <th>14</th>\n",
              "    </tr>\n",
              "  </thead>\n",
              "  <tbody>\n",
              "    <tr>\n",
              "      <th>0</th>\n",
              "      <td>0.000000</td>\n",
              "      <td>0.227789</td>\n",
              "      <td>0.68</td>\n",
              "      <td>0.0625</td>\n",
              "      <td>0.080645</td>\n",
              "      <td>0.555556</td>\n",
              "      <td>0.900000</td>\n",
              "      <td>0.142857</td>\n",
              "      <td>0.10</td>\n",
              "      <td>0.010417</td>\n",
              "      <td>0.170895</td>\n",
              "      <td>0.612774</td>\n",
              "      <td>0.285714</td>\n",
              "      <td>0.388889</td>\n",
              "      <td>0.501262</td>\n",
              "    </tr>\n",
              "    <tr>\n",
              "      <th>1</th>\n",
              "      <td>0.000495</td>\n",
              "      <td>0.347361</td>\n",
              "      <td>0.00</td>\n",
              "      <td>0.0000</td>\n",
              "      <td>0.822581</td>\n",
              "      <td>0.666667</td>\n",
              "      <td>0.466667</td>\n",
              "      <td>0.285714</td>\n",
              "      <td>0.30</td>\n",
              "      <td>0.471354</td>\n",
              "      <td>0.993324</td>\n",
              "      <td>0.634687</td>\n",
              "      <td>0.857143</td>\n",
              "      <td>0.166667</td>\n",
              "      <td>0.277778</td>\n",
              "    </tr>\n",
              "    <tr>\n",
              "      <th>2</th>\n",
              "      <td>0.000990</td>\n",
              "      <td>0.041416</td>\n",
              "      <td>0.00</td>\n",
              "      <td>0.1250</td>\n",
              "      <td>0.629032</td>\n",
              "      <td>0.888889</td>\n",
              "      <td>0.541667</td>\n",
              "      <td>0.571429</td>\n",
              "      <td>0.30</td>\n",
              "      <td>0.657813</td>\n",
              "      <td>0.811749</td>\n",
              "      <td>0.627205</td>\n",
              "      <td>0.428571</td>\n",
              "      <td>0.111111</td>\n",
              "      <td>0.388889</td>\n",
              "    </tr>\n",
              "    <tr>\n",
              "      <th>3</th>\n",
              "      <td>0.001485</td>\n",
              "      <td>0.076152</td>\n",
              "      <td>0.80</td>\n",
              "      <td>0.0000</td>\n",
              "      <td>0.129032</td>\n",
              "      <td>0.777778</td>\n",
              "      <td>0.425000</td>\n",
              "      <td>0.714286</td>\n",
              "      <td>0.45</td>\n",
              "      <td>0.633333</td>\n",
              "      <td>0.858478</td>\n",
              "      <td>0.671566</td>\n",
              "      <td>0.785714</td>\n",
              "      <td>0.444444</td>\n",
              "      <td>0.500000</td>\n",
              "    </tr>\n",
              "    <tr>\n",
              "      <th>4</th>\n",
              "      <td>0.001980</td>\n",
              "      <td>0.881764</td>\n",
              "      <td>0.28</td>\n",
              "      <td>0.8125</td>\n",
              "      <td>0.677419</td>\n",
              "      <td>0.446173</td>\n",
              "      <td>0.508333</td>\n",
              "      <td>0.142857</td>\n",
              "      <td>0.70</td>\n",
              "      <td>0.629167</td>\n",
              "      <td>0.475300</td>\n",
              "      <td>0.308658</td>\n",
              "      <td>0.214286</td>\n",
              "      <td>0.111111</td>\n",
              "      <td>0.722222</td>\n",
              "    </tr>\n",
              "    <tr>\n",
              "      <th>...</th>\n",
              "      <td>...</td>\n",
              "      <td>...</td>\n",
              "      <td>...</td>\n",
              "      <td>...</td>\n",
              "      <td>...</td>\n",
              "      <td>...</td>\n",
              "      <td>...</td>\n",
              "      <td>...</td>\n",
              "      <td>...</td>\n",
              "      <td>...</td>\n",
              "      <td>...</td>\n",
              "      <td>...</td>\n",
              "      <td>...</td>\n",
              "      <td>...</td>\n",
              "      <td>...</td>\n",
              "    </tr>\n",
              "    <tr>\n",
              "      <th>1995</th>\n",
              "      <td>0.998020</td>\n",
              "      <td>0.195725</td>\n",
              "      <td>0.00</td>\n",
              "      <td>0.0000</td>\n",
              "      <td>0.000000</td>\n",
              "      <td>0.777778</td>\n",
              "      <td>0.216667</td>\n",
              "      <td>0.714286</td>\n",
              "      <td>0.70</td>\n",
              "      <td>0.636458</td>\n",
              "      <td>0.927904</td>\n",
              "      <td>0.110102</td>\n",
              "      <td>0.571429</td>\n",
              "      <td>0.222222</td>\n",
              "      <td>0.944444</td>\n",
              "    </tr>\n",
              "    <tr>\n",
              "      <th>1996</th>\n",
              "      <td>0.998515</td>\n",
              "      <td>0.977956</td>\n",
              "      <td>0.84</td>\n",
              "      <td>0.0000</td>\n",
              "      <td>0.596774</td>\n",
              "      <td>0.446173</td>\n",
              "      <td>0.891667</td>\n",
              "      <td>0.428571</td>\n",
              "      <td>0.15</td>\n",
              "      <td>0.476562</td>\n",
              "      <td>0.977971</td>\n",
              "      <td>0.474613</td>\n",
              "      <td>0.428571</td>\n",
              "      <td>0.555556</td>\n",
              "      <td>0.777778</td>\n",
              "    </tr>\n",
              "    <tr>\n",
              "      <th>1997</th>\n",
              "      <td>0.999010</td>\n",
              "      <td>0.941884</td>\n",
              "      <td>0.16</td>\n",
              "      <td>0.0625</td>\n",
              "      <td>0.548387</td>\n",
              "      <td>0.666667</td>\n",
              "      <td>0.233333</td>\n",
              "      <td>1.000000</td>\n",
              "      <td>0.15</td>\n",
              "      <td>0.452083</td>\n",
              "      <td>0.755674</td>\n",
              "      <td>0.748530</td>\n",
              "      <td>0.285714</td>\n",
              "      <td>0.055556</td>\n",
              "      <td>0.166667</td>\n",
              "    </tr>\n",
              "    <tr>\n",
              "      <th>1998</th>\n",
              "      <td>0.999505</td>\n",
              "      <td>0.675351</td>\n",
              "      <td>0.16</td>\n",
              "      <td>0.2500</td>\n",
              "      <td>0.709677</td>\n",
              "      <td>0.446173</td>\n",
              "      <td>0.541667</td>\n",
              "      <td>0.571429</td>\n",
              "      <td>0.25</td>\n",
              "      <td>0.175000</td>\n",
              "      <td>0.113485</td>\n",
              "      <td>0.163816</td>\n",
              "      <td>0.928571</td>\n",
              "      <td>0.555556</td>\n",
              "      <td>0.944444</td>\n",
              "    </tr>\n",
              "    <tr>\n",
              "      <th>1999</th>\n",
              "      <td>1.000000</td>\n",
              "      <td>0.006012</td>\n",
              "      <td>0.60</td>\n",
              "      <td>0.3125</td>\n",
              "      <td>0.693548</td>\n",
              "      <td>0.888889</td>\n",
              "      <td>0.733333</td>\n",
              "      <td>0.714286</td>\n",
              "      <td>0.80</td>\n",
              "      <td>0.251563</td>\n",
              "      <td>0.169559</td>\n",
              "      <td>0.978888</td>\n",
              "      <td>1.000000</td>\n",
              "      <td>0.222222</td>\n",
              "      <td>0.000000</td>\n",
              "    </tr>\n",
              "  </tbody>\n",
              "</table>\n",
              "<p>2000 rows × 15 columns</p>\n",
              "</div>\n",
              "      <button class=\"colab-df-convert\" onclick=\"convertToInteractive('df-043b26fa-0c9b-430d-af67-3735711a9ae3')\"\n",
              "              title=\"Convert this dataframe to an interactive table.\"\n",
              "              style=\"display:none;\">\n",
              "        \n",
              "  <svg xmlns=\"http://www.w3.org/2000/svg\" height=\"24px\"viewBox=\"0 0 24 24\"\n",
              "       width=\"24px\">\n",
              "    <path d=\"M0 0h24v24H0V0z\" fill=\"none\"/>\n",
              "    <path d=\"M18.56 5.44l.94 2.06.94-2.06 2.06-.94-2.06-.94-.94-2.06-.94 2.06-2.06.94zm-11 1L8.5 8.5l.94-2.06 2.06-.94-2.06-.94L8.5 2.5l-.94 2.06-2.06.94zm10 10l.94 2.06.94-2.06 2.06-.94-2.06-.94-.94-2.06-.94 2.06-2.06.94z\"/><path d=\"M17.41 7.96l-1.37-1.37c-.4-.4-.92-.59-1.43-.59-.52 0-1.04.2-1.43.59L10.3 9.45l-7.72 7.72c-.78.78-.78 2.05 0 2.83L4 21.41c.39.39.9.59 1.41.59.51 0 1.02-.2 1.41-.59l7.78-7.78 2.81-2.81c.8-.78.8-2.07 0-2.86zM5.41 20L4 18.59l7.72-7.72 1.47 1.35L5.41 20z\"/>\n",
              "  </svg>\n",
              "      </button>\n",
              "      \n",
              "  <style>\n",
              "    .colab-df-container {\n",
              "      display:flex;\n",
              "      flex-wrap:wrap;\n",
              "      gap: 12px;\n",
              "    }\n",
              "\n",
              "    .colab-df-convert {\n",
              "      background-color: #E8F0FE;\n",
              "      border: none;\n",
              "      border-radius: 50%;\n",
              "      cursor: pointer;\n",
              "      display: none;\n",
              "      fill: #1967D2;\n",
              "      height: 32px;\n",
              "      padding: 0 0 0 0;\n",
              "      width: 32px;\n",
              "    }\n",
              "\n",
              "    .colab-df-convert:hover {\n",
              "      background-color: #E2EBFA;\n",
              "      box-shadow: 0px 1px 2px rgba(60, 64, 67, 0.3), 0px 1px 3px 1px rgba(60, 64, 67, 0.15);\n",
              "      fill: #174EA6;\n",
              "    }\n",
              "\n",
              "    [theme=dark] .colab-df-convert {\n",
              "      background-color: #3B4455;\n",
              "      fill: #D2E3FC;\n",
              "    }\n",
              "\n",
              "    [theme=dark] .colab-df-convert:hover {\n",
              "      background-color: #434B5C;\n",
              "      box-shadow: 0px 1px 3px 1px rgba(0, 0, 0, 0.15);\n",
              "      filter: drop-shadow(0px 1px 2px rgba(0, 0, 0, 0.3));\n",
              "      fill: #FFFFFF;\n",
              "    }\n",
              "  </style>\n",
              "\n",
              "      <script>\n",
              "        const buttonEl =\n",
              "          document.querySelector('#df-043b26fa-0c9b-430d-af67-3735711a9ae3 button.colab-df-convert');\n",
              "        buttonEl.style.display =\n",
              "          google.colab.kernel.accessAllowed ? 'block' : 'none';\n",
              "\n",
              "        async function convertToInteractive(key) {\n",
              "          const element = document.querySelector('#df-043b26fa-0c9b-430d-af67-3735711a9ae3');\n",
              "          const dataTable =\n",
              "            await google.colab.kernel.invokeFunction('convertToInteractive',\n",
              "                                                     [key], {});\n",
              "          if (!dataTable) return;\n",
              "\n",
              "          const docLinkHtml = 'Like what you see? Visit the ' +\n",
              "            '<a target=\"_blank\" href=https://colab.research.google.com/notebooks/data_table.ipynb>data table notebook</a>'\n",
              "            + ' to learn more about interactive tables.';\n",
              "          element.innerHTML = '';\n",
              "          dataTable['output_type'] = 'display_data';\n",
              "          await google.colab.output.renderOutput(dataTable, element);\n",
              "          const docLink = document.createElement('div');\n",
              "          docLink.innerHTML = docLinkHtml;\n",
              "          element.appendChild(docLink);\n",
              "        }\n",
              "      </script>\n",
              "    </div>\n",
              "  </div>\n",
              "  "
            ]
          },
          "metadata": {}
        },
        {
          "output_type": "stream",
          "name": "stdout",
          "text": [
            "\n",
            "\n"
          ]
        }
      ]
    },
    {
      "cell_type": "markdown",
      "source": [
        "Berikut adalah penampakan data setelah dilakukan normalisasi"
      ],
      "metadata": {
        "id": "CF4JEp1SYjbV"
      }
    },
    {
      "cell_type": "code",
      "source": [
        "df"
      ],
      "metadata": {
        "colab": {
          "base_uri": "https://localhost:8080/",
          "height": 487
        },
        "id": "BABU6UJrYnZG",
        "outputId": "463ac87e-9f46-4938-d9b6-87b4998257be"
      },
      "execution_count": null,
      "outputs": [
        {
          "output_type": "execute_result",
          "data": {
            "text/plain": [
              "         index  battery_power  blue  clock_speed  dual_sim      fc  four_g  \\\n",
              "0     0.000000       0.227789     0         0.68         0  0.0625       0   \n",
              "1     0.000495       0.347361     1         0.00         1  0.0000       1   \n",
              "2     0.000990       0.041416     1         0.00         1  0.1250       1   \n",
              "3     0.001485       0.076152     1         0.80         0  0.0000       0   \n",
              "4     0.001980       0.881764     1         0.28         0  0.8125       1   \n",
              "...        ...            ...   ...          ...       ...     ...     ...   \n",
              "1995  0.998020       0.195725     1         0.00         1  0.0000       1   \n",
              "1996  0.998515       0.977956     1         0.84         1  0.0000       0   \n",
              "1997  0.999010       0.941884     0         0.16         1  0.0625       1   \n",
              "1998  0.999505       0.675351     0         0.16         0  0.2500       1   \n",
              "1999  1.000000       0.006012     1         0.60         1  0.3125       1   \n",
              "\n",
              "      int_memory     m_dep  mobile_wt  ...  px_height  px_width       ram  \\\n",
              "0       0.080645  0.555556   0.900000  ...   0.010417  0.170895  0.612774   \n",
              "1       0.822581  0.666667   0.466667  ...   0.471354  0.993324  0.634687   \n",
              "2       0.629032  0.888889   0.541667  ...   0.657813  0.811749  0.627205   \n",
              "3       0.129032  0.777778   0.425000  ...   0.633333  0.858478  0.671566   \n",
              "4       0.677419  0.446173   0.508333  ...   0.629167  0.475300  0.308658   \n",
              "...          ...       ...        ...  ...        ...       ...       ...   \n",
              "1995    0.000000  0.777778   0.216667  ...   0.636458  0.927904  0.110102   \n",
              "1996    0.596774  0.446173   0.891667  ...   0.476562  0.977971  0.474613   \n",
              "1997    0.548387  0.666667   0.233333  ...   0.452083  0.755674  0.748530   \n",
              "1998    0.709677  0.446173   0.541667  ...   0.175000  0.113485  0.163816   \n",
              "1999    0.693548  0.888889   0.733333  ...   0.251563  0.169559  0.978888   \n",
              "\n",
              "          sc_h      sc_w  talk_time  three_g  touch_screen  wifi  price_range  \n",
              "0     0.285714  0.388889   0.501262        0           0.0   1.0            1  \n",
              "1     0.857143  0.166667   0.277778        1           1.0   0.0            2  \n",
              "2     0.428571  0.111111   0.388889        1           1.0   0.0            2  \n",
              "3     0.785714  0.444444   0.500000        1           0.0   0.0            2  \n",
              "4     0.214286  0.111111   0.722222        1           1.0   0.0            1  \n",
              "...        ...       ...        ...      ...           ...   ...          ...  \n",
              "1995  0.571429  0.222222   0.944444        1           1.0   0.0            0  \n",
              "1996  0.428571  0.555556   0.777778        1           1.0   1.0            2  \n",
              "1997  0.285714  0.055556   0.166667        1           1.0   0.0            3  \n",
              "1998  0.928571  0.555556   0.944444        1           1.0   1.0            0  \n",
              "1999  1.000000  0.222222   0.000000        1           1.0   1.0            3  \n",
              "\n",
              "[2000 rows x 22 columns]"
            ],
            "text/html": [
              "\n",
              "  <div id=\"df-4fe9683d-20e3-43a4-b293-5430d94b9db5\">\n",
              "    <div class=\"colab-df-container\">\n",
              "      <div>\n",
              "<style scoped>\n",
              "    .dataframe tbody tr th:only-of-type {\n",
              "        vertical-align: middle;\n",
              "    }\n",
              "\n",
              "    .dataframe tbody tr th {\n",
              "        vertical-align: top;\n",
              "    }\n",
              "\n",
              "    .dataframe thead th {\n",
              "        text-align: right;\n",
              "    }\n",
              "</style>\n",
              "<table border=\"1\" class=\"dataframe\">\n",
              "  <thead>\n",
              "    <tr style=\"text-align: right;\">\n",
              "      <th></th>\n",
              "      <th>index</th>\n",
              "      <th>battery_power</th>\n",
              "      <th>blue</th>\n",
              "      <th>clock_speed</th>\n",
              "      <th>dual_sim</th>\n",
              "      <th>fc</th>\n",
              "      <th>four_g</th>\n",
              "      <th>int_memory</th>\n",
              "      <th>m_dep</th>\n",
              "      <th>mobile_wt</th>\n",
              "      <th>...</th>\n",
              "      <th>px_height</th>\n",
              "      <th>px_width</th>\n",
              "      <th>ram</th>\n",
              "      <th>sc_h</th>\n",
              "      <th>sc_w</th>\n",
              "      <th>talk_time</th>\n",
              "      <th>three_g</th>\n",
              "      <th>touch_screen</th>\n",
              "      <th>wifi</th>\n",
              "      <th>price_range</th>\n",
              "    </tr>\n",
              "  </thead>\n",
              "  <tbody>\n",
              "    <tr>\n",
              "      <th>0</th>\n",
              "      <td>0.000000</td>\n",
              "      <td>0.227789</td>\n",
              "      <td>0</td>\n",
              "      <td>0.68</td>\n",
              "      <td>0</td>\n",
              "      <td>0.0625</td>\n",
              "      <td>0</td>\n",
              "      <td>0.080645</td>\n",
              "      <td>0.555556</td>\n",
              "      <td>0.900000</td>\n",
              "      <td>...</td>\n",
              "      <td>0.010417</td>\n",
              "      <td>0.170895</td>\n",
              "      <td>0.612774</td>\n",
              "      <td>0.285714</td>\n",
              "      <td>0.388889</td>\n",
              "      <td>0.501262</td>\n",
              "      <td>0</td>\n",
              "      <td>0.0</td>\n",
              "      <td>1.0</td>\n",
              "      <td>1</td>\n",
              "    </tr>\n",
              "    <tr>\n",
              "      <th>1</th>\n",
              "      <td>0.000495</td>\n",
              "      <td>0.347361</td>\n",
              "      <td>1</td>\n",
              "      <td>0.00</td>\n",
              "      <td>1</td>\n",
              "      <td>0.0000</td>\n",
              "      <td>1</td>\n",
              "      <td>0.822581</td>\n",
              "      <td>0.666667</td>\n",
              "      <td>0.466667</td>\n",
              "      <td>...</td>\n",
              "      <td>0.471354</td>\n",
              "      <td>0.993324</td>\n",
              "      <td>0.634687</td>\n",
              "      <td>0.857143</td>\n",
              "      <td>0.166667</td>\n",
              "      <td>0.277778</td>\n",
              "      <td>1</td>\n",
              "      <td>1.0</td>\n",
              "      <td>0.0</td>\n",
              "      <td>2</td>\n",
              "    </tr>\n",
              "    <tr>\n",
              "      <th>2</th>\n",
              "      <td>0.000990</td>\n",
              "      <td>0.041416</td>\n",
              "      <td>1</td>\n",
              "      <td>0.00</td>\n",
              "      <td>1</td>\n",
              "      <td>0.1250</td>\n",
              "      <td>1</td>\n",
              "      <td>0.629032</td>\n",
              "      <td>0.888889</td>\n",
              "      <td>0.541667</td>\n",
              "      <td>...</td>\n",
              "      <td>0.657813</td>\n",
              "      <td>0.811749</td>\n",
              "      <td>0.627205</td>\n",
              "      <td>0.428571</td>\n",
              "      <td>0.111111</td>\n",
              "      <td>0.388889</td>\n",
              "      <td>1</td>\n",
              "      <td>1.0</td>\n",
              "      <td>0.0</td>\n",
              "      <td>2</td>\n",
              "    </tr>\n",
              "    <tr>\n",
              "      <th>3</th>\n",
              "      <td>0.001485</td>\n",
              "      <td>0.076152</td>\n",
              "      <td>1</td>\n",
              "      <td>0.80</td>\n",
              "      <td>0</td>\n",
              "      <td>0.0000</td>\n",
              "      <td>0</td>\n",
              "      <td>0.129032</td>\n",
              "      <td>0.777778</td>\n",
              "      <td>0.425000</td>\n",
              "      <td>...</td>\n",
              "      <td>0.633333</td>\n",
              "      <td>0.858478</td>\n",
              "      <td>0.671566</td>\n",
              "      <td>0.785714</td>\n",
              "      <td>0.444444</td>\n",
              "      <td>0.500000</td>\n",
              "      <td>1</td>\n",
              "      <td>0.0</td>\n",
              "      <td>0.0</td>\n",
              "      <td>2</td>\n",
              "    </tr>\n",
              "    <tr>\n",
              "      <th>4</th>\n",
              "      <td>0.001980</td>\n",
              "      <td>0.881764</td>\n",
              "      <td>1</td>\n",
              "      <td>0.28</td>\n",
              "      <td>0</td>\n",
              "      <td>0.8125</td>\n",
              "      <td>1</td>\n",
              "      <td>0.677419</td>\n",
              "      <td>0.446173</td>\n",
              "      <td>0.508333</td>\n",
              "      <td>...</td>\n",
              "      <td>0.629167</td>\n",
              "      <td>0.475300</td>\n",
              "      <td>0.308658</td>\n",
              "      <td>0.214286</td>\n",
              "      <td>0.111111</td>\n",
              "      <td>0.722222</td>\n",
              "      <td>1</td>\n",
              "      <td>1.0</td>\n",
              "      <td>0.0</td>\n",
              "      <td>1</td>\n",
              "    </tr>\n",
              "    <tr>\n",
              "      <th>...</th>\n",
              "      <td>...</td>\n",
              "      <td>...</td>\n",
              "      <td>...</td>\n",
              "      <td>...</td>\n",
              "      <td>...</td>\n",
              "      <td>...</td>\n",
              "      <td>...</td>\n",
              "      <td>...</td>\n",
              "      <td>...</td>\n",
              "      <td>...</td>\n",
              "      <td>...</td>\n",
              "      <td>...</td>\n",
              "      <td>...</td>\n",
              "      <td>...</td>\n",
              "      <td>...</td>\n",
              "      <td>...</td>\n",
              "      <td>...</td>\n",
              "      <td>...</td>\n",
              "      <td>...</td>\n",
              "      <td>...</td>\n",
              "      <td>...</td>\n",
              "    </tr>\n",
              "    <tr>\n",
              "      <th>1995</th>\n",
              "      <td>0.998020</td>\n",
              "      <td>0.195725</td>\n",
              "      <td>1</td>\n",
              "      <td>0.00</td>\n",
              "      <td>1</td>\n",
              "      <td>0.0000</td>\n",
              "      <td>1</td>\n",
              "      <td>0.000000</td>\n",
              "      <td>0.777778</td>\n",
              "      <td>0.216667</td>\n",
              "      <td>...</td>\n",
              "      <td>0.636458</td>\n",
              "      <td>0.927904</td>\n",
              "      <td>0.110102</td>\n",
              "      <td>0.571429</td>\n",
              "      <td>0.222222</td>\n",
              "      <td>0.944444</td>\n",
              "      <td>1</td>\n",
              "      <td>1.0</td>\n",
              "      <td>0.0</td>\n",
              "      <td>0</td>\n",
              "    </tr>\n",
              "    <tr>\n",
              "      <th>1996</th>\n",
              "      <td>0.998515</td>\n",
              "      <td>0.977956</td>\n",
              "      <td>1</td>\n",
              "      <td>0.84</td>\n",
              "      <td>1</td>\n",
              "      <td>0.0000</td>\n",
              "      <td>0</td>\n",
              "      <td>0.596774</td>\n",
              "      <td>0.446173</td>\n",
              "      <td>0.891667</td>\n",
              "      <td>...</td>\n",
              "      <td>0.476562</td>\n",
              "      <td>0.977971</td>\n",
              "      <td>0.474613</td>\n",
              "      <td>0.428571</td>\n",
              "      <td>0.555556</td>\n",
              "      <td>0.777778</td>\n",
              "      <td>1</td>\n",
              "      <td>1.0</td>\n",
              "      <td>1.0</td>\n",
              "      <td>2</td>\n",
              "    </tr>\n",
              "    <tr>\n",
              "      <th>1997</th>\n",
              "      <td>0.999010</td>\n",
              "      <td>0.941884</td>\n",
              "      <td>0</td>\n",
              "      <td>0.16</td>\n",
              "      <td>1</td>\n",
              "      <td>0.0625</td>\n",
              "      <td>1</td>\n",
              "      <td>0.548387</td>\n",
              "      <td>0.666667</td>\n",
              "      <td>0.233333</td>\n",
              "      <td>...</td>\n",
              "      <td>0.452083</td>\n",
              "      <td>0.755674</td>\n",
              "      <td>0.748530</td>\n",
              "      <td>0.285714</td>\n",
              "      <td>0.055556</td>\n",
              "      <td>0.166667</td>\n",
              "      <td>1</td>\n",
              "      <td>1.0</td>\n",
              "      <td>0.0</td>\n",
              "      <td>3</td>\n",
              "    </tr>\n",
              "    <tr>\n",
              "      <th>1998</th>\n",
              "      <td>0.999505</td>\n",
              "      <td>0.675351</td>\n",
              "      <td>0</td>\n",
              "      <td>0.16</td>\n",
              "      <td>0</td>\n",
              "      <td>0.2500</td>\n",
              "      <td>1</td>\n",
              "      <td>0.709677</td>\n",
              "      <td>0.446173</td>\n",
              "      <td>0.541667</td>\n",
              "      <td>...</td>\n",
              "      <td>0.175000</td>\n",
              "      <td>0.113485</td>\n",
              "      <td>0.163816</td>\n",
              "      <td>0.928571</td>\n",
              "      <td>0.555556</td>\n",
              "      <td>0.944444</td>\n",
              "      <td>1</td>\n",
              "      <td>1.0</td>\n",
              "      <td>1.0</td>\n",
              "      <td>0</td>\n",
              "    </tr>\n",
              "    <tr>\n",
              "      <th>1999</th>\n",
              "      <td>1.000000</td>\n",
              "      <td>0.006012</td>\n",
              "      <td>1</td>\n",
              "      <td>0.60</td>\n",
              "      <td>1</td>\n",
              "      <td>0.3125</td>\n",
              "      <td>1</td>\n",
              "      <td>0.693548</td>\n",
              "      <td>0.888889</td>\n",
              "      <td>0.733333</td>\n",
              "      <td>...</td>\n",
              "      <td>0.251563</td>\n",
              "      <td>0.169559</td>\n",
              "      <td>0.978888</td>\n",
              "      <td>1.000000</td>\n",
              "      <td>0.222222</td>\n",
              "      <td>0.000000</td>\n",
              "      <td>1</td>\n",
              "      <td>1.0</td>\n",
              "      <td>1.0</td>\n",
              "      <td>3</td>\n",
              "    </tr>\n",
              "  </tbody>\n",
              "</table>\n",
              "<p>2000 rows × 22 columns</p>\n",
              "</div>\n",
              "      <button class=\"colab-df-convert\" onclick=\"convertToInteractive('df-4fe9683d-20e3-43a4-b293-5430d94b9db5')\"\n",
              "              title=\"Convert this dataframe to an interactive table.\"\n",
              "              style=\"display:none;\">\n",
              "        \n",
              "  <svg xmlns=\"http://www.w3.org/2000/svg\" height=\"24px\"viewBox=\"0 0 24 24\"\n",
              "       width=\"24px\">\n",
              "    <path d=\"M0 0h24v24H0V0z\" fill=\"none\"/>\n",
              "    <path d=\"M18.56 5.44l.94 2.06.94-2.06 2.06-.94-2.06-.94-.94-2.06-.94 2.06-2.06.94zm-11 1L8.5 8.5l.94-2.06 2.06-.94-2.06-.94L8.5 2.5l-.94 2.06-2.06.94zm10 10l.94 2.06.94-2.06 2.06-.94-2.06-.94-.94-2.06-.94 2.06-2.06.94z\"/><path d=\"M17.41 7.96l-1.37-1.37c-.4-.4-.92-.59-1.43-.59-.52 0-1.04.2-1.43.59L10.3 9.45l-7.72 7.72c-.78.78-.78 2.05 0 2.83L4 21.41c.39.39.9.59 1.41.59.51 0 1.02-.2 1.41-.59l7.78-7.78 2.81-2.81c.8-.78.8-2.07 0-2.86zM5.41 20L4 18.59l7.72-7.72 1.47 1.35L5.41 20z\"/>\n",
              "  </svg>\n",
              "      </button>\n",
              "      \n",
              "  <style>\n",
              "    .colab-df-container {\n",
              "      display:flex;\n",
              "      flex-wrap:wrap;\n",
              "      gap: 12px;\n",
              "    }\n",
              "\n",
              "    .colab-df-convert {\n",
              "      background-color: #E8F0FE;\n",
              "      border: none;\n",
              "      border-radius: 50%;\n",
              "      cursor: pointer;\n",
              "      display: none;\n",
              "      fill: #1967D2;\n",
              "      height: 32px;\n",
              "      padding: 0 0 0 0;\n",
              "      width: 32px;\n",
              "    }\n",
              "\n",
              "    .colab-df-convert:hover {\n",
              "      background-color: #E2EBFA;\n",
              "      box-shadow: 0px 1px 2px rgba(60, 64, 67, 0.3), 0px 1px 3px 1px rgba(60, 64, 67, 0.15);\n",
              "      fill: #174EA6;\n",
              "    }\n",
              "\n",
              "    [theme=dark] .colab-df-convert {\n",
              "      background-color: #3B4455;\n",
              "      fill: #D2E3FC;\n",
              "    }\n",
              "\n",
              "    [theme=dark] .colab-df-convert:hover {\n",
              "      background-color: #434B5C;\n",
              "      box-shadow: 0px 1px 3px 1px rgba(0, 0, 0, 0.15);\n",
              "      filter: drop-shadow(0px 1px 2px rgba(0, 0, 0, 0.3));\n",
              "      fill: #FFFFFF;\n",
              "    }\n",
              "  </style>\n",
              "\n",
              "      <script>\n",
              "        const buttonEl =\n",
              "          document.querySelector('#df-4fe9683d-20e3-43a4-b293-5430d94b9db5 button.colab-df-convert');\n",
              "        buttonEl.style.display =\n",
              "          google.colab.kernel.accessAllowed ? 'block' : 'none';\n",
              "\n",
              "        async function convertToInteractive(key) {\n",
              "          const element = document.querySelector('#df-4fe9683d-20e3-43a4-b293-5430d94b9db5');\n",
              "          const dataTable =\n",
              "            await google.colab.kernel.invokeFunction('convertToInteractive',\n",
              "                                                     [key], {});\n",
              "          if (!dataTable) return;\n",
              "\n",
              "          const docLinkHtml = 'Like what you see? Visit the ' +\n",
              "            '<a target=\"_blank\" href=https://colab.research.google.com/notebooks/data_table.ipynb>data table notebook</a>'\n",
              "            + ' to learn more about interactive tables.';\n",
              "          element.innerHTML = '';\n",
              "          dataTable['output_type'] = 'display_data';\n",
              "          await google.colab.output.renderOutput(dataTable, element);\n",
              "          const docLink = document.createElement('div');\n",
              "          docLink.innerHTML = docLinkHtml;\n",
              "          element.appendChild(docLink);\n",
              "        }\n",
              "      </script>\n",
              "    </div>\n",
              "  </div>\n",
              "  "
            ]
          },
          "metadata": {},
          "execution_count": 21
        }
      ]
    },
    {
      "cell_type": "markdown",
      "source": [
        "4\\. [10] Sebelum data diproses lebih lanjut lakukan *feature selection* dengan memilih beberapa fitur yang paling optimal untuk mengklasifikasikan label target!"
      ],
      "metadata": {
        "id": "SJSs0FIUZRrl"
      }
    },
    {
      "cell_type": "code",
      "source": [
        "# Kita akan mencari jumlah feature yang paling efektif untuk digunakan menggunakan PCA dan correlation\n",
        "# pertama bagi terlebih dahulu feature dan target\n",
        "features = df.drop(columns=['price_range'])\n",
        "target = df.drop(columns=np.array(features.columns))"
      ],
      "metadata": {
        "id": "BLmMRKH1iN8F"
      },
      "execution_count": null,
      "outputs": []
    },
    {
      "cell_type": "code",
      "source": [
        "# initialize PCA\n",
        "pca = PCA()\n",
        "\n",
        "# Fit the model with \"scaled_data\".\n",
        "pca.fit(features)\n",
        "\n",
        "trans_pca = pca.transform(features)\n",
        "\n",
        "# explained variants\n",
        "explained_variants = pca.explained_variance_ratio_\n",
        "explained_variants"
      ],
      "metadata": {
        "colab": {
          "base_uri": "https://localhost:8080/"
        },
        "id": "-SLH-iqpcbQX",
        "outputId": "45f74200-32bf-4c69-c129-f447a4ae74a7"
      },
      "execution_count": null,
      "outputs": [
        {
          "output_type": "execute_result",
          "data": {
            "text/plain": [
              "array([0.12986863, 0.09800062, 0.09368359, 0.09007081, 0.08617741,\n",
              "       0.04921764, 0.04430628, 0.0404548 , 0.03978817, 0.03771652,\n",
              "       0.0365899 , 0.03441286, 0.0334629 , 0.0321835 , 0.03183108,\n",
              "       0.03071044, 0.02859804, 0.02776013, 0.01293811, 0.01146752,\n",
              "       0.01076106])"
            ]
          },
          "metadata": {},
          "execution_count": 23
        }
      ]
    },
    {
      "cell_type": "code",
      "source": [
        "plt.plot(range(0,21), explained_variants)\n",
        "plt.ylabel('Explained Variance')\n",
        "plt.xlabel('Principal Components')\n",
        "plt.xticks(range(0,21),\n",
        "           [\"1st comp\", \"2nd comp\", \"3rd comp\", \"4th comp\", \"5th comp\", \"6th comp\",  \"7th comp\", \"8th comp\", \"9th comp\", \"10th comp\", \"11st comp\", \"12nd comp\", \"13rd comp\", \"14th comp\", \"15th comp\", \"16th comp\",  \"17th comp\", \"18th comp\", \"19th comp\", \"20th comp\", \"21th comp\"], rotation=60)\n",
        "plt.title('Explained Variance Ratio')\n",
        "plt.show()"
      ],
      "metadata": {
        "colab": {
          "base_uri": "https://localhost:8080/",
          "height": 339
        },
        "id": "VDgN_zu3dD7z",
        "outputId": "dc0e7a6a-5975-48a1-9592-e0a2a01ec1a4"
      },
      "execution_count": null,
      "outputs": [
        {
          "output_type": "display_data",
          "data": {
            "text/plain": [
              "<Figure size 432x288 with 1 Axes>"
            ],
            "image/png": "[encoded data removed]"
          },
          "metadata": {
            "needs_background": "light"
          }
        }
      ]
    },
    {
      "cell_type": "code",
      "source": [
        "df_corr = df.corr(method='pearson')"
      ],
      "metadata": {
        "id": "t_smc60uiOqA"
      },
      "execution_count": null,
      "outputs": []
    },
    {
      "cell_type": "code",
      "source": [
        "# heatmap\n",
        "f,ax = plt.subplots(figsize=(18, 18))\n",
        "sns.heatmap(df_corr, annot=True, linewidths=.5, fmt= '.3f',ax=ax)"
      ],
      "metadata": {
        "colab": {
          "base_uri": "https://localhost:8080/",
          "height": 1000
        },
        "id": "iyzMeIpEg_QO",
        "outputId": "d4459d97-cdea-4470-bf91-4a523719d0d0"
      },
      "execution_count": null,
      "outputs": [
        {
          "output_type": "execute_result",
          "data": {
            "text/plain": [
              "<matplotlib.axes._subplots.AxesSubplot at 0x7f47cfebb850>"
            ]
          },
          "metadata": {},
          "execution_count": 26
        },
        {
          "output_type": "display_data",
          "data": {
            "text/plain": [
              "<Figure size 1296x1296 with 2 Axes>"
            ],
            "image/png": "[encoded data removed]"
          },
          "metadata": {
            "needs_background": "light"
          }
        }
      ]
    },
    {
      "cell_type": "code",
      "source": [
        "# Menggunakan K Best Fit untuk cross checkt terhadap 2 cara sebelumnya\n",
        "def k_best(n):\n",
        "  selector = SelectKBest(f_classif, k=n) # kita akan memilih 2 variable terbaik dari features kita\n",
        "  X = selector.fit_transform(features, target.values.ravel())\n",
        "  input_features = selector.feature_names_in_\n",
        "  print(\"Features terbaik untuk K = \" + str(n))\n",
        "  print(selector.get_feature_names_out(input_features=input_features))\n",
        "\n",
        "for i in range(1,10):\n",
        "  k_best(i)"
      ],
      "metadata": {
        "colab": {
          "base_uri": "https://localhost:8080/"
        },
        "id": "l6T6nAR8oskW",
        "outputId": "548b6983-2fec-47dc-dcb5-eda6ad6d32c1"
      },
      "execution_count": null,
      "outputs": [
        {
          "output_type": "stream",
          "name": "stdout",
          "text": [
            "Features terbaik untuk K = 1\n",
            "['ram']\n",
            "Features terbaik untuk K = 2\n",
            "['battery_power' 'ram']\n",
            "Features terbaik untuk K = 3\n",
            "['battery_power' 'px_width' 'ram']\n",
            "Features terbaik untuk K = 4\n",
            "['battery_power' 'px_height' 'px_width' 'ram']\n",
            "Features terbaik untuk K = 5\n",
            "['battery_power' 'mobile_wt' 'px_height' 'px_width' 'ram']\n",
            "Features terbaik untuk K = 6\n",
            "['battery_power' 'int_memory' 'mobile_wt' 'px_height' 'px_width' 'ram']\n",
            "Features terbaik untuk K = 7\n",
            "['battery_power' 'int_memory' 'mobile_wt' 'n_cores' 'px_height' 'px_width'\n",
            " 'ram']\n",
            "Features terbaik untuk K = 8\n",
            "['battery_power' 'int_memory' 'mobile_wt' 'n_cores' 'px_height' 'px_width'\n",
            " 'ram' 'sc_h']\n",
            "Features terbaik untuk K = 9\n",
            "['battery_power' 'int_memory' 'mobile_wt' 'n_cores' 'px_height' 'px_width'\n",
            " 'ram' 'sc_h' 'talk_time']\n"
          ]
        }
      ]
    },
    {
      "cell_type": "markdown",
      "source": [
        "> Jawaban:\n",
        "Sesuai dengan elbow method dan tabel korelasi kita akan mengambil 4 fitur yang memiliki korelasi paling besar dengan target. Jumlah 4 tersebut dimasukkan ke fungsi K Best Fit dan didapatkan fitur berupa 'battery_power' 'px_height' 'px_width' 'ram'. Hal ini sesuai dengan tabel korelasi dimana 4 fitur tersebut lah yang memiliki korelasi paling besar.\n",
        "\n",
        ">"
      ],
      "metadata": {
        "id": "CIXT6s0CYXMr"
      }
    },
    {
      "cell_type": "markdown",
      "source": [
        "## [75] **Classification**"
      ],
      "metadata": {
        "id": "Zd_2N68bWAkj"
      }
    },
    {
      "cell_type": "markdown",
      "source": [
        "**Pada bagian ini Anda akan diminta untuk melakukan klasifikasi harga suatu mobile phone berdasarkan fitur-fitur yang sudah Anda pilih sebelumnya. Anda akan mencoba berbagai macam model klasifikasi seperti Decision Tree, Random Forest, Naive Bayes, dan K-nearest Neighbors untuk mencari model yang memiliki performa terbaik.**"
      ],
      "metadata": {
        "id": "avihHMUe3Wr5"
      }
    },
    {
      "cell_type": "markdown",
      "source": [
        "### [3] Preparation"
      ],
      "metadata": {
        "id": "0BU-UDpS_vux"
      }
    },
    {
      "cell_type": "markdown",
      "source": [
        "6\\. [3] Buatlah model K-Fold Cross Validation yang akan digunakan untuk membagi dataset train dan test menjadi beberapa bagian (*fold*). Strategi ini akan Anda gunakan pada semua *classifier* dibandingkan dengan strategi sebelumnya yang hanya membagi data ke dalam data training dan testing menggunakan method `train_test_split`."
      ],
      "metadata": {
        "id": "k0Rx9ijj1vxn"
      }
    },
    {
      "cell_type": "code",
      "source": [
        "\n",
        "kf = KFold(n_splits=5)\n",
        "X_train_list = []\n",
        "X_test_list = []\n",
        "y_train_list = []\n",
        "y_test_list = []\n",
        "features = features[['battery_power', 'px_height', 'px_width', 'ram']]\n",
        "for train_index, test_index in kf.split(features):\n",
        "  print(\"TRAIN:\", train_index, \"TEST:\", test_index)\n",
        "  X_train, X_test = features.iloc[train_index], features.iloc[test_index]\n",
        "  y_train, y_test = target.iloc[train_index], target.iloc[test_index]\n",
        "  X_train_list.append(X_train)\n",
        "  X_test_list.append(X_test)\n",
        "  y_train_list.append(y_train)\n",
        "  y_test_list.append(y_test)"
      ],
      "metadata": {
        "id": "OH_X8ztTiPNk",
        "colab": {
          "base_uri": "https://localhost:8080/"
        },
        "outputId": "87b35daa-a920-496b-c778-3251aae13fd4"
      },
      "execution_count": null,
      "outputs": [
        {
          "output_type": "stream",
          "name": "stdout",
          "text": [
            "TRAIN: [ 400  401  402 ... 1997 1998 1999] TEST: [  0   1   2   3   4   5   6   7   8   9  10  11  12  13  14  15  16  17\n",
            "  18  19  20  21  22  23  24  25  26  27  28  29  30  31  32  33  34  35\n",
            "  36  37  38  39  40  41  42  43  44  45  46  47  48  49  50  51  52  53\n",
            "  54  55  56  57  58  59  60  61  62  63  64  65  66  67  68  69  70  71\n",
            "  72  73  74  75  76  77  78  79  80  81  82  83  84  85  86  87  88  89\n",
            "  90  91  92  93  94  95  96  97  98  99 100 101 102 103 104 105 106 107\n",
            " 108 109 110 111 112 113 114 115 116 117 118 119 120 121 122 123 124 125\n",
            " 126 127 128 129 130 131 132 133 134 135 136 137 138 139 140 141 142 143\n",
            " 144 145 146 147 148 149 150 151 152 153 154 155 156 157 158 159 160 161\n",
            " 162 163 164 165 166 167 168 169 170 171 172 173 174 175 176 177 178 179\n",
            " 180 181 182 183 184 185 186 187 188 189 190 191 192 193 194 195 196 197\n",
            " 198 199 200 201 202 203 204 205 206 207 208 209 210 211 212 213 214 215\n",
            " 216 217 218 219 220 221 222 223 224 225 226 227 228 229 230 231 232 233\n",
            " 234 235 236 237 238 239 240 241 242 243 244 245 246 247 248 249 250 251\n",
            " 252 253 254 255 256 257 258 259 260 261 262 263 264 265 266 267 268 269\n",
            " 270 271 272 273 274 275 276 277 278 279 280 281 282 283 284 285 286 287\n",
            " 288 289 290 291 292 293 294 295 296 297 298 299 300 301 302 303 304 305\n",
            " 306 307 308 309 310 311 312 313 314 315 316 317 318 319 320 321 322 323\n",
            " 324 325 326 327 328 329 330 331 332 333 334 335 336 337 338 339 340 341\n",
            " 342 343 344 345 346 347 348 349 350 351 352 353 354 355 356 357 358 359\n",
            " 360 361 362 363 364 365 366 367 368 369 370 371 372 373 374 375 376 377\n",
            " 378 379 380 381 382 383 384 385 386 387 388 389 390 391 392 393 394 395\n",
            " 396 397 398 399]\n",
            "TRAIN: [   0    1    2 ... 1997 1998 1999] TEST: [400 401 402 403 404 405 406 407 408 409 410 411 412 413 414 415 416 417\n",
            " 418 419 420 421 422 423 424 425 426 427 428 429 430 431 432 433 434 435\n",
            " 436 437 438 439 440 441 442 443 444 445 446 447 448 449 450 451 452 453\n",
            " 454 455 456 457 458 459 460 461 462 463 464 465 466 467 468 469 470 471\n",
            " 472 473 474 475 476 477 478 479 480 481 482 483 484 485 486 487 488 489\n",
            " 490 491 492 493 494 495 496 497 498 499 500 501 502 503 504 505 506 507\n",
            " 508 509 510 511 512 513 514 515 516 517 518 519 520 521 522 523 524 525\n",
            " 526 527 528 529 530 531 532 533 534 535 536 537 538 539 540 541 542 543\n",
            " 544 545 546 547 548 549 550 551 552 553 554 555 556 557 558 559 560 561\n",
            " 562 563 564 565 566 567 568 569 570 571 572 573 574 575 576 577 578 579\n",
            " 580 581 582 583 584 585 586 587 588 589 590 591 592 593 594 595 596 597\n",
            " 598 599 600 601 602 603 604 605 606 607 608 609 610 611 612 613 614 615\n",
            " 616 617 618 619 620 621 622 623 624 625 626 627 628 629 630 631 632 633\n",
            " 634 635 636 637 638 639 640 641 642 643 644 645 646 647 648 649 650 651\n",
            " 652 653 654 655 656 657 658 659 660 661 662 663 664 665 666 667 668 669\n",
            " 670 671 672 673 674 675 676 677 678 679 680 681 682 683 684 685 686 687\n",
            " 688 689 690 691 692 693 694 695 696 697 698 699 700 701 702 703 704 705\n",
            " 706 707 708 709 710 711 712 713 714 715 716 717 718 719 720 721 722 723\n",
            " 724 725 726 727 728 729 730 731 732 733 734 735 736 737 738 739 740 741\n",
            " 742 743 744 745 746 747 748 749 750 751 752 753 754 755 756 757 758 759\n",
            " 760 761 762 763 764 765 766 767 768 769 770 771 772 773 774 775 776 777\n",
            " 778 779 780 781 782 783 784 785 786 787 788 789 790 791 792 793 794 795\n",
            " 796 797 798 799]\n",
            "TRAIN: [   0    1    2 ... 1997 1998 1999] TEST: [ 800  801  802  803  804  805  806  807  808  809  810  811  812  813\n",
            "  814  815  816  817  818  819  820  821  822  823  824  825  826  827\n",
            "  828  829  830  831  832  833  834  835  836  837  838  839  840  841\n",
            "  842  843  844  845  846  847  848  849  850  851  852  853  854  855\n",
            "  856  857  858  859  860  861  862  863  864  865  866  867  868  869\n",
            "  870  871  872  873  874  875  876  877  878  879  880  881  882  883\n",
            "  884  885  886  887  888  889  890  891  892  893  894  895  896  897\n",
            "  898  899  900  901  902  903  904  905  906  907  908  909  910  911\n",
            "  912  913  914  915  916  917  918  919  920  921  922  923  924  925\n",
            "  926  927  928  929  930  931  932  933  934  935  936  937  938  939\n",
            "  940  941  942  943  944  945  946  947  948  949  950  951  952  953\n",
            "  954  955  956  957  958  959  960  961  962  963  964  965  966  967\n",
            "  968  969  970  971  972  973  974  975  976  977  978  979  980  981\n",
            "  982  983  984  985  986  987  988  989  990  991  992  993  994  995\n",
            "  996  997  998  999 1000 1001 1002 1003 1004 1005 1006 1007 1008 1009\n",
            " 1010 1011 1012 1013 1014 1015 1016 1017 1018 1019 1020 1021 1022 1023\n",
            " 1024 1025 1026 1027 1028 1029 1030 1031 1032 1033 1034 1035 1036 1037\n",
            " 1038 1039 1040 1041 1042 1043 1044 1045 1046 1047 1048 1049 1050 1051\n",
            " 1052 1053 1054 1055 1056 1057 1058 1059 1060 1061 1062 1063 1064 1065\n",
            " 1066 1067 1068 1069 1070 1071 1072 1073 1074 1075 1076 1077 1078 1079\n",
            " 1080 1081 1082 1083 1084 1085 1086 1087 1088 1089 1090 1091 1092 1093\n",
            " 1094 1095 1096 1097 1098 1099 1100 1101 1102 1103 1104 1105 1106 1107\n",
            " 1108 1109 1110 1111 1112 1113 1114 1115 1116 1117 1118 1119 1120 1121\n",
            " 1122 1123 1124 1125 1126 1127 1128 1129 1130 1131 1132 1133 1134 1135\n",
            " 1136 1137 1138 1139 1140 1141 1142 1143 1144 1145 1146 1147 1148 1149\n",
            " 1150 1151 1152 1153 1154 1155 1156 1157 1158 1159 1160 1161 1162 1163\n",
            " 1164 1165 1166 1167 1168 1169 1170 1171 1172 1173 1174 1175 1176 1177\n",
            " 1178 1179 1180 1181 1182 1183 1184 1185 1186 1187 1188 1189 1190 1191\n",
            " 1192 1193 1194 1195 1196 1197 1198 1199]\n",
            "TRAIN: [   0    1    2 ... 1997 1998 1999] TEST: [1200 1201 1202 1203 1204 1205 1206 1207 1208 1209 1210 1211 1212 1213\n",
            " 1214 1215 1216 1217 1218 1219 1220 1221 1222 1223 1224 1225 1226 1227\n",
            " 1228 1229 1230 1231 1232 1233 1234 1235 1236 1237 1238 1239 1240 1241\n",
            " 1242 1243 1244 1245 1246 1247 1248 1249 1250 1251 1252 1253 1254 1255\n",
            " 1256 1257 1258 1259 1260 1261 1262 1263 1264 1265 1266 1267 1268 1269\n",
            " 1270 1271 1272 1273 1274 1275 1276 1277 1278 1279 1280 1281 1282 1283\n",
            " 1284 1285 1286 1287 1288 1289 1290 1291 1292 1293 1294 1295 1296 1297\n",
            " 1298 1299 1300 1301 1302 1303 1304 1305 1306 1307 1308 1309 1310 1311\n",
            " 1312 1313 1314 1315 1316 1317 1318 1319 1320 1321 1322 1323 1324 1325\n",
            " 1326 1327 1328 1329 1330 1331 1332 1333 1334 1335 1336 1337 1338 1339\n",
            " 1340 1341 1342 1343 1344 1345 1346 1347 1348 1349 1350 1351 1352 1353\n",
            " 1354 1355 1356 1357 1358 1359 1360 1361 1362 1363 1364 1365 1366 1367\n",
            " 1368 1369 1370 1371 1372 1373 1374 1375 1376 1377 1378 1379 1380 1381\n",
            " 1382 1383 1384 1385 1386 1387 1388 1389 1390 1391 1392 1393 1394 1395\n",
            " 1396 1397 1398 1399 1400 1401 1402 1403 1404 1405 1406 1407 1408 1409\n",
            " 1410 1411 1412 1413 1414 1415 1416 1417 1418 1419 1420 1421 1422 1423\n",
            " 1424 1425 1426 1427 1428 1429 1430 1431 1432 1433 1434 1435 1436 1437\n",
            " 1438 1439 1440 1441 1442 1443 1444 1445 1446 1447 1448 1449 1450 1451\n",
            " 1452 1453 1454 1455 1456 1457 1458 1459 1460 1461 1462 1463 1464 1465\n",
            " 1466 1467 1468 1469 1470 1471 1472 1473 1474 1475 1476 1477 1478 1479\n",
            " 1480 1481 1482 1483 1484 1485 1486 1487 1488 1489 1490 1491 1492 1493\n",
            " 1494 1495 1496 1497 1498 1499 1500 1501 1502 1503 1504 1505 1506 1507\n",
            " 1508 1509 1510 1511 1512 1513 1514 1515 1516 1517 1518 1519 1520 1521\n",
            " 1522 1523 1524 1525 1526 1527 1528 1529 1530 1531 1532 1533 1534 1535\n",
            " 1536 1537 1538 1539 1540 1541 1542 1543 1544 1545 1546 1547 1548 1549\n",
            " 1550 1551 1552 1553 1554 1555 1556 1557 1558 1559 1560 1561 1562 1563\n",
            " 1564 1565 1566 1567 1568 1569 1570 1571 1572 1573 1574 1575 1576 1577\n",
            " 1578 1579 1580 1581 1582 1583 1584 1585 1586 1587 1588 1589 1590 1591\n",
            " 1592 1593 1594 1595 1596 1597 1598 1599]\n",
            "TRAIN: [   0    1    2 ... 1597 1598 1599] TEST: [1600 1601 1602 1603 1604 1605 1606 1607 1608 1609 1610 1611 1612 1613\n",
            " 1614 1615 1616 1617 1618 1619 1620 1621 1622 1623 1624 1625 1626 1627\n",
            " 1628 1629 1630 1631 1632 1633 1634 1635 1636 1637 1638 1639 1640 1641\n",
            " 1642 1643 1644 1645 1646 1647 1648 1649 1650 1651 1652 1653 1654 1655\n",
            " 1656 1657 1658 1659 1660 1661 1662 1663 1664 1665 1666 1667 1668 1669\n",
            " 1670 1671 1672 1673 1674 1675 1676 1677 1678 1679 1680 1681 1682 1683\n",
            " 1684 1685 1686 1687 1688 1689 1690 1691 1692 1693 1694 1695 1696 1697\n",
            " 1698 1699 1700 1701 1702 1703 1704 1705 1706 1707 1708 1709 1710 1711\n",
            " 1712 1713 1714 1715 1716 1717 1718 1719 1720 1721 1722 1723 1724 1725\n",
            " 1726 1727 1728 1729 1730 1731 1732 1733 1734 1735 1736 1737 1738 1739\n",
            " 1740 1741 1742 1743 1744 1745 1746 1747 1748 1749 1750 1751 1752 1753\n",
            " 1754 1755 1756 1757 1758 1759 1760 1761 1762 1763 1764 1765 1766 1767\n",
            " 1768 1769 1770 1771 1772 1773 1774 1775 1776 1777 1778 1779 1780 1781\n",
            " 1782 1783 1784 1785 1786 1787 1788 1789 1790 1791 1792 1793 1794 1795\n",
            " 1796 1797 1798 1799 1800 1801 1802 1803 1804 1805 1806 1807 1808 1809\n",
            " 1810 1811 1812 1813 1814 1815 1816 1817 1818 1819 1820 1821 1822 1823\n",
            " 1824 1825 1826 1827 1828 1829 1830 1831 1832 1833 1834 1835 1836 1837\n",
            " 1838 1839 1840 1841 1842 1843 1844 1845 1846 1847 1848 1849 1850 1851\n",
            " 1852 1853 1854 1855 1856 1857 1858 1859 1860 1861 1862 1863 1864 1865\n",
            " 1866 1867 1868 1869 1870 1871 1872 1873 1874 1875 1876 1877 1878 1879\n",
            " 1880 1881 1882 1883 1884 1885 1886 1887 1888 1889 1890 1891 1892 1893\n",
            " 1894 1895 1896 1897 1898 1899 1900 1901 1902 1903 1904 1905 1906 1907\n",
            " 1908 1909 1910 1911 1912 1913 1914 1915 1916 1917 1918 1919 1920 1921\n",
            " 1922 1923 1924 1925 1926 1927 1928 1929 1930 1931 1932 1933 1934 1935\n",
            " 1936 1937 1938 1939 1940 1941 1942 1943 1944 1945 1946 1947 1948 1949\n",
            " 1950 1951 1952 1953 1954 1955 1956 1957 1958 1959 1960 1961 1962 1963\n",
            " 1964 1965 1966 1967 1968 1969 1970 1971 1972 1973 1974 1975 1976 1977\n",
            " 1978 1979 1980 1981 1982 1983 1984 1985 1986 1987 1988 1989 1990 1991\n",
            " 1992 1993 1994 1995 1996 1997 1998 1999]\n"
          ]
        }
      ]
    },
    {
      "cell_type": "markdown",
      "source": [
        "### [19] Decision Tree"
      ],
      "metadata": {
        "id": "9inMOAFxW3Uh"
      }
    },
    {
      "cell_type": "markdown",
      "source": [
        "7\\. [4] Implementasikan model Decision Tree tanpa konfigurasi parameter apapun, serta berikan hasil evaluasinya!"
      ],
      "metadata": {
        "id": "1mm499viX-M0"
      }
    },
    {
      "cell_type": "code",
      "source": [
        "# Melakukan training pada model decision tree\n",
        "dt_md2 = DecisionTreeClassifier()"
      ],
      "metadata": {
        "id": "yrTlpXM1iPjm"
      },
      "execution_count": null,
      "outputs": []
    },
    {
      "cell_type": "code",
      "source": [
        "# Call the metrics function\n",
        "scores = cross_validate(dt_md2, features, target, cv=kf, scoring='f1_macro')\n",
        "print(scores['test_score'])\n",
        "avg = 0\n",
        "for i in scores['test_score']:\n",
        "  avg += i\n",
        "print(\"Average score: \" + str(avg/len(scores['test_score'])))"
      ],
      "metadata": {
        "colab": {
          "base_uri": "https://localhost:8080/"
        },
        "id": "OyXIowNGzQ52",
        "outputId": "d54d59a0-acf7-48c2-c03d-571c31dd0ba0"
      },
      "execution_count": null,
      "outputs": [
        {
          "output_type": "stream",
          "name": "stdout",
          "text": [
            "[0.81093532 0.83625805 0.84212675 0.85730803 0.82544381]\n",
            "Average score: 0.8344143910804072\n"
          ]
        }
      ]
    },
    {
      "cell_type": "markdown",
      "source": [
        "8\\. [4] Implementasikan model Decision Tree dengan memberikan parameter nilai `min_samples_leaf=50`; serta berikan hasil evaluasinya!"
      ],
      "metadata": {
        "id": "xv7Fru2ebkZb"
      }
    },
    {
      "cell_type": "code",
      "source": [
        "# Melakukan training pada model decision tree\n",
        "dt_md3 = DecisionTreeClassifier(min_samples_leaf=50)"
      ],
      "metadata": {
        "id": "7Ll1nIE2iP6A"
      },
      "execution_count": null,
      "outputs": []
    },
    {
      "cell_type": "code",
      "source": [
        "# Call the metrics function\n",
        "scores = cross_validate(dt_md3, features, target, cv=kf, scoring='f1_macro')\n",
        "print(scores['test_score'])\n",
        "avg = 0\n",
        "for i in scores['test_score']:\n",
        "  avg += i\n",
        "print(\"Average score: \" + str(avg/len(scores['test_score'])))"
      ],
      "metadata": {
        "colab": {
          "base_uri": "https://localhost:8080/"
        },
        "id": "la_WV9Fe0h4W",
        "outputId": "b577c024-d45c-4f5e-d1b1-5cf2d8d72061"
      },
      "execution_count": null,
      "outputs": [
        {
          "output_type": "stream",
          "name": "stdout",
          "text": [
            "[0.8010932  0.74495394 0.78710076 0.7605225  0.75688551]\n",
            "Average score: 0.770111183261947\n"
          ]
        }
      ]
    },
    {
      "cell_type": "markdown",
      "source": [
        "9\\. [6] Bandingkan model yang dibuat pada soal nomor 7 dan nomor 8, manakah yang lebih baik? Berikan analisis Anda terkait bagaimana hubungan perubahan parameter tersebut dengan kualitas hasil klasifikasi!"
      ],
      "metadata": {
        "id": "q90rtM8MdnGU"
      }
    },
    {
      "cell_type": "markdown",
      "source": [
        "> Jawaban:\n",
        "Yang nomor 7 lebih baik, karena pada model itu berarti sample leaf yang terbentuk bisa jadi kurang dari 50 sehingga ketika diberikan parameter min leaf 50 maka tree yang terbuat terpaksa mengikuti persyaratan tersebut. Contohnya ketika tidak dibatasi oleh `min_samples_leaf` = 50 model kita dapat terus membagi data yang dimilikinya. Sementara ketika sudah diberikan parameter `min_samples_leaf` = 50 maka semisalnya model kita sedang memiliki 99 data pada suatu internal node, maka pembelahannya sudah akan terhenti disitu karena parameter tersebut mewajibkan leaf untuk memiliki 50 data sehingga minimal jika terbagi menjadi 2 leaf sebuah internal node harus memiliki 100 data. Atau bahkan ketika sebuah internal node memiliki 100 data namun terbagi menjadi 60-40 maka pembagian tersebut akan digagalkan karena 40 tidak memenuhi parameter `min_samples_leaf`=50\n",
        "\n",
        ">"
      ],
      "metadata": {
        "id": "oikaDKV0dnGV"
      }
    },
    {
      "cell_type": "markdown",
      "source": [
        "10\\. [5] Buatlah model yang memiliki performa yang lebih bagus dibanding kedua model sebelumnya! Anda dibebaskan untuk melakukan eksplorasi dalam mengkonfigurasi parameter yang dipakai."
      ],
      "metadata": {
        "id": "H3811o_r3W2T"
      }
    },
    {
      "cell_type": "code",
      "source": [
        "param_grid = {'criterion': ['gini', 'entropy'],\n",
        "               'min_samples_split': [2, 5, 20, 50],\n",
        "               'max_depth' : [5, 10, 12, None, 20, 30],\n",
        "              'min_samples_leaf' : [1, 5, 20, 50]}\n",
        "\n",
        "dt = DecisionTreeClassifier()\n",
        "\n",
        "clf2 = GridSearchCV(estimator= dt,\n",
        "                   param_grid=param_grid, cv= kf)\n",
        "\n",
        "clf2.fit(X_train, y_train.values.ravel())"
      ],
      "metadata": {
        "colab": {
          "base_uri": "https://localhost:8080/"
        },
        "id": "0EQXI9IWjJdp",
        "outputId": "47cc39fe-a361-4733-c36e-6dbc705afea6"
      },
      "execution_count": null,
      "outputs": [
        {
          "output_type": "execute_result",
          "data": {
            "text/plain": [
              "GridSearchCV(cv=KFold(n_splits=5, random_state=None, shuffle=False),\n",
              "             estimator=DecisionTreeClassifier(),\n",
              "             param_grid={'criterion': ['gini', 'entropy'],\n",
              "                         'max_depth': [5, 10, 12, None, 20, 30],\n",
              "                         'min_samples_leaf': [1, 5, 20, 50],\n",
              "                         'min_samples_split': [2, 5, 20, 50]})"
            ]
          },
          "metadata": {},
          "execution_count": 56
        }
      ]
    },
    {
      "cell_type": "code",
      "source": [
        "clf2.best_params_"
      ],
      "metadata": {
        "colab": {
          "base_uri": "https://localhost:8080/"
        },
        "id": "E0U8mq_fy6lR",
        "outputId": "dca51d7c-e8f5-40e2-945c-6206d4096618"
      },
      "execution_count": null,
      "outputs": [
        {
          "output_type": "execute_result",
          "data": {
            "text/plain": [
              "{'criterion': 'entropy',\n",
              " 'max_depth': None,\n",
              " 'min_samples_leaf': 1,\n",
              " 'min_samples_split': 2}"
            ]
          },
          "metadata": {},
          "execution_count": 57
        }
      ]
    },
    {
      "cell_type": "code",
      "source": [
        "# Melakukan training pada model decision tree\n",
        "dt = DecisionTreeClassifier(criterion='entropy', max_depth=None, min_samples_leaf=1, min_samples_split=2, random_state=42)"
      ],
      "metadata": {
        "id": "fAjKvo8yiRQB"
      },
      "execution_count": null,
      "outputs": []
    },
    {
      "cell_type": "code",
      "source": [
        "# Call the metrics function\n",
        "scores = cross_validate(dt, features, target, cv=kf, scoring='f1_macro')\n",
        "print(scores['test_score'])\n",
        "avg = 0\n",
        "for i in scores['test_score']:\n",
        "  avg += i\n",
        "print(\"Average score: \" + str(avg/len(scores['test_score'])))"
      ],
      "metadata": {
        "colab": {
          "base_uri": "https://localhost:8080/"
        },
        "id": "ns5JT8oPanO5",
        "outputId": "58912baa-8ed7-444b-e521-5a456455617d"
      },
      "execution_count": null,
      "outputs": [
        {
          "output_type": "stream",
          "name": "stdout",
          "text": [
            "[0.83919181 0.83183422 0.84396971 0.83188594 0.82716315]\n",
            "Average score: 0.8348089668415177\n"
          ]
        }
      ]
    },
    {
      "cell_type": "markdown",
      "source": [
        "### [18] Random Forest"
      ],
      "metadata": {
        "id": "4Qzu0GmLXLF8"
      }
    },
    {
      "cell_type": "markdown",
      "source": [
        "11\\. [4] Implementasikan model Random Forest tanpa konfigurasi parameter apapun, serta berikan hasil evaluasinya!"
      ],
      "metadata": {
        "id": "XX-Fw5IKuGW1"
      }
    },
    {
      "cell_type": "code",
      "source": [
        "# Melakukan training pada model random forest\n",
        "rf_md = RandomForestClassifier()"
      ],
      "metadata": {
        "id": "7bdchBYiiR36"
      },
      "execution_count": null,
      "outputs": []
    },
    {
      "cell_type": "code",
      "source": [
        "# Call the metrics function\n",
        "scores = cross_validate(rf_md, features, target.values.ravel(), cv=kf, scoring='f1_macro')\n",
        "print(scores['test_score'])\n",
        "avg = 0\n",
        "for i in scores['test_score']:\n",
        "  avg += i\n",
        "print(\"Average score: \" + str(avg/len(scores['test_score'])))"
      ],
      "metadata": {
        "colab": {
          "base_uri": "https://localhost:8080/"
        },
        "id": "sS1s2WmUeIOr",
        "outputId": "992d5546-7de4-4add-f4a3-f2fc6be232c4"
      },
      "execution_count": null,
      "outputs": [
        {
          "output_type": "stream",
          "name": "stdout",
          "text": [
            "[0.88820847 0.87741329 0.86776484 0.86836731 0.86701107]\n",
            "Average score: 0.8737529964001576\n"
          ]
        }
      ]
    },
    {
      "cell_type": "markdown",
      "source": [
        "12\\. [8] Implementasikan model Random Forest dengan parameter yang didapatkan dari hasil Hyperparameter Tuning, serta berikan hasil evaluasinya!"
      ],
      "metadata": {
        "id": "xtJr-aswuQpO"
      }
    },
    {
      "cell_type": "code",
      "source": [
        "from sklearn.model_selection import GridSearchCV\n",
        "param_grid = {'n_estimators': [10, 50, 60, 100],\n",
        "              'criterion': ['gini', 'entropy'],\n",
        "               'min_samples_split': [2, 5, 20, 50],\n",
        "               'max_depth' : [5, 10, 12, None],\n",
        "              'min_samples_leaf' : [1, 5, 20, 50]}\n",
        "\n",
        "rf = RandomForestClassifier()\n",
        "\n",
        "clf = GridSearchCV(estimator= rf,\n",
        "                   param_grid=param_grid, cv= kf)\n",
        "\n",
        "clf.fit(X_train, y_train.values.ravel())"
      ],
      "metadata": {
        "id": "5HFjrTD2iSnU",
        "colab": {
          "base_uri": "https://localhost:8080/"
        },
        "outputId": "0e0a52d3-d0b5-4e36-bb9e-e326b05eb657"
      },
      "execution_count": null,
      "outputs": [
        {
          "output_type": "execute_result",
          "data": {
            "text/plain": [
              "GridSearchCV(cv=KFold(n_splits=5, random_state=None, shuffle=False),\n",
              "             estimator=RandomForestClassifier(),\n",
              "             param_grid={'criterion': ['gini', 'entropy'],\n",
              "                         'max_depth': [5, 10, 12, None],\n",
              "                         'min_samples_leaf': [1, 5, 20, 50],\n",
              "                         'min_samples_split': [2, 5, 20, 50],\n",
              "                         'n_estimators': [10, 50, 60, 100]})"
            ]
          },
          "metadata": {},
          "execution_count": 42
        }
      ]
    },
    {
      "cell_type": "code",
      "source": [
        "clf.best_params_"
      ],
      "metadata": {
        "colab": {
          "base_uri": "https://localhost:8080/"
        },
        "id": "fusv2aUFkVJv",
        "outputId": "139759e8-38fc-4ada-8ce2-738247385394"
      },
      "execution_count": null,
      "outputs": [
        {
          "output_type": "execute_result",
          "data": {
            "text/plain": [
              "{'criterion': 'entropy',\n",
              " 'max_depth': 12,\n",
              " 'min_samples_leaf': 1,\n",
              " 'min_samples_split': 5,\n",
              " 'n_estimators': 100}"
            ]
          },
          "metadata": {},
          "execution_count": 43
        }
      ]
    },
    {
      "cell_type": "code",
      "source": [
        "rf_md2 = RandomForestClassifier(criterion='entropy', max_depth=12, min_samples_leaf=1, min_samples_split=2, n_estimators=50, random_state=42)\n"
      ],
      "metadata": {
        "id": "IuRKa-cnkY4h"
      },
      "execution_count": null,
      "outputs": []
    },
    {
      "cell_type": "code",
      "source": [
        "# Call the metrics function\n",
        "scores = cross_validate(rf_md2, features, target.values.ravel(), cv=kf, scoring='f1_macro')\n",
        "print(scores['test_score'])\n",
        "avg = 0\n",
        "for i in scores['test_score']:\n",
        "  avg += i\n",
        "print(\"Average score: \" + str(avg/len(scores['test_score'])))"
      ],
      "metadata": {
        "colab": {
          "base_uri": "https://localhost:8080/"
        },
        "id": "3KufLvU7kr8S",
        "outputId": "1da83e1b-bd0e-4395-b3ae-c817e5a5d9a1"
      },
      "execution_count": null,
      "outputs": [
        {
          "output_type": "stream",
          "name": "stdout",
          "text": [
            "[0.89258009 0.8720712  0.86281504 0.87958023 0.86134537]\n",
            "Average score: 0.8736783866971607\n"
          ]
        }
      ]
    },
    {
      "cell_type": "markdown",
      "source": [
        "13\\. [6] Bandingkan model yang dibuat pada soal nomor 11 dan nomor 12, manakah yang lebih baik? Berikan analisis Anda terkait bagaimana hubungan perubahan parameter tersebut dengan kualitas hasil klasifikasi!"
      ],
      "metadata": {
        "id": "m9q2bUyML9IO"
      }
    },
    {
      "cell_type": "markdown",
      "source": [
        "> Jawaban: Skor yang didapatkan setelah melakukan hyperparameter tuning menjadi sedikit lebih baik. Hal ini dikarenakan model tanpa parameter apapun akan memasukkan nilai default untuk setiap parameternya, sementara ketika dilakukan GridSearchCV kita mencoba-coba berbagai nilai pada setiap parameter termasuk nilai defaultnya. Setelah selesai dilakukan ditemukan bahwa nilai default bukanlah nilai yang terbaik untuk beberapa parameter.\n",
        "\n",
        ">\n"
      ],
      "metadata": {
        "id": "-Z8ISug7fR7X"
      }
    },
    {
      "cell_type": "markdown",
      "source": [
        "### [16] Naive Bayes"
      ],
      "metadata": {
        "id": "GYjdBnEGXLSt"
      }
    },
    {
      "cell_type": "markdown",
      "source": [
        "14\\. [4] Implementasikan model dari salah satu variasi Naive Bayes; serta berikan hasil evaluasinya!"
      ],
      "metadata": {
        "id": "Ye29g1MxZC8X"
      }
    },
    {
      "cell_type": "code",
      "source": [
        "# Mengaktifkan/memanggil/membuat fungsi klasifikasi Naive Bayes\n",
        "modelnb = GaussianNB()"
      ],
      "metadata": {
        "id": "ekaf-eMsiTZ_"
      },
      "execution_count": null,
      "outputs": []
    },
    {
      "cell_type": "code",
      "source": [
        "# Call the metrics function\n",
        "scores = cross_validate(modelnb, features, target.values.ravel(), cv=kf, scoring='f1_macro')\n",
        "print(scores['test_score'])\n",
        "avg = 0\n",
        "for i in scores['test_score']:\n",
        "  avg += i\n",
        "print(\"Average score: \" + str(avg/len(scores['test_score'])))"
      ],
      "metadata": {
        "colab": {
          "base_uri": "https://localhost:8080/"
        },
        "id": "gQv3ZXzk6Szm",
        "outputId": "99fc85b0-e37a-4800-da8a-4cd384485d42"
      },
      "execution_count": null,
      "outputs": [
        {
          "output_type": "stream",
          "name": "stdout",
          "text": [
            "[0.79213784 0.75203646 0.78571198 0.79602883 0.76348437]\n",
            "Average score: 0.7778798959718598\n"
          ]
        }
      ]
    },
    {
      "cell_type": "markdown",
      "source": [
        "15\\. [6] Apa alasan dan pertimbangan Anda dalam memilih variasi tersebut dibandingkan variasi Naive Bayes lainnya?"
      ],
      "metadata": {
        "id": "xsWO4hMrjuAe"
      }
    },
    {
      "cell_type": "markdown",
      "source": [
        "> Jawaban: Gaussian Naive Bayes dipilih karena tipe data dari features yang kita sedang gunakan sekarang adalah kontinu. Sementara tipe naive bayes lainnya lebih cocok digunakan untuk tipe data diskret dan kategorikal.\n",
        "\n",
        "---\n",
        "\n",
        "\n",
        "\n",
        ">"
      ],
      "metadata": {
        "id": "ouWhbqaHiZd4"
      }
    },
    {
      "cell_type": "markdown",
      "source": [
        "16\\. [6] Masing-masing variasi Naive Bayes dibuat khusus untuk menyesuaikan tipe data tertentu pada data yang digunakan. Jika data yang ada memiliki tipe fitur yang bervariasi (numerik, biner, kategorik, dll), apakah kita bisa menggunakan salah satu variasi algoritma saja? Bagaimana strategi Anda dalam menganani kasus tersebut?"
      ],
      "metadata": {
        "id": "VsSeCbX4F47y"
      }
    },
    {
      "cell_type": "markdown",
      "source": [
        "> Jawaban: Memang sepertinya kita hanya bisa menggunakan satu variasi model saja untuk sebuah data, termasuk juga Naive Bayes dimana artinya kita tidak bisa menggunakan banyak tipe Naive Bayes sesuai dengan tipe data yang ada pada satu fitur. Kita tetap diharuskan untuk memilih sebuah variasi Naive Bayes yang menurut kita paling cocok untuk semua fitur yang ada. Cara yang mungkin bisa kita lakukan untuk menangani hal ini adalah mengubah tipe data yang ada pada fitur kita agar lebih sesuai dengan tipe Naive Bayes yang kita pilih.\n",
        "\n",
        ">"
      ],
      "metadata": {
        "id": "Ke7dIWhXGctn"
      }
    },
    {
      "cell_type": "markdown",
      "source": [
        "### [12] K-nearest Neighbors"
      ],
      "metadata": {
        "id": "fgcOGrgNXLOb"
      }
    },
    {
      "cell_type": "markdown",
      "source": [
        "17\\. [4] Implementasikan model KNN dengan memberikan parameter nilai `n_neighbors=3`; serta berikan hasil evaluasinya!"
      ],
      "metadata": {
        "id": "t8rTVurcyq6H"
      }
    },
    {
      "cell_type": "code",
      "source": [
        "# Mengaktifkan/memanggil/membuat fungsi klasifikasi KNN\n",
        "KNN = KNeighborsClassifier(n_neighbors=3)"
      ],
      "metadata": {
        "id": "iBgt6hlliUKa"
      },
      "execution_count": null,
      "outputs": []
    },
    {
      "cell_type": "code",
      "source": [
        "# Call the metrics function\n",
        "scores = cross_validate(KNN, features, target.values.ravel(), cv=kf, scoring='f1_macro')\n",
        "print(scores['test_score'])\n",
        "avg = 0\n",
        "for i in scores['test_score']:\n",
        "  avg += i\n",
        "print(\"Average score: \" + str(avg/len(scores['test_score'])))"
      ],
      "metadata": {
        "colab": {
          "base_uri": "https://localhost:8080/"
        },
        "id": "vMNowHiH8ho7",
        "outputId": "6a225f83-8a37-45c3-ff73-a70aaf87bb56"
      },
      "execution_count": null,
      "outputs": [
        {
          "output_type": "stream",
          "name": "stdout",
          "text": [
            "[0.82789785 0.84287744 0.83293003 0.850651   0.84173889]\n",
            "Average score: 0.8392190398971264\n"
          ]
        }
      ]
    },
    {
      "cell_type": "markdown",
      "source": [
        "18\\. [8] Implementasikan model KNN dengan parameter yang didapatkan dari hasil Hyperparameter Tuning, serta berikan hasil evaluasinya!"
      ],
      "metadata": {
        "id": "Uqj3bKgDzP71"
      }
    },
    {
      "cell_type": "code",
      "source": [
        "param_grid = {'n_neighbors': [5, 8, 10, 15],\n",
        "              'weights': ['uniform', 'distance'],\n",
        "               'algorithm': ['auto', 'ball_tree', 'kd_tree', 'brute'],\n",
        "               'leaf_size' : [10, 30, 50, 80, 100],\n",
        "              'n_jobs' : [None, 1, 5, 10, 20]}\n",
        "\n",
        "knn_2 = KNeighborsClassifier()\n",
        "\n",
        "clf = GridSearchCV(estimator= knn_2,\n",
        "                   param_grid=param_grid, cv= kf)\n",
        "\n",
        "clf.fit(X_train, y_train.values.ravel())"
      ],
      "metadata": {
        "id": "XnxRKOjJiUga",
        "colab": {
          "base_uri": "https://localhost:8080/"
        },
        "outputId": "ebb0cd65-bdcb-4338-8f7a-c1de589ea7b8"
      },
      "execution_count": null,
      "outputs": [
        {
          "output_type": "execute_result",
          "data": {
            "text/plain": [
              "GridSearchCV(cv=KFold(n_splits=5, random_state=None, shuffle=False),\n",
              "             estimator=KNeighborsClassifier(),\n",
              "             param_grid={'algorithm': ['auto', 'ball_tree', 'kd_tree', 'brute'],\n",
              "                         'leaf_size': [10, 30, 50, 80, 100],\n",
              "                         'n_jobs': [None, 1, 5, 10, 20],\n",
              "                         'n_neighbors': [5, 8, 10, 15],\n",
              "                         'weights': ['uniform', 'distance']})"
            ]
          },
          "metadata": {},
          "execution_count": 50
        }
      ]
    },
    {
      "cell_type": "code",
      "source": [
        "clf.best_params_"
      ],
      "metadata": {
        "colab": {
          "base_uri": "https://localhost:8080/"
        },
        "id": "HlEBgjPI-MTK",
        "outputId": "cc429cb0-7f46-48f5-cfa4-46b5bcd9d045"
      },
      "execution_count": null,
      "outputs": [
        {
          "output_type": "execute_result",
          "data": {
            "text/plain": [
              "{'algorithm': 'auto',\n",
              " 'leaf_size': 10,\n",
              " 'n_jobs': None,\n",
              " 'n_neighbors': 15,\n",
              " 'weights': 'distance'}"
            ]
          },
          "metadata": {},
          "execution_count": 51
        }
      ]
    },
    {
      "cell_type": "code",
      "source": [
        "# Mengaktifkan/memanggil/membuat fungsi klasifikasi KNN\n",
        "KNN = KNeighborsClassifier(algorithm='auto', leaf_size=10, n_jobs=None, n_neighbors=15, weights='distance')"
      ],
      "metadata": {
        "id": "IccjpIPuB1XZ"
      },
      "execution_count": null,
      "outputs": []
    },
    {
      "cell_type": "code",
      "source": [
        "# Call the metrics function\n",
        "scores = cross_validate(KNN, features, target.values.ravel(), cv=kf, scoring='f1_macro')\n",
        "print(scores['test_score'])\n",
        "avg = 0\n",
        "for i in scores['test_score']:\n",
        "  avg += i\n",
        "print(\"Average score: \" + str(avg/len(scores['test_score'])))"
      ],
      "metadata": {
        "colab": {
          "base_uri": "https://localhost:8080/"
        },
        "id": "-E7tSBhPCDlU",
        "outputId": "eb26c720-5dea-4223-93e3-dd6ed54521ca"
      },
      "execution_count": null,
      "outputs": [
        {
          "output_type": "stream",
          "name": "stdout",
          "text": [
            "[0.88719296 0.87330766 0.86076079 0.88515737 0.87770505]\n",
            "Average score: 0.8768247646722868\n"
          ]
        }
      ]
    },
    {
      "cell_type": "markdown",
      "source": [
        "### [7] Analisis"
      ],
      "metadata": {
        "id": "0bJvYH9F38uw"
      }
    },
    {
      "cell_type": "markdown",
      "source": [
        "19\\. [7] Dari keempat variasi model (Decision Tree, Random Forest, Naive Bayes, dan KNN) yang sudah Anda coba, manakah model yang memiliki performa terbaik? Berikan analisis Anda!"
      ],
      "metadata": {
        "id": "ER7H289m3-Cv"
      }
    },
    {
      "cell_type": "markdown",
      "source": [
        "> Jawaban: Agar adil pertama kita akan mencoba membandingkan variasi model tersebut dengan tanpa menggunakan parameter tuning / dengan parameter default dari setiap variasi model.\n",
        "\n",
        "*   Decision Tree = 0.8304214176867484\n",
        "*   Random Forest = 0.8728690745929679\n",
        "*   Naive Bayes = 0.7778798959718598\n",
        "*   KNN = 0.8392190398971264\n",
        "\n",
        "Sementara berikut adalah nilai-nilai dari setiap variasi model dengan dilakukan parameter tuning. (Kecuali Naive Bayes, karena parameternya sulit untuk dituning)\n",
        "\n",
        "\n",
        "*   Decision Tree = 0.8348089668415177\n",
        "*   Random Forest = 0.8777588718962216\n",
        "*   Naive Bayes = 0.7778798959718598\n",
        "*   KNN = 0.8768247646722868\n",
        "\n",
        "Berdasarkan semua nilai tersebut dapat dilihat baik ketika parameter default ataupun setelah melakukan parameter tuning **Random Forest** memberikan nilai paling baik diantara variasi model yang lain.\n",
        "\n",
        "Hal ini terjadi karena kasus yang kita coba selesaikan merupakan sebuah kasus classifier supervised yang sudah memiliki target benar. Kasus-kasus dengan tipe seperti itu tidak cocok diselesaikan oleh KNN yang biasanya ditujukan untuk unsupervised learning. Hal tersebut menyisakan kita dengan 3 variasi model. Random Forest kemungkinan besar akan menghasilkan yang lebih baik dibandingkan dengan Decision Tree biasa karena pada dasarnya Random Forest merupakan repeated Decision Tree sehingga hasil yang diberikan oleh Random Forest akan lebih baik dibandingkan dengan Decision Tree. Sementara untuk Naive Bayes memiliki nilai yang kecil karena Naive Bayes memiliki asumsi dasar bahwa setiap fitur yang mempengaruhi target bersifat independen, padahal belum tentu seperti itu. Hal ini kerap menyebabkan probabilitas suatu klasifikasi terpengaruh, dimana model Naive Bayes melakukan klasifikasi berdasarkan probabilitas tersebut. Pada data kita sendiri setiap fitur memang tidak 100% independen terhadap satu sama lain.\n",
        "\n",
        "Oleh karena itulah, untuk kasus yang sedang kita kerjakan model yang memiliki nilai paling besar adalah Random Forest.\n",
        "\n",
        "\n",
        "\n",
        "\n",
        "\n",
        ">"
      ],
      "metadata": {
        "id": "eReK2O-s4X-m"
      }
    }
  ]
}