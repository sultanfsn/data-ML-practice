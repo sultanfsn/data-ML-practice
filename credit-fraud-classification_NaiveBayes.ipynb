{
  "nbformat": 4,
  "nbformat_minor": 0,
  "metadata": {
    "colab": {
      "provenance": []
    },
    "kernelspec": {
      "name": "python3",
      "display_name": "Python 3"
    },
    "language_info": {
      "name": "python"
    }
  },
  "cells": [
    {
      "cell_type": "code",
      "metadata": {
        "id": "Z918TwXXmrLt"
      },
      "source": [
        "import pandas as pd"
      ],
      "execution_count": null,
      "outputs": []
    },
    {
      "cell_type": "code",
      "metadata": {
        "colab": {
          "base_uri": "https://localhost:8080/"
        },
        "id": "j96BuhHTmzj0",
        "outputId": "bb3ca31c-4775-495e-802b-e0d12eb2ffc8"
      },
      "source": [
        "!pip install pyspark\n",
        "from pyspark.sql.functions import *\n",
        "from pyspark.ml import Pipeline\n",
        "from pyspark.ml.feature import VectorAssembler\n",
        "from pyspark.ml.feature import  StringIndexer"
      ],
      "execution_count": null,
      "outputs": [
        {
          "output_type": "stream",
          "name": "stdout",
          "text": [
            "Looking in indexes: https://pypi.org/simple, https://us-python.pkg.dev/colab-wheels/public/simple/\n",
            "Requirement already satisfied: pyspark in /usr/local/lib/python3.8/dist-packages (3.3.1)\n",
            "Requirement already satisfied: py4j==0.10.9.5 in /usr/local/lib/python3.8/dist-packages (from pyspark) (0.10.9.5)\n"
          ]
        }
      ]
    },
    {
      "cell_type": "code",
      "metadata": {
        "id": "g7eSIL16m9cD"
      },
      "source": [
        "from pyspark.sql import SparkSession"
      ],
      "execution_count": null,
      "outputs": []
    },
    {
      "cell_type": "code",
      "metadata": {
        "colab": {
          "base_uri": "https://localhost:8080/",
          "height": 206
        },
        "id": "HeXSbU_6nHW1",
        "outputId": "31106091-0c4a-4424-fea3-cb6a58c88811"
      },
      "source": [
        "df = pd.read_csv(\"kredit.csv\")\n",
        "df.head()"
      ],
      "execution_count": null,
      "outputs": [
        {
          "output_type": "execute_result",
          "data": {
            "text/plain": [
              "  OCCUPATION   SALARY   INSTALLMENT   TENOR   USIA      MERK   STATUS\n",
              "0         O3  1790400        440000      35     46  KAWASAKI    LUNAS\n",
              "1         O3  1650000        506000      35     51     HONDA  TARIKAN\n",
              "2         O3  1942000        435000      36     44     HONDA    LUNAS\n",
              "3         O2  1104000        364000      36     32     HONDA    LUNAS\n",
              "4         O2   773452        175000      12     31     HONDA    LUNAS"
            ],
            "text/html": [
              "\n",
              "  <div id=\"df-bb4d642c-9004-4fb6-b7b2-78ddbc94615d\">\n",
              "    <div class=\"colab-df-container\">\n",
              "      <div>\n",
              "<style scoped>\n",
              "    .dataframe tbody tr th:only-of-type {\n",
              "        vertical-align: middle;\n",
              "    }\n",
              "\n",
              "    .dataframe tbody tr th {\n",
              "        vertical-align: top;\n",
              "    }\n",
              "\n",
              "    .dataframe thead th {\n",
              "        text-align: right;\n",
              "    }\n",
              "</style>\n",
              "<table border=\"1\" class=\"dataframe\">\n",
              "  <thead>\n",
              "    <tr style=\"text-align: right;\">\n",
              "      <th></th>\n",
              "      <th>OCCUPATION</th>\n",
              "      <th>SALARY</th>\n",
              "      <th>INSTALLMENT</th>\n",
              "      <th>TENOR</th>\n",
              "      <th>USIA</th>\n",
              "      <th>MERK</th>\n",
              "      <th>STATUS</th>\n",
              "    </tr>\n",
              "  </thead>\n",
              "  <tbody>\n",
              "    <tr>\n",
              "      <th>0</th>\n",
              "      <td>O3</td>\n",
              "      <td>1790400</td>\n",
              "      <td>440000</td>\n",
              "      <td>35</td>\n",
              "      <td>46</td>\n",
              "      <td>KAWASAKI</td>\n",
              "      <td>LUNAS</td>\n",
              "    </tr>\n",
              "    <tr>\n",
              "      <th>1</th>\n",
              "      <td>O3</td>\n",
              "      <td>1650000</td>\n",
              "      <td>506000</td>\n",
              "      <td>35</td>\n",
              "      <td>51</td>\n",
              "      <td>HONDA</td>\n",
              "      <td>TARIKAN</td>\n",
              "    </tr>\n",
              "    <tr>\n",
              "      <th>2</th>\n",
              "      <td>O3</td>\n",
              "      <td>1942000</td>\n",
              "      <td>435000</td>\n",
              "      <td>36</td>\n",
              "      <td>44</td>\n",
              "      <td>HONDA</td>\n",
              "      <td>LUNAS</td>\n",
              "    </tr>\n",
              "    <tr>\n",
              "      <th>3</th>\n",
              "      <td>O2</td>\n",
              "      <td>1104000</td>\n",
              "      <td>364000</td>\n",
              "      <td>36</td>\n",
              "      <td>32</td>\n",
              "      <td>HONDA</td>\n",
              "      <td>LUNAS</td>\n",
              "    </tr>\n",
              "    <tr>\n",
              "      <th>4</th>\n",
              "      <td>O2</td>\n",
              "      <td>773452</td>\n",
              "      <td>175000</td>\n",
              "      <td>12</td>\n",
              "      <td>31</td>\n",
              "      <td>HONDA</td>\n",
              "      <td>LUNAS</td>\n",
              "    </tr>\n",
              "  </tbody>\n",
              "</table>\n",
              "</div>\n",
              "      <button class=\"colab-df-convert\" onclick=\"convertToInteractive('df-bb4d642c-9004-4fb6-b7b2-78ddbc94615d')\"\n",
              "              title=\"Convert this dataframe to an interactive table.\"\n",
              "              style=\"display:none;\">\n",
              "        \n",
              "  <svg xmlns=\"http://www.w3.org/2000/svg\" height=\"24px\"viewBox=\"0 0 24 24\"\n",
              "       width=\"24px\">\n",
              "    <path d=\"M0 0h24v24H0V0z\" fill=\"none\"/>\n",
              "    <path d=\"M18.56 5.44l.94 2.06.94-2.06 2.06-.94-2.06-.94-.94-2.06-.94 2.06-2.06.94zm-11 1L8.5 8.5l.94-2.06 2.06-.94-2.06-.94L8.5 2.5l-.94 2.06-2.06.94zm10 10l.94 2.06.94-2.06 2.06-.94-2.06-.94-.94-2.06-.94 2.06-2.06.94z\"/><path d=\"M17.41 7.96l-1.37-1.37c-.4-.4-.92-.59-1.43-.59-.52 0-1.04.2-1.43.59L10.3 9.45l-7.72 7.72c-.78.78-.78 2.05 0 2.83L4 21.41c.39.39.9.59 1.41.59.51 0 1.02-.2 1.41-.59l7.78-7.78 2.81-2.81c.8-.78.8-2.07 0-2.86zM5.41 20L4 18.59l7.72-7.72 1.47 1.35L5.41 20z\"/>\n",
              "  </svg>\n",
              "      </button>\n",
              "      \n",
              "  <style>\n",
              "    .colab-df-container {\n",
              "      display:flex;\n",
              "      flex-wrap:wrap;\n",
              "      gap: 12px;\n",
              "    }\n",
              "\n",
              "    .colab-df-convert {\n",
              "      background-color: #E8F0FE;\n",
              "      border: none;\n",
              "      border-radius: 50%;\n",
              "      cursor: pointer;\n",
              "      display: none;\n",
              "      fill: #1967D2;\n",
              "      height: 32px;\n",
              "      padding: 0 0 0 0;\n",
              "      width: 32px;\n",
              "    }\n",
              "\n",
              "    .colab-df-convert:hover {\n",
              "      background-color: #E2EBFA;\n",
              "      box-shadow: 0px 1px 2px rgba(60, 64, 67, 0.3), 0px 1px 3px 1px rgba(60, 64, 67, 0.15);\n",
              "      fill: #174EA6;\n",
              "    }\n",
              "\n",
              "    [theme=dark] .colab-df-convert {\n",
              "      background-color: #3B4455;\n",
              "      fill: #D2E3FC;\n",
              "    }\n",
              "\n",
              "    [theme=dark] .colab-df-convert:hover {\n",
              "      background-color: #434B5C;\n",
              "      box-shadow: 0px 1px 3px 1px rgba(0, 0, 0, 0.15);\n",
              "      filter: drop-shadow(0px 1px 2px rgba(0, 0, 0, 0.3));\n",
              "      fill: #FFFFFF;\n",
              "    }\n",
              "  </style>\n",
              "\n",
              "      <script>\n",
              "        const buttonEl =\n",
              "          document.querySelector('#df-bb4d642c-9004-4fb6-b7b2-78ddbc94615d button.colab-df-convert');\n",
              "        buttonEl.style.display =\n",
              "          google.colab.kernel.accessAllowed ? 'block' : 'none';\n",
              "\n",
              "        async function convertToInteractive(key) {\n",
              "          const element = document.querySelector('#df-bb4d642c-9004-4fb6-b7b2-78ddbc94615d');\n",
              "          const dataTable =\n",
              "            await google.colab.kernel.invokeFunction('convertToInteractive',\n",
              "                                                     [key], {});\n",
              "          if (!dataTable) return;\n",
              "\n",
              "          const docLinkHtml = 'Like what you see? Visit the ' +\n",
              "            '<a target=\"_blank\" href=https://colab.research.google.com/notebooks/data_table.ipynb>data table notebook</a>'\n",
              "            + ' to learn more about interactive tables.';\n",
              "          element.innerHTML = '';\n",
              "          dataTable['output_type'] = 'display_data';\n",
              "          await google.colab.output.renderOutput(dataTable, element);\n",
              "          const docLink = document.createElement('div');\n",
              "          docLink.innerHTML = docLinkHtml;\n",
              "          element.appendChild(docLink);\n",
              "        }\n",
              "      </script>\n",
              "    </div>\n",
              "  </div>\n",
              "  "
            ]
          },
          "metadata": {},
          "execution_count": 8
        }
      ]
    },
    {
      "cell_type": "code",
      "metadata": {
        "id": "GcH5yWPenhSy"
      },
      "source": [
        "spark = SparkSession.builder.master(\"local[*]\").getOrCreate() #Sets the Spark master URL to run locally."
      ],
      "execution_count": null,
      "outputs": []
    },
    {
      "cell_type": "code",
      "metadata": {
        "colab": {
          "base_uri": "https://localhost:8080/"
        },
        "id": "G5gu-_2ZnoM7",
        "outputId": "5f722f7f-0ad4-48f4-ec01-a5528a335226"
      },
      "source": [
        "kredit_df = spark.createDataFrame(df)  #Create DataFrame\n",
        "kredit_df.show(5)"
      ],
      "execution_count": null,
      "outputs": [
        {
          "output_type": "stream",
          "name": "stdout",
          "text": [
            "+----------+-------+------------+------+-----+--------+-------+\n",
            "|OCCUPATION| SALARY| INSTALLMENT| TENOR| USIA|    MERK| STATUS|\n",
            "+----------+-------+------------+------+-----+--------+-------+\n",
            "|        O3|1790400|      440000|    35|   46|KAWASAKI|  LUNAS|\n",
            "|        O3|1650000|      506000|    35|   51|   HONDA|TARIKAN|\n",
            "|        O3|1942000|      435000|    36|   44|   HONDA|  LUNAS|\n",
            "|        O2|1104000|      364000|    36|   32|   HONDA|  LUNAS|\n",
            "|        O2| 773452|      175000|    12|   31|   HONDA|  LUNAS|\n",
            "+----------+-------+------------+------+-----+--------+-------+\n",
            "only showing top 5 rows\n",
            "\n"
          ]
        }
      ]
    },
    {
      "cell_type": "code",
      "metadata": {
        "id": "QJIfUINRrjrz"
      },
      "source": [
        "indexers = [StringIndexer(inputCol=\"OCCUPATION\", outputCol = \"OCCUPATION_index\"),\n",
        "           StringIndexer(inputCol=\" SALARY\", outputCol = \"SALARY_index\"),\n",
        "           StringIndexer(inputCol=\" INSTALLMENT\", outputCol = \"INSTALLMENT_index\"),\n",
        "           StringIndexer(inputCol=\" TENOR\", outputCol = \"TENOR_index\"),\n",
        "           StringIndexer(inputCol=\" USIA\", outputCol = \"USIA_index\"),\n",
        "           StringIndexer(inputCol=\" MERK\", outputCol = \"MERK_index\"),\n",
        "           StringIndexer(inputCol=\" STATUS\", outputCol = \"label\")]"
      ],
      "execution_count": null,
      "outputs": []
    },
    {
      "cell_type": "code",
      "metadata": {
        "id": "kX0ok6FXz-Hi"
      },
      "source": [
        "pipeline = Pipeline(stages=indexers)\n",
        "indexed_kredit_df = pipeline.fit(kredit_df).transform(kredit_df)"
      ],
      "execution_count": null,
      "outputs": []
    },
    {
      "cell_type": "code",
      "metadata": {
        "colab": {
          "base_uri": "https://localhost:8080/"
        },
        "id": "H4gRnXSc3ksx",
        "outputId": "e89d784a-195d-4669-c933-2c473ae8cfa4"
      },
      "source": [
        "indexed_kredit_df.show(5,False)"
      ],
      "execution_count": null,
      "outputs": [
        {
          "output_type": "stream",
          "name": "stdout",
          "text": [
            "+----------+-------+------------+------+-----+--------+-------+----------------+------------+-----------------+-----------+----------+----------+-----+\n",
            "|OCCUPATION| SALARY| INSTALLMENT| TENOR| USIA| MERK   | STATUS|OCCUPATION_index|SALARY_index|INSTALLMENT_index|TENOR_index|USIA_index|MERK_index|label|\n",
            "+----------+-------+------------+------+-----+--------+-------+----------------+------------+-----------------+-----------+----------+----------+-----+\n",
            "|O3        |1790400|440000      |35    |46   |KAWASAKI|LUNAS  |0.0             |1090.0      |10.0             |1.0        |16.0      |1.0       |0.0  |\n",
            "|O3        |1650000|506000      |35    |51   |HONDA   |TARIKAN|0.0             |79.0        |127.0            |1.0        |27.0      |2.0       |1.0  |\n",
            "|O3        |1942000|435000      |36    |44   |HONDA   |LUNAS  |0.0             |1172.0      |35.0             |0.0        |13.0      |2.0       |0.0  |\n",
            "|O2        |1104000|364000      |36    |32   |HONDA   |LUNAS  |1.0             |94.0        |39.0             |0.0        |9.0       |2.0       |0.0  |\n",
            "|O2        |773452 |175000      |12    |31   |HONDA   |LUNAS  |1.0             |1484.0      |277.0            |6.0        |23.0      |2.0       |0.0  |\n",
            "+----------+-------+------------+------+-----+--------+-------+----------------+------------+-----------------+-----------+----------+----------+-----+\n",
            "only showing top 5 rows\n",
            "\n"
          ]
        }
      ]
    },
    {
      "cell_type": "code",
      "metadata": {
        "id": "ymfaBPG70RqE"
      },
      "source": [
        "vectorAssembler = VectorAssembler(inputCols = [\"OCCUPATION_index\", \"MERK_index\"],outputCol = \"features\")\n",
        "vindexed_kredit_df = vectorAssembler.transform(indexed_kredit_df)"
      ],
      "execution_count": null,
      "outputs": []
    },
    {
      "cell_type": "code",
      "metadata": {
        "colab": {
          "base_uri": "https://localhost:8080/"
        },
        "id": "y_N-B5aL6_vM",
        "outputId": "f00d3474-b133-44ea-ebca-4c4bcc66bf32"
      },
      "source": [
        "vindexed_kredit_df.show(5, False)"
      ],
      "execution_count": null,
      "outputs": [
        {
          "output_type": "stream",
          "name": "stdout",
          "text": [
            "+----------+-------+------------+------+-----+--------+-------+----------------+------------+-----------------+-----------+----------+----------+-----+---------+\n",
            "|OCCUPATION| SALARY| INSTALLMENT| TENOR| USIA| MERK   | STATUS|OCCUPATION_index|SALARY_index|INSTALLMENT_index|TENOR_index|USIA_index|MERK_index|label|features |\n",
            "+----------+-------+------------+------+-----+--------+-------+----------------+------------+-----------------+-----------+----------+----------+-----+---------+\n",
            "|O3        |1790400|440000      |35    |46   |KAWASAKI|LUNAS  |0.0             |1090.0      |10.0             |1.0        |16.0      |1.0       |0.0  |[0.0,1.0]|\n",
            "|O3        |1650000|506000      |35    |51   |HONDA   |TARIKAN|0.0             |79.0        |127.0            |1.0        |27.0      |2.0       |1.0  |[0.0,2.0]|\n",
            "|O3        |1942000|435000      |36    |44   |HONDA   |LUNAS  |0.0             |1172.0      |35.0             |0.0        |13.0      |2.0       |0.0  |[0.0,2.0]|\n",
            "|O2        |1104000|364000      |36    |32   |HONDA   |LUNAS  |1.0             |94.0        |39.0             |0.0        |9.0       |2.0       |0.0  |[1.0,2.0]|\n",
            "|O2        |773452 |175000      |12    |31   |HONDA   |LUNAS  |1.0             |1484.0      |277.0            |6.0        |23.0      |2.0       |0.0  |[1.0,2.0]|\n",
            "+----------+-------+------------+------+-----+--------+-------+----------------+------------+-----------------+-----------+----------+----------+-----+---------+\n",
            "only showing top 5 rows\n",
            "\n"
          ]
        }
      ]
    },
    {
      "cell_type": "markdown",
      "metadata": {
        "id": "0rJzHv9n7Pg4"
      },
      "source": [
        "# Naive Bayes Calssification\n"
      ]
    },
    {
      "cell_type": "code",
      "metadata": {
        "id": "_QlFHBfh7m74"
      },
      "source": [
        "from pyspark.ml.classification import NaiveBayes\n",
        "from pyspark.ml.evaluation import MulticlassClassificationEvaluator"
      ],
      "execution_count": null,
      "outputs": []
    },
    {
      "cell_type": "code",
      "metadata": {
        "id": "wCUKag427SFH"
      },
      "source": [
        "splits = vindexed_kredit_df.randomSplit([0.6,0.4], 42)    # optional value 42 is seed for sampling\n",
        "train_df = splits[0]\n",
        "test_df = splits[1]"
      ],
      "execution_count": null,
      "outputs": []
    },
    {
      "cell_type": "code",
      "metadata": {
        "id": "ZqkpouDM7UIs"
      },
      "source": [
        "# Apply the Naive bayes classifier\n",
        "nb = NaiveBayes(modelType=\"multinomial\")"
      ],
      "execution_count": null,
      "outputs": []
    },
    {
      "cell_type": "code",
      "metadata": {
        "id": "Stgq6Qm-7ckF"
      },
      "source": [
        "# train the model\n",
        "nbmodel = nb.fit(train_df)"
      ],
      "execution_count": null,
      "outputs": []
    },
    {
      "cell_type": "code",
      "metadata": {
        "colab": {
          "base_uri": "https://localhost:8080/"
        },
        "id": "biqB_0_s7tiU",
        "outputId": "92c01793-12e4-492d-a0cd-441624489d7d"
      },
      "source": [
        "# select example rows to display.\n",
        "predictions_df = nbmodel.transform(test_df)\n",
        "predictions_df.show(5)"
      ],
      "execution_count": null,
      "outputs": [
        {
          "output_type": "stream",
          "name": "stdout",
          "text": [
            "+----------+-------+------------+------+-----+--------+-------+----------------+------------+-----------------+-----------+----------+----------+-----+---------+--------------------+--------------------+----------+\n",
            "|OCCUPATION| SALARY| INSTALLMENT| TENOR| USIA|    MERK| STATUS|OCCUPATION_index|SALARY_index|INSTALLMENT_index|TENOR_index|USIA_index|MERK_index|label| features|       rawPrediction|         probability|prediction|\n",
            "+----------+-------+------------+------+-----+--------+-------+----------------+------------+-----------------+-----------+----------+----------+-----+---------+--------------------+--------------------+----------+\n",
            "|        O1| 774700|      459000|    35|   41|KAWASAKI|  LUNAS|             2.0|      1486.0|             47.0|        1.0|       6.0|       1.0|  0.0|[2.0,1.0]|[-2.0072585577028...|[0.98087875099963...|       0.0|\n",
            "|        O1| 840400|      502000|    23|   58|  SUZUKI|TARIKAN|             2.0|      1501.0|             26.0|        4.0|      30.0|       0.0|  1.0|[2.0,0.0]|[-1.1229340178912...|[0.98937949168728...|       0.0|\n",
            "|        O1| 970000|      496000|    35|   53|  SUZUKI|  LUNAS|             2.0|      1554.0|             89.0|        1.0|      21.0|       0.0|  0.0|[2.0,0.0]|[-1.1229340178912...|[0.98937949168728...|       0.0|\n",
            "|        O1| 997400|      346000|    36|   61|  SUZUKI|  LUNAS|             2.0|      1560.0|            114.0|        0.0|      33.0|       0.0|  0.0|[2.0,0.0]|[-1.1229340178912...|[0.98937949168728...|       0.0|\n",
            "|        O1|1030700|      300000|    36|   44|  SUZUKI|  LUNAS|             2.0|       218.0|             64.0|        0.0|      13.0|       0.0|  0.0|[2.0,0.0]|[-1.1229340178912...|[0.98937949168728...|       0.0|\n",
            "+----------+-------+------------+------+-----+--------+-------+----------------+------------+-----------------+-----------+----------+----------+-----+---------+--------------------+--------------------+----------+\n",
            "only showing top 5 rows\n",
            "\n"
          ]
        }
      ]
    },
    {
      "cell_type": "code",
      "metadata": {
        "colab": {
          "base_uri": "https://localhost:8080/"
        },
        "id": "rLVm5LPp8MGF",
        "outputId": "d12d2e9d-fed0-43f1-fdfc-2cb9b20639c2"
      },
      "source": [
        "# compute accuracy on the test set\n",
        "evaluator = MulticlassClassificationEvaluator(labelCol=\"label\", predictionCol=\"prediction\", metricName=\"accuracy\")\n",
        "nbaccuracy = evaluator.evaluate(predictions_df)\n",
        "print(\"Test set accuracy = \" + str(nbaccuracy))"
      ],
      "execution_count": null,
      "outputs": [
        {
          "output_type": "stream",
          "name": "stdout",
          "text": [
            "Test set accuracy = 0.9405684754521964\n"
          ]
        }
      ]
    }
  ]
}